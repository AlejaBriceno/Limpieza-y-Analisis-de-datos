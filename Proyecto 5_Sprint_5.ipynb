{
 "cells": [
  {
   "cell_type": "markdown",
   "metadata": {},
   "source": [
    "# Compañia de Telefonia\n",
    "\n"
   ]
  },
  {
   "cell_type": "markdown",
   "metadata": {},
   "source": [
    "El propósito del proyecto es identificar cuál de los dos planes que maneja la compañía de telefonía genera más ingresos. Se realiza inicialmente un análisis exploratorio de los datos, después se hacen modificaciones/correcciones y se añaden nuevas columnas necesarias, y luego, con los datos limpios se procede a hacer el análisis a través de gráficos para finalmente probar la hipótesis y concluir los resultados."
   ]
  },
  {
   "cell_type": "markdown",
   "metadata": {
    "id": "MQi4IPy70q0y"
   },
   "source": [
    "## Inicialización"
   ]
  },
  {
   "cell_type": "code",
   "execution_count": null,
   "metadata": {
    "id": "MtYIuBxu0q0z"
   },
   "outputs": [],
   "source": [
    "# Cargar todas las librerías\n",
    "import pandas as pd\n",
    "import numpy as np\n",
    "from scipy import stats as st\n",
    "from matplotlib import pyplot as plt\n"
   ]
  },
  {
   "cell_type": "markdown",
   "metadata": {
    "id": "4ysWWC5i0q00"
   },
   "source": [
    "## Cargar datos"
   ]
  },
  {
   "cell_type": "code",
   "execution_count": null,
   "metadata": {
    "id": "CCqPW7rS0q01"
   },
   "outputs": [],
   "source": [
    "# Carga los archivos de datos en diferentes DataFrames\n",
    "\n",
    "df_calls=pd.read_csv('/datasets/megaline_calls.csv') \n",
    "\n",
    "df_internet=pd.read_csv('/datasets/megaline_internet.csv') \n",
    "\n",
    "df_messages=pd.read_csv('/datasets/megaline_messages.csv')\n",
    "\n",
    "df_plans=pd.read_csv('/datasets/megaline_plans.csv')\n",
    "\n",
    "df_users=pd.read_csv('/datasets/megaline_users.csv') "
   ]
  },
  {
   "cell_type": "markdown",
   "metadata": {
    "id": "69qqoJ3r0q01"
   },
   "source": [
    "## Visualización inicial de los datos"
   ]
  },
  {
   "cell_type": "code",
   "execution_count": null,
   "metadata": {},
   "outputs": [],
   "source": [
    "#Una vez cargados los DataFrames procedemos a revisar uno por uno, para identificar qué tipos de datos tienen y hacer correcciones mas adelante si es necesario"
   ]
  },
  {
   "cell_type": "markdown",
   "metadata": {},
   "source": [
    "### Usuarios"
   ]
  },
  {
   "cell_type": "code",
   "execution_count": null,
   "metadata": {},
   "outputs": [
    {
     "name": "stdout",
     "output_type": "stream",
     "text": [
      "<class 'pandas.core.frame.DataFrame'>\n",
      "RangeIndex: 500 entries, 0 to 499\n",
      "Data columns (total 8 columns):\n",
      " #   Column      Non-Null Count  Dtype \n",
      "---  ------      --------------  ----- \n",
      " 0   user_id     500 non-null    int64 \n",
      " 1   first_name  500 non-null    object\n",
      " 2   last_name   500 non-null    object\n",
      " 3   age         500 non-null    int64 \n",
      " 4   city        500 non-null    object\n",
      " 5   reg_date    500 non-null    object\n",
      " 6   plan        500 non-null    object\n",
      " 7   churn_date  34 non-null     object\n",
      "dtypes: int64(2), object(6)\n",
      "memory usage: 31.4+ KB\n"
     ]
    }
   ],
   "source": [
    "df_users.info()"
   ]
  },
  {
   "cell_type": "code",
   "execution_count": null,
   "metadata": {},
   "outputs": [
    {
     "data": {
      "text/html": [
       "<div>\n",
       "<style scoped>\n",
       "    .dataframe tbody tr th:only-of-type {\n",
       "        vertical-align: middle;\n",
       "    }\n",
       "\n",
       "    .dataframe tbody tr th {\n",
       "        vertical-align: top;\n",
       "    }\n",
       "\n",
       "    .dataframe thead th {\n",
       "        text-align: right;\n",
       "    }\n",
       "</style>\n",
       "<table border=\"1\" class=\"dataframe\">\n",
       "  <thead>\n",
       "    <tr style=\"text-align: right;\">\n",
       "      <th></th>\n",
       "      <th>user_id</th>\n",
       "      <th>first_name</th>\n",
       "      <th>last_name</th>\n",
       "      <th>age</th>\n",
       "      <th>city</th>\n",
       "      <th>reg_date</th>\n",
       "      <th>plan</th>\n",
       "      <th>churn_date</th>\n",
       "    </tr>\n",
       "  </thead>\n",
       "  <tbody>\n",
       "    <tr>\n",
       "      <th>0</th>\n",
       "      <td>1000</td>\n",
       "      <td>Anamaria</td>\n",
       "      <td>Bauer</td>\n",
       "      <td>45</td>\n",
       "      <td>Atlanta-Sandy Springs-Roswell, GA MSA</td>\n",
       "      <td>2018-12-24</td>\n",
       "      <td>ultimate</td>\n",
       "      <td>NaN</td>\n",
       "    </tr>\n",
       "    <tr>\n",
       "      <th>1</th>\n",
       "      <td>1001</td>\n",
       "      <td>Mickey</td>\n",
       "      <td>Wilkerson</td>\n",
       "      <td>28</td>\n",
       "      <td>Seattle-Tacoma-Bellevue, WA MSA</td>\n",
       "      <td>2018-08-13</td>\n",
       "      <td>surf</td>\n",
       "      <td>NaN</td>\n",
       "    </tr>\n",
       "    <tr>\n",
       "      <th>2</th>\n",
       "      <td>1002</td>\n",
       "      <td>Carlee</td>\n",
       "      <td>Hoffman</td>\n",
       "      <td>36</td>\n",
       "      <td>Las Vegas-Henderson-Paradise, NV MSA</td>\n",
       "      <td>2018-10-21</td>\n",
       "      <td>surf</td>\n",
       "      <td>NaN</td>\n",
       "    </tr>\n",
       "    <tr>\n",
       "      <th>3</th>\n",
       "      <td>1003</td>\n",
       "      <td>Reynaldo</td>\n",
       "      <td>Jenkins</td>\n",
       "      <td>52</td>\n",
       "      <td>Tulsa, OK MSA</td>\n",
       "      <td>2018-01-28</td>\n",
       "      <td>surf</td>\n",
       "      <td>NaN</td>\n",
       "    </tr>\n",
       "    <tr>\n",
       "      <th>4</th>\n",
       "      <td>1004</td>\n",
       "      <td>Leonila</td>\n",
       "      <td>Thompson</td>\n",
       "      <td>40</td>\n",
       "      <td>Seattle-Tacoma-Bellevue, WA MSA</td>\n",
       "      <td>2018-05-23</td>\n",
       "      <td>surf</td>\n",
       "      <td>NaN</td>\n",
       "    </tr>\n",
       "  </tbody>\n",
       "</table>\n",
       "</div>"
      ],
      "text/plain": [
       "   user_id first_name  last_name  age                                   city  \\\n",
       "0     1000   Anamaria      Bauer   45  Atlanta-Sandy Springs-Roswell, GA MSA   \n",
       "1     1001     Mickey  Wilkerson   28        Seattle-Tacoma-Bellevue, WA MSA   \n",
       "2     1002     Carlee    Hoffman   36   Las Vegas-Henderson-Paradise, NV MSA   \n",
       "3     1003   Reynaldo    Jenkins   52                          Tulsa, OK MSA   \n",
       "4     1004    Leonila   Thompson   40        Seattle-Tacoma-Bellevue, WA MSA   \n",
       "\n",
       "     reg_date      plan churn_date  \n",
       "0  2018-12-24  ultimate        NaN  \n",
       "1  2018-08-13      surf        NaN  \n",
       "2  2018-10-21      surf        NaN  \n",
       "3  2018-01-28      surf        NaN  \n",
       "4  2018-05-23      surf        NaN  "
      ]
     },
     "execution_count": 6,
     "metadata": {},
     "output_type": "execute_result"
    }
   ],
   "source": [
    "df_users.head()"
   ]
  },
  {
   "cell_type": "code",
   "execution_count": null,
   "metadata": {},
   "outputs": [
    {
     "data": {
      "text/plain": [
       "Timestamp('2018-12-31 00:00:00')"
      ]
     },
     "execution_count": 231,
     "metadata": {},
     "output_type": "execute_result"
    }
   ],
   "source": [
    "#Queremos saber si los usuarios llevan mas de un año con la compañia\n",
    "df_users['reg_date'].max()"
   ]
  },
  {
   "cell_type": "code",
   "execution_count": null,
   "metadata": {},
   "outputs": [
    {
     "data": {
      "text/plain": [
       "Timestamp('2018-01-01 00:00:00')"
      ]
     },
     "execution_count": 232,
     "metadata": {},
     "output_type": "execute_result"
    }
   ],
   "source": [
    "df_users['reg_date'].min()"
   ]
  },
  {
   "cell_type": "code",
   "execution_count": null,
   "metadata": {},
   "outputs": [
    {
     "data": {
      "text/plain": [
       "user_id         0\n",
       "first_name      0\n",
       "last_name       0\n",
       "age             0\n",
       "city            0\n",
       "reg_date        0\n",
       "plan            0\n",
       "churn_date    466\n",
       "dtype: int64"
      ]
     },
     "execution_count": 7,
     "metadata": {},
     "output_type": "execute_result"
    }
   ],
   "source": [
    "df_users.isna().sum()"
   ]
  },
  {
   "cell_type": "markdown",
   "metadata": {},
   "source": [
    "### Llamadas"
   ]
  },
  {
   "cell_type": "code",
   "execution_count": null,
   "metadata": {},
   "outputs": [
    {
     "name": "stdout",
     "output_type": "stream",
     "text": [
      "<class 'pandas.core.frame.DataFrame'>\n",
      "RangeIndex: 137735 entries, 0 to 137734\n",
      "Data columns (total 4 columns):\n",
      " #   Column     Non-Null Count   Dtype  \n",
      "---  ------     --------------   -----  \n",
      " 0   id         137735 non-null  object \n",
      " 1   user_id    137735 non-null  int64  \n",
      " 2   call_date  137735 non-null  object \n",
      " 3   duration   137735 non-null  float64\n",
      "dtypes: float64(1), int64(1), object(2)\n",
      "memory usage: 4.2+ MB\n"
     ]
    }
   ],
   "source": [
    "df_calls.info()"
   ]
  },
  {
   "cell_type": "code",
   "execution_count": null,
   "metadata": {},
   "outputs": [
    {
     "data": {
      "text/html": [
       "<div>\n",
       "<style scoped>\n",
       "    .dataframe tbody tr th:only-of-type {\n",
       "        vertical-align: middle;\n",
       "    }\n",
       "\n",
       "    .dataframe tbody tr th {\n",
       "        vertical-align: top;\n",
       "    }\n",
       "\n",
       "    .dataframe thead th {\n",
       "        text-align: right;\n",
       "    }\n",
       "</style>\n",
       "<table border=\"1\" class=\"dataframe\">\n",
       "  <thead>\n",
       "    <tr style=\"text-align: right;\">\n",
       "      <th></th>\n",
       "      <th>id</th>\n",
       "      <th>user_id</th>\n",
       "      <th>call_date</th>\n",
       "      <th>duration</th>\n",
       "    </tr>\n",
       "  </thead>\n",
       "  <tbody>\n",
       "    <tr>\n",
       "      <th>19782</th>\n",
       "      <td>1076_56</td>\n",
       "      <td>1076</td>\n",
       "      <td>2018-09-14</td>\n",
       "      <td>14.28</td>\n",
       "    </tr>\n",
       "    <tr>\n",
       "      <th>110455</th>\n",
       "      <td>1389_550</td>\n",
       "      <td>1389</td>\n",
       "      <td>2018-10-27</td>\n",
       "      <td>5.68</td>\n",
       "    </tr>\n",
       "    <tr>\n",
       "      <th>63606</th>\n",
       "      <td>1231_320</td>\n",
       "      <td>1231</td>\n",
       "      <td>2018-07-11</td>\n",
       "      <td>8.85</td>\n",
       "    </tr>\n",
       "    <tr>\n",
       "      <th>22724</th>\n",
       "      <td>1082_851</td>\n",
       "      <td>1082</td>\n",
       "      <td>2018-08-03</td>\n",
       "      <td>2.13</td>\n",
       "    </tr>\n",
       "    <tr>\n",
       "      <th>3633</th>\n",
       "      <td>1014_56</td>\n",
       "      <td>1014</td>\n",
       "      <td>2018-12-14</td>\n",
       "      <td>0.00</td>\n",
       "    </tr>\n",
       "  </tbody>\n",
       "</table>\n",
       "</div>"
      ],
      "text/plain": [
       "              id  user_id   call_date  duration\n",
       "19782    1076_56     1076  2018-09-14     14.28\n",
       "110455  1389_550     1389  2018-10-27      5.68\n",
       "63606   1231_320     1231  2018-07-11      8.85\n",
       "22724   1082_851     1082  2018-08-03      2.13\n",
       "3633     1014_56     1014  2018-12-14      0.00"
      ]
     },
     "execution_count": 9,
     "metadata": {},
     "output_type": "execute_result"
    }
   ],
   "source": [
    "df_calls.sample(5)"
   ]
  },
  {
   "cell_type": "code",
   "execution_count": null,
   "metadata": {},
   "outputs": [
    {
     "data": {
      "text/plain": [
       "id           0\n",
       "user_id      0\n",
       "call_date    0\n",
       "duration     0\n",
       "dtype: int64"
      ]
     },
     "execution_count": 10,
     "metadata": {},
     "output_type": "execute_result"
    }
   ],
   "source": [
    "df_calls.isna().sum()"
   ]
  },
  {
   "cell_type": "markdown",
   "metadata": {},
   "source": [
    "### Mensajes"
   ]
  },
  {
   "cell_type": "code",
   "execution_count": null,
   "metadata": {},
   "outputs": [
    {
     "name": "stdout",
     "output_type": "stream",
     "text": [
      "<class 'pandas.core.frame.DataFrame'>\n",
      "RangeIndex: 76051 entries, 0 to 76050\n",
      "Data columns (total 3 columns):\n",
      " #   Column        Non-Null Count  Dtype \n",
      "---  ------        --------------  ----- \n",
      " 0   id            76051 non-null  object\n",
      " 1   user_id       76051 non-null  int64 \n",
      " 2   message_date  76051 non-null  object\n",
      "dtypes: int64(1), object(2)\n",
      "memory usage: 1.7+ MB\n"
     ]
    }
   ],
   "source": [
    "df_messages.info()"
   ]
  },
  {
   "cell_type": "code",
   "execution_count": null,
   "metadata": {},
   "outputs": [
    {
     "data": {
      "text/html": [
       "<div>\n",
       "<style scoped>\n",
       "    .dataframe tbody tr th:only-of-type {\n",
       "        vertical-align: middle;\n",
       "    }\n",
       "\n",
       "    .dataframe tbody tr th {\n",
       "        vertical-align: top;\n",
       "    }\n",
       "\n",
       "    .dataframe thead th {\n",
       "        text-align: right;\n",
       "    }\n",
       "</style>\n",
       "<table border=\"1\" class=\"dataframe\">\n",
       "  <thead>\n",
       "    <tr style=\"text-align: right;\">\n",
       "      <th></th>\n",
       "      <th>id</th>\n",
       "      <th>user_id</th>\n",
       "      <th>message_date</th>\n",
       "    </tr>\n",
       "  </thead>\n",
       "  <tbody>\n",
       "    <tr>\n",
       "      <th>30802</th>\n",
       "      <td>1193_584</td>\n",
       "      <td>1193</td>\n",
       "      <td>2018-08-26</td>\n",
       "    </tr>\n",
       "    <tr>\n",
       "      <th>45776</th>\n",
       "      <td>1312_260</td>\n",
       "      <td>1312</td>\n",
       "      <td>2018-07-14</td>\n",
       "    </tr>\n",
       "    <tr>\n",
       "      <th>41003</th>\n",
       "      <td>1264_52</td>\n",
       "      <td>1264</td>\n",
       "      <td>2018-12-17</td>\n",
       "    </tr>\n",
       "    <tr>\n",
       "      <th>15502</th>\n",
       "      <td>1101_559</td>\n",
       "      <td>1101</td>\n",
       "      <td>2018-11-17</td>\n",
       "    </tr>\n",
       "    <tr>\n",
       "      <th>34414</th>\n",
       "      <td>1215_328</td>\n",
       "      <td>1215</td>\n",
       "      <td>2018-09-25</td>\n",
       "    </tr>\n",
       "  </tbody>\n",
       "</table>\n",
       "</div>"
      ],
      "text/plain": [
       "             id  user_id message_date\n",
       "30802  1193_584     1193   2018-08-26\n",
       "45776  1312_260     1312   2018-07-14\n",
       "41003   1264_52     1264   2018-12-17\n",
       "15502  1101_559     1101   2018-11-17\n",
       "34414  1215_328     1215   2018-09-25"
      ]
     },
     "execution_count": 12,
     "metadata": {},
     "output_type": "execute_result"
    }
   ],
   "source": [
    "df_messages.sample(5)"
   ]
  },
  {
   "cell_type": "code",
   "execution_count": null,
   "metadata": {},
   "outputs": [
    {
     "data": {
      "text/plain": [
       "id              0\n",
       "user_id         0\n",
       "message_date    0\n",
       "dtype: int64"
      ]
     },
     "execution_count": 13,
     "metadata": {},
     "output_type": "execute_result"
    }
   ],
   "source": [
    "df_messages.isna().sum()"
   ]
  },
  {
   "cell_type": "markdown",
   "metadata": {},
   "source": [
    "### Internet"
   ]
  },
  {
   "cell_type": "code",
   "execution_count": null,
   "metadata": {},
   "outputs": [
    {
     "name": "stdout",
     "output_type": "stream",
     "text": [
      "<class 'pandas.core.frame.DataFrame'>\n",
      "RangeIndex: 104825 entries, 0 to 104824\n",
      "Data columns (total 4 columns):\n",
      " #   Column        Non-Null Count   Dtype  \n",
      "---  ------        --------------   -----  \n",
      " 0   id            104825 non-null  object \n",
      " 1   user_id       104825 non-null  int64  \n",
      " 2   session_date  104825 non-null  object \n",
      " 3   mb_used       104825 non-null  float64\n",
      "dtypes: float64(1), int64(1), object(2)\n",
      "memory usage: 3.2+ MB\n"
     ]
    }
   ],
   "source": [
    "df_internet.info()"
   ]
  },
  {
   "cell_type": "code",
   "execution_count": null,
   "metadata": {},
   "outputs": [
    {
     "data": {
      "text/html": [
       "<div>\n",
       "<style scoped>\n",
       "    .dataframe tbody tr th:only-of-type {\n",
       "        vertical-align: middle;\n",
       "    }\n",
       "\n",
       "    .dataframe tbody tr th {\n",
       "        vertical-align: top;\n",
       "    }\n",
       "\n",
       "    .dataframe thead th {\n",
       "        text-align: right;\n",
       "    }\n",
       "</style>\n",
       "<table border=\"1\" class=\"dataframe\">\n",
       "  <thead>\n",
       "    <tr style=\"text-align: right;\">\n",
       "      <th></th>\n",
       "      <th>id</th>\n",
       "      <th>user_id</th>\n",
       "      <th>session_date</th>\n",
       "      <th>mb_used</th>\n",
       "    </tr>\n",
       "  </thead>\n",
       "  <tbody>\n",
       "    <tr>\n",
       "      <th>94970</th>\n",
       "      <td>1443_40</td>\n",
       "      <td>1443</td>\n",
       "      <td>2018-11-30</td>\n",
       "      <td>175.53</td>\n",
       "    </tr>\n",
       "    <tr>\n",
       "      <th>25372</th>\n",
       "      <td>1117_305</td>\n",
       "      <td>1117</td>\n",
       "      <td>2018-12-05</td>\n",
       "      <td>599.99</td>\n",
       "    </tr>\n",
       "    <tr>\n",
       "      <th>102094</th>\n",
       "      <td>1489_106</td>\n",
       "      <td>1489</td>\n",
       "      <td>2018-10-05</td>\n",
       "      <td>0.00</td>\n",
       "    </tr>\n",
       "    <tr>\n",
       "      <th>24937</th>\n",
       "      <td>1114_349</td>\n",
       "      <td>1114</td>\n",
       "      <td>2018-12-24</td>\n",
       "      <td>65.64</td>\n",
       "    </tr>\n",
       "    <tr>\n",
       "      <th>14747</th>\n",
       "      <td>1067_67</td>\n",
       "      <td>1067</td>\n",
       "      <td>2018-12-09</td>\n",
       "      <td>241.90</td>\n",
       "    </tr>\n",
       "  </tbody>\n",
       "</table>\n",
       "</div>"
      ],
      "text/plain": [
       "              id  user_id session_date  mb_used\n",
       "94970    1443_40     1443   2018-11-30   175.53\n",
       "25372   1117_305     1117   2018-12-05   599.99\n",
       "102094  1489_106     1489   2018-10-05     0.00\n",
       "24937   1114_349     1114   2018-12-24    65.64\n",
       "14747    1067_67     1067   2018-12-09   241.90"
      ]
     },
     "execution_count": 15,
     "metadata": {},
     "output_type": "execute_result"
    }
   ],
   "source": [
    "df_internet.sample(5)"
   ]
  },
  {
   "cell_type": "code",
   "execution_count": null,
   "metadata": {},
   "outputs": [
    {
     "data": {
      "text/plain": [
       "id              0\n",
       "user_id         0\n",
       "session_date    0\n",
       "mb_used         0\n",
       "dtype: int64"
      ]
     },
     "execution_count": 16,
     "metadata": {},
     "output_type": "execute_result"
    }
   ],
   "source": [
    "df_internet.isna().sum()"
   ]
  },
  {
   "cell_type": "markdown",
   "metadata": {},
   "source": [
    "De esta primera parte se puede observar que solamente el DF de los usuarios contiene datos vacios, los cuales representan si el plan estaba o no activo en el momento en que se tomó la base de datos. Esa información no seria relevante en nuestro análisis por lo que se procederá a eliminar. Adicional, se transfomaran las fechas a tipo de dato datetime y se incluiran columnas en todos los DF para saber el mes de cada fecha. Para el DF de planes, se incluira una columna donde muestre los gb consumidos, dado que el cobro se hace en esta medida."
   ]
  },
  {
   "cell_type": "markdown",
   "metadata": {},
   "source": [
    "## Preparación de los datos\n"
   ]
  },
  {
   "cell_type": "markdown",
   "metadata": {
    "id": "ohBhimvH0q01"
   },
   "source": [
    "### Tarifas"
   ]
  },
  {
   "cell_type": "markdown",
   "metadata": {
    "id": "R3C05i1l0q03"
   },
   "source": [
    "#### Corregir datos"
   ]
  },
  {
   "cell_type": "markdown",
   "metadata": {
    "id": "Y7SVmjGn0q03"
   },
   "source": [
    "Para esta tabla no es necesario hacer ninguna correccion."
   ]
  },
  {
   "cell_type": "markdown",
   "metadata": {
    "id": "LJir7bml0q03"
   },
   "source": [
    "#### Enriquecer los datos"
   ]
  },
  {
   "cell_type": "markdown",
   "metadata": {},
   "source": [
    "Se incluirá una columna en gb para poder ejecutar posteriormente de manera mas sencilla los cobros."
   ]
  },
  {
   "cell_type": "code",
   "execution_count": null,
   "metadata": {},
   "outputs": [],
   "source": [
    "df_plans['gb_per_month_included']=df_plans['mb_per_month_included']/1000\n",
    "df_plans['gb_per_month_included']=np.floor(df_plans['gb_per_month_included'])\n"
   ]
  },
  {
   "cell_type": "code",
   "execution_count": null,
   "metadata": {},
   "outputs": [
    {
     "data": {
      "text/html": [
       "<div>\n",
       "<style scoped>\n",
       "    .dataframe tbody tr th:only-of-type {\n",
       "        vertical-align: middle;\n",
       "    }\n",
       "\n",
       "    .dataframe tbody tr th {\n",
       "        vertical-align: top;\n",
       "    }\n",
       "\n",
       "    .dataframe thead th {\n",
       "        text-align: right;\n",
       "    }\n",
       "</style>\n",
       "<table border=\"1\" class=\"dataframe\">\n",
       "  <thead>\n",
       "    <tr style=\"text-align: right;\">\n",
       "      <th></th>\n",
       "      <th>messages_included</th>\n",
       "      <th>mb_per_month_included</th>\n",
       "      <th>minutes_included</th>\n",
       "      <th>usd_monthly_pay</th>\n",
       "      <th>usd_per_gb</th>\n",
       "      <th>usd_per_message</th>\n",
       "      <th>usd_per_minute</th>\n",
       "      <th>plan_name</th>\n",
       "      <th>gb_per_month_included</th>\n",
       "    </tr>\n",
       "  </thead>\n",
       "  <tbody>\n",
       "    <tr>\n",
       "      <th>0</th>\n",
       "      <td>50</td>\n",
       "      <td>15360</td>\n",
       "      <td>500</td>\n",
       "      <td>20</td>\n",
       "      <td>10</td>\n",
       "      <td>0.03</td>\n",
       "      <td>0.03</td>\n",
       "      <td>surf</td>\n",
       "      <td>15.0</td>\n",
       "    </tr>\n",
       "    <tr>\n",
       "      <th>1</th>\n",
       "      <td>1000</td>\n",
       "      <td>30720</td>\n",
       "      <td>3000</td>\n",
       "      <td>70</td>\n",
       "      <td>7</td>\n",
       "      <td>0.01</td>\n",
       "      <td>0.01</td>\n",
       "      <td>ultimate</td>\n",
       "      <td>30.0</td>\n",
       "    </tr>\n",
       "  </tbody>\n",
       "</table>\n",
       "</div>"
      ],
      "text/plain": [
       "   messages_included  mb_per_month_included  minutes_included  \\\n",
       "0                 50                  15360               500   \n",
       "1               1000                  30720              3000   \n",
       "\n",
       "   usd_monthly_pay  usd_per_gb  usd_per_message  usd_per_minute plan_name  \\\n",
       "0               20          10             0.03            0.03      surf   \n",
       "1               70           7             0.01            0.01  ultimate   \n",
       "\n",
       "   gb_per_month_included  \n",
       "0                   15.0  \n",
       "1                   30.0  "
      ]
     },
     "execution_count": 18,
     "metadata": {},
     "output_type": "execute_result"
    }
   ],
   "source": [
    "df_plans.head()"
   ]
  },
  {
   "cell_type": "code",
   "execution_count": null,
   "metadata": {},
   "outputs": [
    {
     "data": {
      "text/html": [
       "<div>\n",
       "<style scoped>\n",
       "    .dataframe tbody tr th:only-of-type {\n",
       "        vertical-align: middle;\n",
       "    }\n",
       "\n",
       "    .dataframe tbody tr th {\n",
       "        vertical-align: top;\n",
       "    }\n",
       "\n",
       "    .dataframe thead th {\n",
       "        text-align: right;\n",
       "    }\n",
       "</style>\n",
       "<table border=\"1\" class=\"dataframe\">\n",
       "  <thead>\n",
       "    <tr style=\"text-align: right;\">\n",
       "      <th></th>\n",
       "      <th>messages_included</th>\n",
       "      <th>mb_per_month_included</th>\n",
       "      <th>minutes_included</th>\n",
       "      <th>usd_monthly_pay</th>\n",
       "      <th>usd_per_gb</th>\n",
       "      <th>usd_per_message</th>\n",
       "      <th>usd_per_minute</th>\n",
       "      <th>plan</th>\n",
       "      <th>gb_per_month_included</th>\n",
       "    </tr>\n",
       "  </thead>\n",
       "  <tbody>\n",
       "    <tr>\n",
       "      <th>0</th>\n",
       "      <td>50</td>\n",
       "      <td>15360</td>\n",
       "      <td>500</td>\n",
       "      <td>20</td>\n",
       "      <td>10</td>\n",
       "      <td>0.03</td>\n",
       "      <td>0.03</td>\n",
       "      <td>surf</td>\n",
       "      <td>15.0</td>\n",
       "    </tr>\n",
       "    <tr>\n",
       "      <th>1</th>\n",
       "      <td>1000</td>\n",
       "      <td>30720</td>\n",
       "      <td>3000</td>\n",
       "      <td>70</td>\n",
       "      <td>7</td>\n",
       "      <td>0.01</td>\n",
       "      <td>0.01</td>\n",
       "      <td>ultimate</td>\n",
       "      <td>30.0</td>\n",
       "    </tr>\n",
       "  </tbody>\n",
       "</table>\n",
       "</div>"
      ],
      "text/plain": [
       "   messages_included  mb_per_month_included  minutes_included  \\\n",
       "0                 50                  15360               500   \n",
       "1               1000                  30720              3000   \n",
       "\n",
       "   usd_monthly_pay  usd_per_gb  usd_per_message  usd_per_minute      plan  \\\n",
       "0               20          10             0.03            0.03      surf   \n",
       "1               70           7             0.01            0.01  ultimate   \n",
       "\n",
       "   gb_per_month_included  \n",
       "0                   15.0  \n",
       "1                   30.0  "
      ]
     },
     "execution_count": 19,
     "metadata": {},
     "output_type": "execute_result"
    }
   ],
   "source": [
    "#se cambia el nombre de la columna plan_name a plan para que coincida con el DF de los usuarios\n",
    "\n",
    "df_plans=df_plans.rename(columns={'plan_name': 'plan'})\n",
    "\n",
    "df_plans.head()"
   ]
  },
  {
   "cell_type": "markdown",
   "metadata": {
    "id": "1n2X6WXf0q04"
   },
   "source": [
    "### Usuarios/as"
   ]
  },
  {
   "cell_type": "markdown",
   "metadata": {
    "id": "BX5FQh_I0q06"
   },
   "source": [
    "#### Corregir los datos"
   ]
  },
  {
   "cell_type": "code",
   "execution_count": null,
   "metadata": {},
   "outputs": [
    {
     "name": "stdout",
     "output_type": "stream",
     "text": [
      "<class 'pandas.core.frame.DataFrame'>\n",
      "RangeIndex: 500 entries, 0 to 499\n",
      "Data columns (total 8 columns):\n",
      " #   Column      Non-Null Count  Dtype         \n",
      "---  ------      --------------  -----         \n",
      " 0   user_id     500 non-null    int64         \n",
      " 1   first_name  500 non-null    object        \n",
      " 2   last_name   500 non-null    object        \n",
      " 3   age         500 non-null    int64         \n",
      " 4   city        500 non-null    object        \n",
      " 5   reg_date    500 non-null    datetime64[ns]\n",
      " 6   plan        500 non-null    object        \n",
      " 7   churn_date  34 non-null     object        \n",
      "dtypes: datetime64[ns](1), int64(2), object(5)\n",
      "memory usage: 31.4+ KB\n"
     ]
    }
   ],
   "source": [
    "# Se cambiará el tipo de dato de la fecha de subcripcion de cada usuario por tipo datatime\n",
    "\n",
    "df_users['reg_date']=pd.to_datetime(df_users['reg_date'], errors='coerce')\n",
    "\n",
    "df_users.info()"
   ]
  },
  {
   "cell_type": "markdown",
   "metadata": {
    "id": "ycwuARJp0q07"
   },
   "source": [
    "#### Enriquecer los datos"
   ]
  },
  {
   "cell_type": "code",
   "execution_count": null,
   "metadata": {},
   "outputs": [],
   "source": [
    "# Se eliminará la columna \"churn_date\", porque considero que no es informacion relevante para lo que se nos solicita originalmente que es conocer el consumo por mes\n",
    "\n",
    "df_users=df_users.drop(labels=['churn_date'], axis='columns')"
   ]
  },
  {
   "cell_type": "code",
   "execution_count": null,
   "metadata": {
    "id": "iq0AaBS90q08"
   },
   "outputs": [
    {
     "name": "stdout",
     "output_type": "stream",
     "text": [
      "<class 'pandas.core.frame.DataFrame'>\n",
      "RangeIndex: 500 entries, 0 to 499\n",
      "Data columns (total 7 columns):\n",
      " #   Column      Non-Null Count  Dtype         \n",
      "---  ------      --------------  -----         \n",
      " 0   user_id     500 non-null    int64         \n",
      " 1   first_name  500 non-null    object        \n",
      " 2   last_name   500 non-null    object        \n",
      " 3   age         500 non-null    int64         \n",
      " 4   city        500 non-null    object        \n",
      " 5   reg_date    500 non-null    datetime64[ns]\n",
      " 6   plan        500 non-null    object        \n",
      "dtypes: datetime64[ns](1), int64(2), object(4)\n",
      "memory usage: 27.5+ KB\n"
     ]
    }
   ],
   "source": [
    "df_users.info()\n",
    "\n"
   ]
  },
  {
   "cell_type": "code",
   "execution_count": null,
   "metadata": {},
   "outputs": [
    {
     "data": {
      "text/html": [
       "<div>\n",
       "<style scoped>\n",
       "    .dataframe tbody tr th:only-of-type {\n",
       "        vertical-align: middle;\n",
       "    }\n",
       "\n",
       "    .dataframe tbody tr th {\n",
       "        vertical-align: top;\n",
       "    }\n",
       "\n",
       "    .dataframe thead th {\n",
       "        text-align: right;\n",
       "    }\n",
       "</style>\n",
       "<table border=\"1\" class=\"dataframe\">\n",
       "  <thead>\n",
       "    <tr style=\"text-align: right;\">\n",
       "      <th></th>\n",
       "      <th>user_id</th>\n",
       "      <th>first_name</th>\n",
       "      <th>last_name</th>\n",
       "      <th>age</th>\n",
       "      <th>city</th>\n",
       "      <th>reg_date</th>\n",
       "      <th>plan</th>\n",
       "    </tr>\n",
       "  </thead>\n",
       "  <tbody>\n",
       "    <tr>\n",
       "      <th>0</th>\n",
       "      <td>1000</td>\n",
       "      <td>Anamaria</td>\n",
       "      <td>Bauer</td>\n",
       "      <td>45</td>\n",
       "      <td>Atlanta-Sandy Springs-Roswell, GA MSA</td>\n",
       "      <td>2018-12-24</td>\n",
       "      <td>ultimate</td>\n",
       "    </tr>\n",
       "    <tr>\n",
       "      <th>1</th>\n",
       "      <td>1001</td>\n",
       "      <td>Mickey</td>\n",
       "      <td>Wilkerson</td>\n",
       "      <td>28</td>\n",
       "      <td>Seattle-Tacoma-Bellevue, WA MSA</td>\n",
       "      <td>2018-08-13</td>\n",
       "      <td>surf</td>\n",
       "    </tr>\n",
       "    <tr>\n",
       "      <th>2</th>\n",
       "      <td>1002</td>\n",
       "      <td>Carlee</td>\n",
       "      <td>Hoffman</td>\n",
       "      <td>36</td>\n",
       "      <td>Las Vegas-Henderson-Paradise, NV MSA</td>\n",
       "      <td>2018-10-21</td>\n",
       "      <td>surf</td>\n",
       "    </tr>\n",
       "    <tr>\n",
       "      <th>3</th>\n",
       "      <td>1003</td>\n",
       "      <td>Reynaldo</td>\n",
       "      <td>Jenkins</td>\n",
       "      <td>52</td>\n",
       "      <td>Tulsa, OK MSA</td>\n",
       "      <td>2018-01-28</td>\n",
       "      <td>surf</td>\n",
       "    </tr>\n",
       "    <tr>\n",
       "      <th>4</th>\n",
       "      <td>1004</td>\n",
       "      <td>Leonila</td>\n",
       "      <td>Thompson</td>\n",
       "      <td>40</td>\n",
       "      <td>Seattle-Tacoma-Bellevue, WA MSA</td>\n",
       "      <td>2018-05-23</td>\n",
       "      <td>surf</td>\n",
       "    </tr>\n",
       "  </tbody>\n",
       "</table>\n",
       "</div>"
      ],
      "text/plain": [
       "   user_id first_name  last_name  age                                   city  \\\n",
       "0     1000   Anamaria      Bauer   45  Atlanta-Sandy Springs-Roswell, GA MSA   \n",
       "1     1001     Mickey  Wilkerson   28        Seattle-Tacoma-Bellevue, WA MSA   \n",
       "2     1002     Carlee    Hoffman   36   Las Vegas-Henderson-Paradise, NV MSA   \n",
       "3     1003   Reynaldo    Jenkins   52                          Tulsa, OK MSA   \n",
       "4     1004    Leonila   Thompson   40        Seattle-Tacoma-Bellevue, WA MSA   \n",
       "\n",
       "    reg_date      plan  \n",
       "0 2018-12-24  ultimate  \n",
       "1 2018-08-13      surf  \n",
       "2 2018-10-21      surf  \n",
       "3 2018-01-28      surf  \n",
       "4 2018-05-23      surf  "
      ]
     },
     "execution_count": 23,
     "metadata": {},
     "output_type": "execute_result"
    }
   ],
   "source": [
    "df_users.head()"
   ]
  },
  {
   "cell_type": "markdown",
   "metadata": {
    "id": "o7MeKCid0q08"
   },
   "source": [
    "### Llamadas"
   ]
  },
  {
   "cell_type": "markdown",
   "metadata": {
    "id": "S7hzxmbX0q0-"
   },
   "source": [
    "#### Corregir los datos"
   ]
  },
  {
   "cell_type": "code",
   "execution_count": null,
   "metadata": {
    "id": "S2r8xA4f0q0-"
   },
   "outputs": [
    {
     "name": "stdout",
     "output_type": "stream",
     "text": [
      "<class 'pandas.core.frame.DataFrame'>\n",
      "RangeIndex: 137735 entries, 0 to 137734\n",
      "Data columns (total 4 columns):\n",
      " #   Column     Non-Null Count   Dtype         \n",
      "---  ------     --------------   -----         \n",
      " 0   id         137735 non-null  object        \n",
      " 1   user_id    137735 non-null  int64         \n",
      " 2   call_date  137735 non-null  datetime64[ns]\n",
      " 3   duration   137735 non-null  float64       \n",
      "dtypes: datetime64[ns](1), float64(1), int64(1), object(1)\n",
      "memory usage: 4.2+ MB\n"
     ]
    }
   ],
   "source": [
    "# Se cambiará el tipo de dato de la fecha en datatime\n",
    "\n",
    "df_calls['call_date']=pd.to_datetime(df_calls['call_date'], errors='coerce')\n",
    "\n",
    "df_calls.info()"
   ]
  },
  {
   "cell_type": "markdown",
   "metadata": {
    "id": "KrMgTrlG0q0_"
   },
   "source": [
    "#### Enriquecer los datos"
   ]
  },
  {
   "cell_type": "code",
   "execution_count": null,
   "metadata": {
    "id": "iZ1avpA_0q0_"
   },
   "outputs": [
    {
     "data": {
      "text/html": [
       "<div>\n",
       "<style scoped>\n",
       "    .dataframe tbody tr th:only-of-type {\n",
       "        vertical-align: middle;\n",
       "    }\n",
       "\n",
       "    .dataframe tbody tr th {\n",
       "        vertical-align: top;\n",
       "    }\n",
       "\n",
       "    .dataframe thead th {\n",
       "        text-align: right;\n",
       "    }\n",
       "</style>\n",
       "<table border=\"1\" class=\"dataframe\">\n",
       "  <thead>\n",
       "    <tr style=\"text-align: right;\">\n",
       "      <th></th>\n",
       "      <th>id</th>\n",
       "      <th>user_id</th>\n",
       "      <th>call_date</th>\n",
       "      <th>duration</th>\n",
       "      <th>month</th>\n",
       "    </tr>\n",
       "  </thead>\n",
       "  <tbody>\n",
       "    <tr>\n",
       "      <th>0</th>\n",
       "      <td>1000_93</td>\n",
       "      <td>1000</td>\n",
       "      <td>2018-12-27</td>\n",
       "      <td>8.52</td>\n",
       "      <td>12</td>\n",
       "    </tr>\n",
       "    <tr>\n",
       "      <th>1</th>\n",
       "      <td>1000_145</td>\n",
       "      <td>1000</td>\n",
       "      <td>2018-12-27</td>\n",
       "      <td>13.66</td>\n",
       "      <td>12</td>\n",
       "    </tr>\n",
       "    <tr>\n",
       "      <th>2</th>\n",
       "      <td>1000_247</td>\n",
       "      <td>1000</td>\n",
       "      <td>2018-12-27</td>\n",
       "      <td>14.48</td>\n",
       "      <td>12</td>\n",
       "    </tr>\n",
       "    <tr>\n",
       "      <th>3</th>\n",
       "      <td>1000_309</td>\n",
       "      <td>1000</td>\n",
       "      <td>2018-12-28</td>\n",
       "      <td>5.76</td>\n",
       "      <td>12</td>\n",
       "    </tr>\n",
       "    <tr>\n",
       "      <th>4</th>\n",
       "      <td>1000_380</td>\n",
       "      <td>1000</td>\n",
       "      <td>2018-12-30</td>\n",
       "      <td>4.22</td>\n",
       "      <td>12</td>\n",
       "    </tr>\n",
       "    <tr>\n",
       "      <th>...</th>\n",
       "      <td>...</td>\n",
       "      <td>...</td>\n",
       "      <td>...</td>\n",
       "      <td>...</td>\n",
       "      <td>...</td>\n",
       "    </tr>\n",
       "    <tr>\n",
       "      <th>137730</th>\n",
       "      <td>1499_199</td>\n",
       "      <td>1499</td>\n",
       "      <td>2018-11-21</td>\n",
       "      <td>8.72</td>\n",
       "      <td>11</td>\n",
       "    </tr>\n",
       "    <tr>\n",
       "      <th>137731</th>\n",
       "      <td>1499_200</td>\n",
       "      <td>1499</td>\n",
       "      <td>2018-10-20</td>\n",
       "      <td>10.89</td>\n",
       "      <td>10</td>\n",
       "    </tr>\n",
       "    <tr>\n",
       "      <th>137732</th>\n",
       "      <td>1499_201</td>\n",
       "      <td>1499</td>\n",
       "      <td>2018-09-21</td>\n",
       "      <td>8.12</td>\n",
       "      <td>9</td>\n",
       "    </tr>\n",
       "    <tr>\n",
       "      <th>137733</th>\n",
       "      <td>1499_202</td>\n",
       "      <td>1499</td>\n",
       "      <td>2018-10-10</td>\n",
       "      <td>0.37</td>\n",
       "      <td>10</td>\n",
       "    </tr>\n",
       "    <tr>\n",
       "      <th>137734</th>\n",
       "      <td>1499_203</td>\n",
       "      <td>1499</td>\n",
       "      <td>2018-12-29</td>\n",
       "      <td>13.86</td>\n",
       "      <td>12</td>\n",
       "    </tr>\n",
       "  </tbody>\n",
       "</table>\n",
       "<p>137735 rows × 5 columns</p>\n",
       "</div>"
      ],
      "text/plain": [
       "              id  user_id  call_date  duration  month\n",
       "0        1000_93     1000 2018-12-27      8.52     12\n",
       "1       1000_145     1000 2018-12-27     13.66     12\n",
       "2       1000_247     1000 2018-12-27     14.48     12\n",
       "3       1000_309     1000 2018-12-28      5.76     12\n",
       "4       1000_380     1000 2018-12-30      4.22     12\n",
       "...          ...      ...        ...       ...    ...\n",
       "137730  1499_199     1499 2018-11-21      8.72     11\n",
       "137731  1499_200     1499 2018-10-20     10.89     10\n",
       "137732  1499_201     1499 2018-09-21      8.12      9\n",
       "137733  1499_202     1499 2018-10-10      0.37     10\n",
       "137734  1499_203     1499 2018-12-29     13.86     12\n",
       "\n",
       "[137735 rows x 5 columns]"
      ]
     },
     "execution_count": 25,
     "metadata": {},
     "output_type": "execute_result"
    }
   ],
   "source": [
    "#Como se hizo anteriormente, se incluira la columna del mes que es la informacion que nos solicitan \n",
    "df_calls['month']=df_calls['call_date'].dt.month\n",
    "\n",
    "df_calls"
   ]
  },
  {
   "cell_type": "code",
   "execution_count": null,
   "metadata": {},
   "outputs": [
    {
     "data": {
      "text/html": [
       "<div>\n",
       "<style scoped>\n",
       "    .dataframe tbody tr th:only-of-type {\n",
       "        vertical-align: middle;\n",
       "    }\n",
       "\n",
       "    .dataframe tbody tr th {\n",
       "        vertical-align: top;\n",
       "    }\n",
       "\n",
       "    .dataframe thead th {\n",
       "        text-align: right;\n",
       "    }\n",
       "</style>\n",
       "<table border=\"1\" class=\"dataframe\">\n",
       "  <thead>\n",
       "    <tr style=\"text-align: right;\">\n",
       "      <th></th>\n",
       "      <th>id</th>\n",
       "      <th>user_id</th>\n",
       "      <th>call_date</th>\n",
       "      <th>duration</th>\n",
       "      <th>month</th>\n",
       "    </tr>\n",
       "  </thead>\n",
       "  <tbody>\n",
       "    <tr>\n",
       "      <th>0</th>\n",
       "      <td>1000_93</td>\n",
       "      <td>1000</td>\n",
       "      <td>2018-12-27</td>\n",
       "      <td>9.0</td>\n",
       "      <td>12</td>\n",
       "    </tr>\n",
       "    <tr>\n",
       "      <th>1</th>\n",
       "      <td>1000_145</td>\n",
       "      <td>1000</td>\n",
       "      <td>2018-12-27</td>\n",
       "      <td>14.0</td>\n",
       "      <td>12</td>\n",
       "    </tr>\n",
       "    <tr>\n",
       "      <th>2</th>\n",
       "      <td>1000_247</td>\n",
       "      <td>1000</td>\n",
       "      <td>2018-12-27</td>\n",
       "      <td>15.0</td>\n",
       "      <td>12</td>\n",
       "    </tr>\n",
       "    <tr>\n",
       "      <th>3</th>\n",
       "      <td>1000_309</td>\n",
       "      <td>1000</td>\n",
       "      <td>2018-12-28</td>\n",
       "      <td>6.0</td>\n",
       "      <td>12</td>\n",
       "    </tr>\n",
       "    <tr>\n",
       "      <th>4</th>\n",
       "      <td>1000_380</td>\n",
       "      <td>1000</td>\n",
       "      <td>2018-12-30</td>\n",
       "      <td>5.0</td>\n",
       "      <td>12</td>\n",
       "    </tr>\n",
       "    <tr>\n",
       "      <th>...</th>\n",
       "      <td>...</td>\n",
       "      <td>...</td>\n",
       "      <td>...</td>\n",
       "      <td>...</td>\n",
       "      <td>...</td>\n",
       "    </tr>\n",
       "    <tr>\n",
       "      <th>137730</th>\n",
       "      <td>1499_199</td>\n",
       "      <td>1499</td>\n",
       "      <td>2018-11-21</td>\n",
       "      <td>9.0</td>\n",
       "      <td>11</td>\n",
       "    </tr>\n",
       "    <tr>\n",
       "      <th>137731</th>\n",
       "      <td>1499_200</td>\n",
       "      <td>1499</td>\n",
       "      <td>2018-10-20</td>\n",
       "      <td>11.0</td>\n",
       "      <td>10</td>\n",
       "    </tr>\n",
       "    <tr>\n",
       "      <th>137732</th>\n",
       "      <td>1499_201</td>\n",
       "      <td>1499</td>\n",
       "      <td>2018-09-21</td>\n",
       "      <td>9.0</td>\n",
       "      <td>9</td>\n",
       "    </tr>\n",
       "    <tr>\n",
       "      <th>137733</th>\n",
       "      <td>1499_202</td>\n",
       "      <td>1499</td>\n",
       "      <td>2018-10-10</td>\n",
       "      <td>1.0</td>\n",
       "      <td>10</td>\n",
       "    </tr>\n",
       "    <tr>\n",
       "      <th>137734</th>\n",
       "      <td>1499_203</td>\n",
       "      <td>1499</td>\n",
       "      <td>2018-12-29</td>\n",
       "      <td>14.0</td>\n",
       "      <td>12</td>\n",
       "    </tr>\n",
       "  </tbody>\n",
       "</table>\n",
       "<p>137735 rows × 5 columns</p>\n",
       "</div>"
      ],
      "text/plain": [
       "              id  user_id  call_date  duration  month\n",
       "0        1000_93     1000 2018-12-27       9.0     12\n",
       "1       1000_145     1000 2018-12-27      14.0     12\n",
       "2       1000_247     1000 2018-12-27      15.0     12\n",
       "3       1000_309     1000 2018-12-28       6.0     12\n",
       "4       1000_380     1000 2018-12-30       5.0     12\n",
       "...          ...      ...        ...       ...    ...\n",
       "137730  1499_199     1499 2018-11-21       9.0     11\n",
       "137731  1499_200     1499 2018-10-20      11.0     10\n",
       "137732  1499_201     1499 2018-09-21       9.0      9\n",
       "137733  1499_202     1499 2018-10-10       1.0     10\n",
       "137734  1499_203     1499 2018-12-29      14.0     12\n",
       "\n",
       "[137735 rows x 5 columns]"
      ]
     },
     "execution_count": 26,
     "metadata": {},
     "output_type": "execute_result"
    }
   ],
   "source": [
    "#Se hace necesario redondear hacia arriba la duracion de las llamadas, ya que se cobran los minutos por llamada individual\n",
    "\n",
    "df_calls['duration']=np.ceil(df_calls['duration'])\n",
    "\n",
    "df_calls\n"
   ]
  },
  {
   "cell_type": "markdown",
   "metadata": {
    "id": "mOUZSi180q0_"
   },
   "source": [
    "### Mensajes"
   ]
  },
  {
   "cell_type": "markdown",
   "metadata": {
    "id": "Sprfak900q1B"
   },
   "source": [
    "#### Corregir los datos"
   ]
  },
  {
   "cell_type": "code",
   "execution_count": null,
   "metadata": {
    "id": "vsllvkoa0q1B"
   },
   "outputs": [
    {
     "name": "stdout",
     "output_type": "stream",
     "text": [
      "<class 'pandas.core.frame.DataFrame'>\n",
      "RangeIndex: 76051 entries, 0 to 76050\n",
      "Data columns (total 3 columns):\n",
      " #   Column        Non-Null Count  Dtype         \n",
      "---  ------        --------------  -----         \n",
      " 0   id            76051 non-null  object        \n",
      " 1   user_id       76051 non-null  int64         \n",
      " 2   message_date  76051 non-null  datetime64[ns]\n",
      "dtypes: datetime64[ns](1), int64(1), object(1)\n",
      "memory usage: 1.7+ MB\n"
     ]
    }
   ],
   "source": [
    "#Se cambiara el tipo de dato de la fecha a datetime\n",
    "df_messages['message_date']=pd.to_datetime(df_messages['message_date'], errors='coerce')\n",
    "\n",
    "df_messages.info()"
   ]
  },
  {
   "cell_type": "markdown",
   "metadata": {
    "id": "HvLid7iD0q1B"
   },
   "source": [
    "#### Enriquecer los datos"
   ]
  },
  {
   "cell_type": "code",
   "execution_count": null,
   "metadata": {
    "id": "zYEXZac10q1C"
   },
   "outputs": [
    {
     "data": {
      "text/html": [
       "<div>\n",
       "<style scoped>\n",
       "    .dataframe tbody tr th:only-of-type {\n",
       "        vertical-align: middle;\n",
       "    }\n",
       "\n",
       "    .dataframe tbody tr th {\n",
       "        vertical-align: top;\n",
       "    }\n",
       "\n",
       "    .dataframe thead th {\n",
       "        text-align: right;\n",
       "    }\n",
       "</style>\n",
       "<table border=\"1\" class=\"dataframe\">\n",
       "  <thead>\n",
       "    <tr style=\"text-align: right;\">\n",
       "      <th></th>\n",
       "      <th>id</th>\n",
       "      <th>user_id</th>\n",
       "      <th>message_date</th>\n",
       "      <th>month</th>\n",
       "    </tr>\n",
       "  </thead>\n",
       "  <tbody>\n",
       "    <tr>\n",
       "      <th>0</th>\n",
       "      <td>1000_125</td>\n",
       "      <td>1000</td>\n",
       "      <td>2018-12-27</td>\n",
       "      <td>12</td>\n",
       "    </tr>\n",
       "    <tr>\n",
       "      <th>1</th>\n",
       "      <td>1000_160</td>\n",
       "      <td>1000</td>\n",
       "      <td>2018-12-31</td>\n",
       "      <td>12</td>\n",
       "    </tr>\n",
       "    <tr>\n",
       "      <th>2</th>\n",
       "      <td>1000_223</td>\n",
       "      <td>1000</td>\n",
       "      <td>2018-12-31</td>\n",
       "      <td>12</td>\n",
       "    </tr>\n",
       "    <tr>\n",
       "      <th>3</th>\n",
       "      <td>1000_251</td>\n",
       "      <td>1000</td>\n",
       "      <td>2018-12-27</td>\n",
       "      <td>12</td>\n",
       "    </tr>\n",
       "    <tr>\n",
       "      <th>4</th>\n",
       "      <td>1000_255</td>\n",
       "      <td>1000</td>\n",
       "      <td>2018-12-26</td>\n",
       "      <td>12</td>\n",
       "    </tr>\n",
       "  </tbody>\n",
       "</table>\n",
       "</div>"
      ],
      "text/plain": [
       "         id  user_id message_date  month\n",
       "0  1000_125     1000   2018-12-27     12\n",
       "1  1000_160     1000   2018-12-31     12\n",
       "2  1000_223     1000   2018-12-31     12\n",
       "3  1000_251     1000   2018-12-27     12\n",
       "4  1000_255     1000   2018-12-26     12"
      ]
     },
     "execution_count": 28,
     "metadata": {},
     "output_type": "execute_result"
    }
   ],
   "source": [
    "#Se incluira una nueva columna con el mes respectivo\n",
    "\n",
    "df_messages['month']=df_messages['message_date'].dt.month\n",
    "\n",
    "df_messages.head()"
   ]
  },
  {
   "cell_type": "markdown",
   "metadata": {
    "id": "bStkaxn40q1C"
   },
   "source": [
    "### Internet"
   ]
  },
  {
   "cell_type": "markdown",
   "metadata": {
    "id": "yA0tkPFg0q1D"
   },
   "source": [
    "#### Corregir los datos"
   ]
  },
  {
   "cell_type": "code",
   "execution_count": null,
   "metadata": {
    "id": "zVeanzdd0q1E"
   },
   "outputs": [
    {
     "name": "stdout",
     "output_type": "stream",
     "text": [
      "<class 'pandas.core.frame.DataFrame'>\n",
      "RangeIndex: 104825 entries, 0 to 104824\n",
      "Data columns (total 4 columns):\n",
      " #   Column        Non-Null Count   Dtype         \n",
      "---  ------        --------------   -----         \n",
      " 0   id            104825 non-null  object        \n",
      " 1   user_id       104825 non-null  int64         \n",
      " 2   session_date  104825 non-null  datetime64[ns]\n",
      " 3   mb_used       104825 non-null  float64       \n",
      "dtypes: datetime64[ns](1), float64(1), int64(1), object(1)\n",
      "memory usage: 3.2+ MB\n"
     ]
    }
   ],
   "source": [
    "#Se repite el mismo procedimiento para modificar el tipo de dato de la fecha\n",
    "\n",
    "df_internet['session_date']=pd.to_datetime(df_internet['session_date'], errors='coerce')\n",
    "\n",
    "df_internet.info()"
   ]
  },
  {
   "cell_type": "markdown",
   "metadata": {
    "id": "e8_mLF4a0q1E"
   },
   "source": [
    "#### Enriquecer los datos"
   ]
  },
  {
   "cell_type": "code",
   "execution_count": null,
   "metadata": {
    "id": "ESiYPIEK0q1E"
   },
   "outputs": [
    {
     "data": {
      "text/html": [
       "<div>\n",
       "<style scoped>\n",
       "    .dataframe tbody tr th:only-of-type {\n",
       "        vertical-align: middle;\n",
       "    }\n",
       "\n",
       "    .dataframe tbody tr th {\n",
       "        vertical-align: top;\n",
       "    }\n",
       "\n",
       "    .dataframe thead th {\n",
       "        text-align: right;\n",
       "    }\n",
       "</style>\n",
       "<table border=\"1\" class=\"dataframe\">\n",
       "  <thead>\n",
       "    <tr style=\"text-align: right;\">\n",
       "      <th></th>\n",
       "      <th>id</th>\n",
       "      <th>user_id</th>\n",
       "      <th>session_date</th>\n",
       "      <th>mb_used</th>\n",
       "      <th>month</th>\n",
       "    </tr>\n",
       "  </thead>\n",
       "  <tbody>\n",
       "    <tr>\n",
       "      <th>104820</th>\n",
       "      <td>1499_215</td>\n",
       "      <td>1499</td>\n",
       "      <td>2018-10-20</td>\n",
       "      <td>218.06</td>\n",
       "      <td>10</td>\n",
       "    </tr>\n",
       "    <tr>\n",
       "      <th>104821</th>\n",
       "      <td>1499_216</td>\n",
       "      <td>1499</td>\n",
       "      <td>2018-12-30</td>\n",
       "      <td>304.72</td>\n",
       "      <td>12</td>\n",
       "    </tr>\n",
       "    <tr>\n",
       "      <th>104822</th>\n",
       "      <td>1499_217</td>\n",
       "      <td>1499</td>\n",
       "      <td>2018-09-22</td>\n",
       "      <td>292.75</td>\n",
       "      <td>9</td>\n",
       "    </tr>\n",
       "    <tr>\n",
       "      <th>104823</th>\n",
       "      <td>1499_218</td>\n",
       "      <td>1499</td>\n",
       "      <td>2018-12-07</td>\n",
       "      <td>0.00</td>\n",
       "      <td>12</td>\n",
       "    </tr>\n",
       "    <tr>\n",
       "      <th>104824</th>\n",
       "      <td>1499_219</td>\n",
       "      <td>1499</td>\n",
       "      <td>2018-12-24</td>\n",
       "      <td>758.31</td>\n",
       "      <td>12</td>\n",
       "    </tr>\n",
       "  </tbody>\n",
       "</table>\n",
       "</div>"
      ],
      "text/plain": [
       "              id  user_id session_date  mb_used  month\n",
       "104820  1499_215     1499   2018-10-20   218.06     10\n",
       "104821  1499_216     1499   2018-12-30   304.72     12\n",
       "104822  1499_217     1499   2018-09-22   292.75      9\n",
       "104823  1499_218     1499   2018-12-07     0.00     12\n",
       "104824  1499_219     1499   2018-12-24   758.31     12"
      ]
     },
     "execution_count": 30,
     "metadata": {},
     "output_type": "execute_result"
    }
   ],
   "source": [
    "#como se hizo anteriormente, se incluira la columna del mes que es la informacion que nos solicitan \n",
    "df_internet['month']=df_internet['session_date'].dt.month\n",
    "\n",
    "df_internet.tail()"
   ]
  },
  {
   "cell_type": "code",
   "execution_count": null,
   "metadata": {},
   "outputs": [
    {
     "data": {
      "text/html": [
       "<div>\n",
       "<style scoped>\n",
       "    .dataframe tbody tr th:only-of-type {\n",
       "        vertical-align: middle;\n",
       "    }\n",
       "\n",
       "    .dataframe tbody tr th {\n",
       "        vertical-align: top;\n",
       "    }\n",
       "\n",
       "    .dataframe thead th {\n",
       "        text-align: right;\n",
       "    }\n",
       "</style>\n",
       "<table border=\"1\" class=\"dataframe\">\n",
       "  <thead>\n",
       "    <tr style=\"text-align: right;\">\n",
       "      <th></th>\n",
       "      <th>id</th>\n",
       "      <th>user_id</th>\n",
       "      <th>session_date</th>\n",
       "      <th>mb_used</th>\n",
       "      <th>month</th>\n",
       "      <th>gb_used</th>\n",
       "    </tr>\n",
       "  </thead>\n",
       "  <tbody>\n",
       "    <tr>\n",
       "      <th>0</th>\n",
       "      <td>1000_13</td>\n",
       "      <td>1000</td>\n",
       "      <td>2018-12-29</td>\n",
       "      <td>89.86</td>\n",
       "      <td>12</td>\n",
       "      <td>0.08986</td>\n",
       "    </tr>\n",
       "    <tr>\n",
       "      <th>1</th>\n",
       "      <td>1000_204</td>\n",
       "      <td>1000</td>\n",
       "      <td>2018-12-31</td>\n",
       "      <td>0.00</td>\n",
       "      <td>12</td>\n",
       "      <td>0.00000</td>\n",
       "    </tr>\n",
       "    <tr>\n",
       "      <th>2</th>\n",
       "      <td>1000_379</td>\n",
       "      <td>1000</td>\n",
       "      <td>2018-12-28</td>\n",
       "      <td>660.40</td>\n",
       "      <td>12</td>\n",
       "      <td>0.66040</td>\n",
       "    </tr>\n",
       "    <tr>\n",
       "      <th>3</th>\n",
       "      <td>1000_413</td>\n",
       "      <td>1000</td>\n",
       "      <td>2018-12-26</td>\n",
       "      <td>270.99</td>\n",
       "      <td>12</td>\n",
       "      <td>0.27099</td>\n",
       "    </tr>\n",
       "    <tr>\n",
       "      <th>4</th>\n",
       "      <td>1000_442</td>\n",
       "      <td>1000</td>\n",
       "      <td>2018-12-27</td>\n",
       "      <td>880.22</td>\n",
       "      <td>12</td>\n",
       "      <td>0.88022</td>\n",
       "    </tr>\n",
       "    <tr>\n",
       "      <th>...</th>\n",
       "      <td>...</td>\n",
       "      <td>...</td>\n",
       "      <td>...</td>\n",
       "      <td>...</td>\n",
       "      <td>...</td>\n",
       "      <td>...</td>\n",
       "    </tr>\n",
       "    <tr>\n",
       "      <th>104820</th>\n",
       "      <td>1499_215</td>\n",
       "      <td>1499</td>\n",
       "      <td>2018-10-20</td>\n",
       "      <td>218.06</td>\n",
       "      <td>10</td>\n",
       "      <td>0.21806</td>\n",
       "    </tr>\n",
       "    <tr>\n",
       "      <th>104821</th>\n",
       "      <td>1499_216</td>\n",
       "      <td>1499</td>\n",
       "      <td>2018-12-30</td>\n",
       "      <td>304.72</td>\n",
       "      <td>12</td>\n",
       "      <td>0.30472</td>\n",
       "    </tr>\n",
       "    <tr>\n",
       "      <th>104822</th>\n",
       "      <td>1499_217</td>\n",
       "      <td>1499</td>\n",
       "      <td>2018-09-22</td>\n",
       "      <td>292.75</td>\n",
       "      <td>9</td>\n",
       "      <td>0.29275</td>\n",
       "    </tr>\n",
       "    <tr>\n",
       "      <th>104823</th>\n",
       "      <td>1499_218</td>\n",
       "      <td>1499</td>\n",
       "      <td>2018-12-07</td>\n",
       "      <td>0.00</td>\n",
       "      <td>12</td>\n",
       "      <td>0.00000</td>\n",
       "    </tr>\n",
       "    <tr>\n",
       "      <th>104824</th>\n",
       "      <td>1499_219</td>\n",
       "      <td>1499</td>\n",
       "      <td>2018-12-24</td>\n",
       "      <td>758.31</td>\n",
       "      <td>12</td>\n",
       "      <td>0.75831</td>\n",
       "    </tr>\n",
       "  </tbody>\n",
       "</table>\n",
       "<p>104825 rows × 6 columns</p>\n",
       "</div>"
      ],
      "text/plain": [
       "              id  user_id session_date  mb_used  month  gb_used\n",
       "0        1000_13     1000   2018-12-29    89.86     12  0.08986\n",
       "1       1000_204     1000   2018-12-31     0.00     12  0.00000\n",
       "2       1000_379     1000   2018-12-28   660.40     12  0.66040\n",
       "3       1000_413     1000   2018-12-26   270.99     12  0.27099\n",
       "4       1000_442     1000   2018-12-27   880.22     12  0.88022\n",
       "...          ...      ...          ...      ...    ...      ...\n",
       "104820  1499_215     1499   2018-10-20   218.06     10  0.21806\n",
       "104821  1499_216     1499   2018-12-30   304.72     12  0.30472\n",
       "104822  1499_217     1499   2018-09-22   292.75      9  0.29275\n",
       "104823  1499_218     1499   2018-12-07     0.00     12  0.00000\n",
       "104824  1499_219     1499   2018-12-24   758.31     12  0.75831\n",
       "\n",
       "[104825 rows x 6 columns]"
      ]
     },
     "execution_count": 31,
     "metadata": {},
     "output_type": "execute_result"
    }
   ],
   "source": [
    "# se incluye adicional otra columna que indique el consumo en gb\n",
    "df_internet['gb_used']=(df_internet['mb_used']/1000)\n",
    "\n",
    "\n",
    "df_internet"
   ]
  },
  {
   "cell_type": "markdown",
   "metadata": {},
   "source": [
    "Del item 1.4 se concluye que se modificaron los datos para que las fechas quedaran en tupo datetime, adicional, se elimino una columna en el df_users porque no se considera relevante en el estudio y se redonderaon los valores de las llamadas para solo contar los minutos sin tener en cuenta los segundos."
   ]
  },
  {
   "cell_type": "markdown",
   "metadata": {
    "id": "3UA2cqIW0q1E"
   },
   "source": [
    "## Estudiar las condiciones de las tarifas"
   ]
  },
  {
   "cell_type": "code",
   "execution_count": null,
   "metadata": {
    "id": "i409op8p0q1F"
   },
   "outputs": [
    {
     "data": {
      "text/html": [
       "<div>\n",
       "<style scoped>\n",
       "    .dataframe tbody tr th:only-of-type {\n",
       "        vertical-align: middle;\n",
       "    }\n",
       "\n",
       "    .dataframe tbody tr th {\n",
       "        vertical-align: top;\n",
       "    }\n",
       "\n",
       "    .dataframe thead th {\n",
       "        text-align: right;\n",
       "    }\n",
       "</style>\n",
       "<table border=\"1\" class=\"dataframe\">\n",
       "  <thead>\n",
       "    <tr style=\"text-align: right;\">\n",
       "      <th></th>\n",
       "      <th>messages_included</th>\n",
       "      <th>mb_per_month_included</th>\n",
       "      <th>minutes_included</th>\n",
       "      <th>usd_monthly_pay</th>\n",
       "      <th>usd_per_gb</th>\n",
       "      <th>usd_per_message</th>\n",
       "      <th>usd_per_minute</th>\n",
       "      <th>plan</th>\n",
       "      <th>gb_per_month_included</th>\n",
       "    </tr>\n",
       "  </thead>\n",
       "  <tbody>\n",
       "    <tr>\n",
       "      <th>0</th>\n",
       "      <td>50</td>\n",
       "      <td>15360</td>\n",
       "      <td>500</td>\n",
       "      <td>20</td>\n",
       "      <td>10</td>\n",
       "      <td>0.03</td>\n",
       "      <td>0.03</td>\n",
       "      <td>surf</td>\n",
       "      <td>15.0</td>\n",
       "    </tr>\n",
       "    <tr>\n",
       "      <th>1</th>\n",
       "      <td>1000</td>\n",
       "      <td>30720</td>\n",
       "      <td>3000</td>\n",
       "      <td>70</td>\n",
       "      <td>7</td>\n",
       "      <td>0.01</td>\n",
       "      <td>0.01</td>\n",
       "      <td>ultimate</td>\n",
       "      <td>30.0</td>\n",
       "    </tr>\n",
       "  </tbody>\n",
       "</table>\n",
       "</div>"
      ],
      "text/plain": [
       "   messages_included  mb_per_month_included  minutes_included  \\\n",
       "0                 50                  15360               500   \n",
       "1               1000                  30720              3000   \n",
       "\n",
       "   usd_monthly_pay  usd_per_gb  usd_per_message  usd_per_minute      plan  \\\n",
       "0               20          10             0.03            0.03      surf   \n",
       "1               70           7             0.01            0.01  ultimate   \n",
       "\n",
       "   gb_per_month_included  \n",
       "0                   15.0  \n",
       "1                   30.0  "
      ]
     },
     "execution_count": 32,
     "metadata": {},
     "output_type": "execute_result"
    }
   ],
   "source": [
    "# Imprime las condiciones de la tarifa y asegúrate de que te quedan claras\n",
    "\n",
    "df_plans"
   ]
  },
  {
   "cell_type": "markdown",
   "metadata": {},
   "source": [
    "Se entiende que cobran por minuto y por gb usada al mes, las gb no se aproximan en cada dia porque se estaria estafando al usuario, mientras que las llamadas si se cobran por minuto independienemente si gasta 1s o 59s. Adicional a cada plan, hay tarifas extras, si el usuario excede el limite establecido para cada uno se le cobrará una tarifa adicional al pago mensual"
   ]
  },
  {
   "cell_type": "markdown",
   "metadata": {
    "id": "hMR1tP5d0q1F"
   },
   "source": [
    "## Agregar datos por usuario\n",
    "\n",
    "[Ahora que los datos están limpios, agrega los datos por usuario y por periodo para que solo haya un registro por usuario y por periodo. Esto facilitará mucho el análisis posterior.]"
   ]
  },
  {
   "cell_type": "markdown",
   "metadata": {},
   "source": [
    "#### Llamadas por usuario"
   ]
  },
  {
   "cell_type": "code",
   "execution_count": null,
   "metadata": {
    "id": "A332cedB0q1G"
   },
   "outputs": [
    {
     "data": {
      "text/html": [
       "<div>\n",
       "<style scoped>\n",
       "    .dataframe tbody tr th:only-of-type {\n",
       "        vertical-align: middle;\n",
       "    }\n",
       "\n",
       "    .dataframe tbody tr th {\n",
       "        vertical-align: top;\n",
       "    }\n",
       "\n",
       "    .dataframe thead th {\n",
       "        text-align: right;\n",
       "    }\n",
       "</style>\n",
       "<table border=\"1\" class=\"dataframe\">\n",
       "  <thead>\n",
       "    <tr style=\"text-align: right;\">\n",
       "      <th></th>\n",
       "      <th>user_id</th>\n",
       "      <th>month</th>\n",
       "      <th>number_of_calls</th>\n",
       "    </tr>\n",
       "  </thead>\n",
       "  <tbody>\n",
       "    <tr>\n",
       "      <th>0</th>\n",
       "      <td>1000</td>\n",
       "      <td>12</td>\n",
       "      <td>16</td>\n",
       "    </tr>\n",
       "    <tr>\n",
       "      <th>1</th>\n",
       "      <td>1001</td>\n",
       "      <td>8</td>\n",
       "      <td>27</td>\n",
       "    </tr>\n",
       "    <tr>\n",
       "      <th>2</th>\n",
       "      <td>1001</td>\n",
       "      <td>9</td>\n",
       "      <td>49</td>\n",
       "    </tr>\n",
       "    <tr>\n",
       "      <th>3</th>\n",
       "      <td>1001</td>\n",
       "      <td>10</td>\n",
       "      <td>65</td>\n",
       "    </tr>\n",
       "    <tr>\n",
       "      <th>4</th>\n",
       "      <td>1001</td>\n",
       "      <td>11</td>\n",
       "      <td>64</td>\n",
       "    </tr>\n",
       "    <tr>\n",
       "      <th>...</th>\n",
       "      <td>...</td>\n",
       "      <td>...</td>\n",
       "      <td>...</td>\n",
       "    </tr>\n",
       "    <tr>\n",
       "      <th>2253</th>\n",
       "      <td>1498</td>\n",
       "      <td>12</td>\n",
       "      <td>39</td>\n",
       "    </tr>\n",
       "    <tr>\n",
       "      <th>2254</th>\n",
       "      <td>1499</td>\n",
       "      <td>9</td>\n",
       "      <td>41</td>\n",
       "    </tr>\n",
       "    <tr>\n",
       "      <th>2255</th>\n",
       "      <td>1499</td>\n",
       "      <td>10</td>\n",
       "      <td>53</td>\n",
       "    </tr>\n",
       "    <tr>\n",
       "      <th>2256</th>\n",
       "      <td>1499</td>\n",
       "      <td>11</td>\n",
       "      <td>45</td>\n",
       "    </tr>\n",
       "    <tr>\n",
       "      <th>2257</th>\n",
       "      <td>1499</td>\n",
       "      <td>12</td>\n",
       "      <td>65</td>\n",
       "    </tr>\n",
       "  </tbody>\n",
       "</table>\n",
       "<p>2258 rows × 3 columns</p>\n",
       "</div>"
      ],
      "text/plain": [
       "      user_id  month  number_of_calls\n",
       "0        1000     12               16\n",
       "1        1001      8               27\n",
       "2        1001      9               49\n",
       "3        1001     10               65\n",
       "4        1001     11               64\n",
       "...       ...    ...              ...\n",
       "2253     1498     12               39\n",
       "2254     1499      9               41\n",
       "2255     1499     10               53\n",
       "2256     1499     11               45\n",
       "2257     1499     12               65\n",
       "\n",
       "[2258 rows x 3 columns]"
      ]
     },
     "execution_count": 33,
     "metadata": {},
     "output_type": "execute_result"
    }
   ],
   "source": [
    "# Calcula el número de llamadas hechas por cada usuario al mes. Guarda el resultado.\n",
    "\n",
    "df_calls_month=df_calls.groupby(['user_id','month'])['id'].count().reset_index(name='number_of_calls')\n",
    "\n",
    "df_calls_month"
   ]
  },
  {
   "cell_type": "markdown",
   "metadata": {},
   "source": [
    "#### Minutos por usuario"
   ]
  },
  {
   "cell_type": "code",
   "execution_count": null,
   "metadata": {},
   "outputs": [
    {
     "data": {
      "text/html": [
       "<div>\n",
       "<style scoped>\n",
       "    .dataframe tbody tr th:only-of-type {\n",
       "        vertical-align: middle;\n",
       "    }\n",
       "\n",
       "    .dataframe tbody tr th {\n",
       "        vertical-align: top;\n",
       "    }\n",
       "\n",
       "    .dataframe thead th {\n",
       "        text-align: right;\n",
       "    }\n",
       "</style>\n",
       "<table border=\"1\" class=\"dataframe\">\n",
       "  <thead>\n",
       "    <tr style=\"text-align: right;\">\n",
       "      <th></th>\n",
       "      <th>user_id</th>\n",
       "      <th>month</th>\n",
       "      <th>minutes_per_month</th>\n",
       "    </tr>\n",
       "  </thead>\n",
       "  <tbody>\n",
       "    <tr>\n",
       "      <th>0</th>\n",
       "      <td>1000</td>\n",
       "      <td>12</td>\n",
       "      <td>124.0</td>\n",
       "    </tr>\n",
       "    <tr>\n",
       "      <th>1</th>\n",
       "      <td>1001</td>\n",
       "      <td>8</td>\n",
       "      <td>182.0</td>\n",
       "    </tr>\n",
       "    <tr>\n",
       "      <th>2</th>\n",
       "      <td>1001</td>\n",
       "      <td>9</td>\n",
       "      <td>315.0</td>\n",
       "    </tr>\n",
       "    <tr>\n",
       "      <th>3</th>\n",
       "      <td>1001</td>\n",
       "      <td>10</td>\n",
       "      <td>393.0</td>\n",
       "    </tr>\n",
       "    <tr>\n",
       "      <th>4</th>\n",
       "      <td>1001</td>\n",
       "      <td>11</td>\n",
       "      <td>426.0</td>\n",
       "    </tr>\n",
       "    <tr>\n",
       "      <th>...</th>\n",
       "      <td>...</td>\n",
       "      <td>...</td>\n",
       "      <td>...</td>\n",
       "    </tr>\n",
       "    <tr>\n",
       "      <th>2253</th>\n",
       "      <td>1498</td>\n",
       "      <td>12</td>\n",
       "      <td>339.0</td>\n",
       "    </tr>\n",
       "    <tr>\n",
       "      <th>2254</th>\n",
       "      <td>1499</td>\n",
       "      <td>9</td>\n",
       "      <td>346.0</td>\n",
       "    </tr>\n",
       "    <tr>\n",
       "      <th>2255</th>\n",
       "      <td>1499</td>\n",
       "      <td>10</td>\n",
       "      <td>385.0</td>\n",
       "    </tr>\n",
       "    <tr>\n",
       "      <th>2256</th>\n",
       "      <td>1499</td>\n",
       "      <td>11</td>\n",
       "      <td>308.0</td>\n",
       "    </tr>\n",
       "    <tr>\n",
       "      <th>2257</th>\n",
       "      <td>1499</td>\n",
       "      <td>12</td>\n",
       "      <td>496.0</td>\n",
       "    </tr>\n",
       "  </tbody>\n",
       "</table>\n",
       "<p>2258 rows × 3 columns</p>\n",
       "</div>"
      ],
      "text/plain": [
       "      user_id  month  minutes_per_month\n",
       "0        1000     12              124.0\n",
       "1        1001      8              182.0\n",
       "2        1001      9              315.0\n",
       "3        1001     10              393.0\n",
       "4        1001     11              426.0\n",
       "...       ...    ...                ...\n",
       "2253     1498     12              339.0\n",
       "2254     1499      9              346.0\n",
       "2255     1499     10              385.0\n",
       "2256     1499     11              308.0\n",
       "2257     1499     12              496.0\n",
       "\n",
       "[2258 rows x 3 columns]"
      ]
     },
     "execution_count": 199,
     "metadata": {},
     "output_type": "execute_result"
    }
   ],
   "source": [
    "### Calcula la cantidad de minutos usados por cada usuario al mes. Guarda el resultado.\n",
    "\n",
    "df_duration_month= df_calls.groupby(['user_id','month'])['duration'].sum().reset_index(name='minutes_per_month')\n",
    "\n",
    "df_duration_month"
   ]
  },
  {
   "cell_type": "markdown",
   "metadata": {},
   "source": [
    "#### Mensajes por usuario"
   ]
  },
  {
   "cell_type": "code",
   "execution_count": null,
   "metadata": {
    "id": "CcQvNHn60q1G"
   },
   "outputs": [
    {
     "data": {
      "text/html": [
       "<div>\n",
       "<style scoped>\n",
       "    .dataframe tbody tr th:only-of-type {\n",
       "        vertical-align: middle;\n",
       "    }\n",
       "\n",
       "    .dataframe tbody tr th {\n",
       "        vertical-align: top;\n",
       "    }\n",
       "\n",
       "    .dataframe thead th {\n",
       "        text-align: right;\n",
       "    }\n",
       "</style>\n",
       "<table border=\"1\" class=\"dataframe\">\n",
       "  <thead>\n",
       "    <tr style=\"text-align: right;\">\n",
       "      <th></th>\n",
       "      <th>user_id</th>\n",
       "      <th>month</th>\n",
       "      <th>msg_per_month</th>\n",
       "    </tr>\n",
       "  </thead>\n",
       "  <tbody>\n",
       "    <tr>\n",
       "      <th>0</th>\n",
       "      <td>1000</td>\n",
       "      <td>12</td>\n",
       "      <td>11</td>\n",
       "    </tr>\n",
       "    <tr>\n",
       "      <th>1</th>\n",
       "      <td>1001</td>\n",
       "      <td>8</td>\n",
       "      <td>30</td>\n",
       "    </tr>\n",
       "    <tr>\n",
       "      <th>2</th>\n",
       "      <td>1001</td>\n",
       "      <td>9</td>\n",
       "      <td>44</td>\n",
       "    </tr>\n",
       "    <tr>\n",
       "      <th>3</th>\n",
       "      <td>1001</td>\n",
       "      <td>10</td>\n",
       "      <td>53</td>\n",
       "    </tr>\n",
       "    <tr>\n",
       "      <th>4</th>\n",
       "      <td>1001</td>\n",
       "      <td>11</td>\n",
       "      <td>36</td>\n",
       "    </tr>\n",
       "    <tr>\n",
       "      <th>...</th>\n",
       "      <td>...</td>\n",
       "      <td>...</td>\n",
       "      <td>...</td>\n",
       "    </tr>\n",
       "    <tr>\n",
       "      <th>1801</th>\n",
       "      <td>1496</td>\n",
       "      <td>9</td>\n",
       "      <td>21</td>\n",
       "    </tr>\n",
       "    <tr>\n",
       "      <th>1802</th>\n",
       "      <td>1496</td>\n",
       "      <td>10</td>\n",
       "      <td>18</td>\n",
       "    </tr>\n",
       "    <tr>\n",
       "      <th>1803</th>\n",
       "      <td>1496</td>\n",
       "      <td>11</td>\n",
       "      <td>13</td>\n",
       "    </tr>\n",
       "    <tr>\n",
       "      <th>1804</th>\n",
       "      <td>1496</td>\n",
       "      <td>12</td>\n",
       "      <td>11</td>\n",
       "    </tr>\n",
       "    <tr>\n",
       "      <th>1805</th>\n",
       "      <td>1497</td>\n",
       "      <td>12</td>\n",
       "      <td>50</td>\n",
       "    </tr>\n",
       "  </tbody>\n",
       "</table>\n",
       "<p>1806 rows × 3 columns</p>\n",
       "</div>"
      ],
      "text/plain": [
       "      user_id  month  msg_per_month\n",
       "0        1000     12             11\n",
       "1        1001      8             30\n",
       "2        1001      9             44\n",
       "3        1001     10             53\n",
       "4        1001     11             36\n",
       "...       ...    ...            ...\n",
       "1801     1496      9             21\n",
       "1802     1496     10             18\n",
       "1803     1496     11             13\n",
       "1804     1496     12             11\n",
       "1805     1497     12             50\n",
       "\n",
       "[1806 rows x 3 columns]"
      ]
     },
     "execution_count": 35,
     "metadata": {},
     "output_type": "execute_result"
    }
   ],
   "source": [
    "# Calcula el número de mensajes enviados por cada usuario al mes. Guarda el resultado.\n",
    "\n",
    "df_messages_month=df_messages.groupby(['user_id', 'month'])['user_id'].count().reset_index(name='msg_per_month')\n",
    "\n",
    "df_messages_month"
   ]
  },
  {
   "cell_type": "markdown",
   "metadata": {},
   "source": [
    "#### Internet  por usuario"
   ]
  },
  {
   "cell_type": "code",
   "execution_count": null,
   "metadata": {
    "id": "H1AqN2eG0q1H"
   },
   "outputs": [
    {
     "data": {
      "text/html": [
       "<div>\n",
       "<style scoped>\n",
       "    .dataframe tbody tr th:only-of-type {\n",
       "        vertical-align: middle;\n",
       "    }\n",
       "\n",
       "    .dataframe tbody tr th {\n",
       "        vertical-align: top;\n",
       "    }\n",
       "\n",
       "    .dataframe thead th {\n",
       "        text-align: right;\n",
       "    }\n",
       "</style>\n",
       "<table border=\"1\" class=\"dataframe\">\n",
       "  <thead>\n",
       "    <tr style=\"text-align: right;\">\n",
       "      <th></th>\n",
       "      <th>user_id</th>\n",
       "      <th>month</th>\n",
       "      <th>gb_per_month</th>\n",
       "    </tr>\n",
       "  </thead>\n",
       "  <tbody>\n",
       "    <tr>\n",
       "      <th>0</th>\n",
       "      <td>1000</td>\n",
       "      <td>12</td>\n",
       "      <td>2.0</td>\n",
       "    </tr>\n",
       "    <tr>\n",
       "      <th>1</th>\n",
       "      <td>1001</td>\n",
       "      <td>8</td>\n",
       "      <td>7.0</td>\n",
       "    </tr>\n",
       "    <tr>\n",
       "      <th>2</th>\n",
       "      <td>1001</td>\n",
       "      <td>9</td>\n",
       "      <td>14.0</td>\n",
       "    </tr>\n",
       "    <tr>\n",
       "      <th>3</th>\n",
       "      <td>1001</td>\n",
       "      <td>10</td>\n",
       "      <td>23.0</td>\n",
       "    </tr>\n",
       "    <tr>\n",
       "      <th>4</th>\n",
       "      <td>1001</td>\n",
       "      <td>11</td>\n",
       "      <td>19.0</td>\n",
       "    </tr>\n",
       "    <tr>\n",
       "      <th>...</th>\n",
       "      <td>...</td>\n",
       "      <td>...</td>\n",
       "      <td>...</td>\n",
       "    </tr>\n",
       "    <tr>\n",
       "      <th>2272</th>\n",
       "      <td>1498</td>\n",
       "      <td>12</td>\n",
       "      <td>24.0</td>\n",
       "    </tr>\n",
       "    <tr>\n",
       "      <th>2273</th>\n",
       "      <td>1499</td>\n",
       "      <td>9</td>\n",
       "      <td>13.0</td>\n",
       "    </tr>\n",
       "    <tr>\n",
       "      <th>2274</th>\n",
       "      <td>1499</td>\n",
       "      <td>10</td>\n",
       "      <td>20.0</td>\n",
       "    </tr>\n",
       "    <tr>\n",
       "      <th>2275</th>\n",
       "      <td>1499</td>\n",
       "      <td>11</td>\n",
       "      <td>17.0</td>\n",
       "    </tr>\n",
       "    <tr>\n",
       "      <th>2276</th>\n",
       "      <td>1499</td>\n",
       "      <td>12</td>\n",
       "      <td>23.0</td>\n",
       "    </tr>\n",
       "  </tbody>\n",
       "</table>\n",
       "<p>2277 rows × 3 columns</p>\n",
       "</div>"
      ],
      "text/plain": [
       "      user_id  month  gb_per_month\n",
       "0        1000     12           2.0\n",
       "1        1001      8           7.0\n",
       "2        1001      9          14.0\n",
       "3        1001     10          23.0\n",
       "4        1001     11          19.0\n",
       "...       ...    ...           ...\n",
       "2272     1498     12          24.0\n",
       "2273     1499      9          13.0\n",
       "2274     1499     10          20.0\n",
       "2275     1499     11          17.0\n",
       "2276     1499     12          23.0\n",
       "\n",
       "[2277 rows x 3 columns]"
      ]
     },
     "execution_count": 36,
     "metadata": {},
     "output_type": "execute_result"
    }
   ],
   "source": [
    "# Calcula el volumen del tráfico de Internet usado por cada usuario al mes. Guarda el resultado.\n",
    "\n",
    "df_internet_month=df_internet.groupby(['user_id','month'])['gb_used'].sum().reset_index(name='gb_per_month')\n",
    "\n",
    "#Se redondean hacia arriba los valores de gb consumidos mensualmente para cada usuario\n",
    "\n",
    "df_internet_month['gb_per_month']=np.ceil(df_internet_month['gb_per_month'])\n",
    "\n",
    "df_internet_month"
   ]
  },
  {
   "cell_type": "code",
   "execution_count": null,
   "metadata": {
    "id": "FW99ykyf0q1H"
   },
   "outputs": [
    {
     "data": {
      "text/html": [
       "<div>\n",
       "<style scoped>\n",
       "    .dataframe tbody tr th:only-of-type {\n",
       "        vertical-align: middle;\n",
       "    }\n",
       "\n",
       "    .dataframe tbody tr th {\n",
       "        vertical-align: top;\n",
       "    }\n",
       "\n",
       "    .dataframe thead th {\n",
       "        text-align: right;\n",
       "    }\n",
       "</style>\n",
       "<table border=\"1\" class=\"dataframe\">\n",
       "  <thead>\n",
       "    <tr style=\"text-align: right;\">\n",
       "      <th></th>\n",
       "      <th>user_id</th>\n",
       "      <th>month</th>\n",
       "      <th>number_of_calls</th>\n",
       "      <th>msg_per_month</th>\n",
       "      <th>gb_per_month</th>\n",
       "      <th>minutes_per_month</th>\n",
       "    </tr>\n",
       "  </thead>\n",
       "  <tbody>\n",
       "    <tr>\n",
       "      <th>0</th>\n",
       "      <td>1000</td>\n",
       "      <td>12</td>\n",
       "      <td>16</td>\n",
       "      <td>11.0</td>\n",
       "      <td>2.0</td>\n",
       "      <td>124.0</td>\n",
       "    </tr>\n",
       "    <tr>\n",
       "      <th>1</th>\n",
       "      <td>1001</td>\n",
       "      <td>8</td>\n",
       "      <td>27</td>\n",
       "      <td>30.0</td>\n",
       "      <td>7.0</td>\n",
       "      <td>182.0</td>\n",
       "    </tr>\n",
       "    <tr>\n",
       "      <th>2</th>\n",
       "      <td>1001</td>\n",
       "      <td>9</td>\n",
       "      <td>49</td>\n",
       "      <td>44.0</td>\n",
       "      <td>14.0</td>\n",
       "      <td>315.0</td>\n",
       "    </tr>\n",
       "    <tr>\n",
       "      <th>3</th>\n",
       "      <td>1001</td>\n",
       "      <td>10</td>\n",
       "      <td>65</td>\n",
       "      <td>53.0</td>\n",
       "      <td>23.0</td>\n",
       "      <td>393.0</td>\n",
       "    </tr>\n",
       "    <tr>\n",
       "      <th>4</th>\n",
       "      <td>1001</td>\n",
       "      <td>11</td>\n",
       "      <td>64</td>\n",
       "      <td>36.0</td>\n",
       "      <td>19.0</td>\n",
       "      <td>426.0</td>\n",
       "    </tr>\n",
       "    <tr>\n",
       "      <th>...</th>\n",
       "      <td>...</td>\n",
       "      <td>...</td>\n",
       "      <td>...</td>\n",
       "      <td>...</td>\n",
       "      <td>...</td>\n",
       "      <td>...</td>\n",
       "    </tr>\n",
       "    <tr>\n",
       "      <th>2253</th>\n",
       "      <td>1498</td>\n",
       "      <td>12</td>\n",
       "      <td>39</td>\n",
       "      <td>NaN</td>\n",
       "      <td>24.0</td>\n",
       "      <td>339.0</td>\n",
       "    </tr>\n",
       "    <tr>\n",
       "      <th>2254</th>\n",
       "      <td>1499</td>\n",
       "      <td>9</td>\n",
       "      <td>41</td>\n",
       "      <td>NaN</td>\n",
       "      <td>13.0</td>\n",
       "      <td>346.0</td>\n",
       "    </tr>\n",
       "    <tr>\n",
       "      <th>2255</th>\n",
       "      <td>1499</td>\n",
       "      <td>10</td>\n",
       "      <td>53</td>\n",
       "      <td>NaN</td>\n",
       "      <td>20.0</td>\n",
       "      <td>385.0</td>\n",
       "    </tr>\n",
       "    <tr>\n",
       "      <th>2256</th>\n",
       "      <td>1499</td>\n",
       "      <td>11</td>\n",
       "      <td>45</td>\n",
       "      <td>NaN</td>\n",
       "      <td>17.0</td>\n",
       "      <td>308.0</td>\n",
       "    </tr>\n",
       "    <tr>\n",
       "      <th>2257</th>\n",
       "      <td>1499</td>\n",
       "      <td>12</td>\n",
       "      <td>65</td>\n",
       "      <td>NaN</td>\n",
       "      <td>23.0</td>\n",
       "      <td>496.0</td>\n",
       "    </tr>\n",
       "  </tbody>\n",
       "</table>\n",
       "<p>2258 rows × 6 columns</p>\n",
       "</div>"
      ],
      "text/plain": [
       "      user_id  month  number_of_calls  msg_per_month  gb_per_month  \\\n",
       "0        1000     12               16           11.0           2.0   \n",
       "1        1001      8               27           30.0           7.0   \n",
       "2        1001      9               49           44.0          14.0   \n",
       "3        1001     10               65           53.0          23.0   \n",
       "4        1001     11               64           36.0          19.0   \n",
       "...       ...    ...              ...            ...           ...   \n",
       "2253     1498     12               39            NaN          24.0   \n",
       "2254     1499      9               41            NaN          13.0   \n",
       "2255     1499     10               53            NaN          20.0   \n",
       "2256     1499     11               45            NaN          17.0   \n",
       "2257     1499     12               65            NaN          23.0   \n",
       "\n",
       "      minutes_per_month  \n",
       "0                 124.0  \n",
       "1                 182.0  \n",
       "2                 315.0  \n",
       "3                 393.0  \n",
       "4                 426.0  \n",
       "...                 ...  \n",
       "2253              339.0  \n",
       "2254              346.0  \n",
       "2255              385.0  \n",
       "2256              308.0  \n",
       "2257              496.0  \n",
       "\n",
       "[2258 rows x 6 columns]"
      ]
     },
     "execution_count": 37,
     "metadata": {},
     "output_type": "execute_result"
    }
   ],
   "source": [
    "# Fusiona los datos de llamadas, minutos, mensajes e Internet con base en user_id y month\n",
    "\n",
    "df_consumption_per_user=df_calls_month.merge(df_messages_month, on=['user_id','month'],how='left')\n",
    "df_consumption_per_user=df_consumption_per_user.merge(df_internet_month, on=['user_id','month'],how='left')\n",
    "df_consumption_per_user=df_consumption_per_user.merge(df_duration_month, on=['user_id','month'],how='left')\n",
    "\n",
    "df_consumption_per_user"
   ]
  },
  {
   "cell_type": "code",
   "execution_count": null,
   "metadata": {},
   "outputs": [
    {
     "data": {
      "text/plain": [
       "user_id                0\n",
       "month                  0\n",
       "number_of_calls        0\n",
       "msg_per_month        485\n",
       "gb_per_month          15\n",
       "minutes_per_month      0\n",
       "dtype: int64"
      ]
     },
     "execution_count": 38,
     "metadata": {},
     "output_type": "execute_result"
    }
   ],
   "source": [
    "# Se compruba cuales y cuantos valores ausentes tenemos\n",
    "df_consumption_per_user.isna().sum()"
   ]
  },
  {
   "cell_type": "markdown",
   "metadata": {},
   "source": [
    "### Consumo de todos los servicios por usuario al mes"
   ]
  },
  {
   "cell_type": "code",
   "execution_count": null,
   "metadata": {},
   "outputs": [
    {
     "data": {
      "text/html": [
       "<div>\n",
       "<style scoped>\n",
       "    .dataframe tbody tr th:only-of-type {\n",
       "        vertical-align: middle;\n",
       "    }\n",
       "\n",
       "    .dataframe tbody tr th {\n",
       "        vertical-align: top;\n",
       "    }\n",
       "\n",
       "    .dataframe thead th {\n",
       "        text-align: right;\n",
       "    }\n",
       "</style>\n",
       "<table border=\"1\" class=\"dataframe\">\n",
       "  <thead>\n",
       "    <tr style=\"text-align: right;\">\n",
       "      <th></th>\n",
       "      <th>user_id</th>\n",
       "      <th>month</th>\n",
       "      <th>number_of_calls</th>\n",
       "      <th>msg_per_month</th>\n",
       "      <th>gb_per_month</th>\n",
       "      <th>minutes_per_month</th>\n",
       "    </tr>\n",
       "  </thead>\n",
       "  <tbody>\n",
       "    <tr>\n",
       "      <th>0</th>\n",
       "      <td>1000</td>\n",
       "      <td>12</td>\n",
       "      <td>16</td>\n",
       "      <td>11.0</td>\n",
       "      <td>2.0</td>\n",
       "      <td>124.0</td>\n",
       "    </tr>\n",
       "    <tr>\n",
       "      <th>1</th>\n",
       "      <td>1001</td>\n",
       "      <td>8</td>\n",
       "      <td>27</td>\n",
       "      <td>30.0</td>\n",
       "      <td>7.0</td>\n",
       "      <td>182.0</td>\n",
       "    </tr>\n",
       "    <tr>\n",
       "      <th>2</th>\n",
       "      <td>1001</td>\n",
       "      <td>9</td>\n",
       "      <td>49</td>\n",
       "      <td>44.0</td>\n",
       "      <td>14.0</td>\n",
       "      <td>315.0</td>\n",
       "    </tr>\n",
       "    <tr>\n",
       "      <th>3</th>\n",
       "      <td>1001</td>\n",
       "      <td>10</td>\n",
       "      <td>65</td>\n",
       "      <td>53.0</td>\n",
       "      <td>23.0</td>\n",
       "      <td>393.0</td>\n",
       "    </tr>\n",
       "    <tr>\n",
       "      <th>4</th>\n",
       "      <td>1001</td>\n",
       "      <td>11</td>\n",
       "      <td>64</td>\n",
       "      <td>36.0</td>\n",
       "      <td>19.0</td>\n",
       "      <td>426.0</td>\n",
       "    </tr>\n",
       "    <tr>\n",
       "      <th>...</th>\n",
       "      <td>...</td>\n",
       "      <td>...</td>\n",
       "      <td>...</td>\n",
       "      <td>...</td>\n",
       "      <td>...</td>\n",
       "      <td>...</td>\n",
       "    </tr>\n",
       "    <tr>\n",
       "      <th>2253</th>\n",
       "      <td>1498</td>\n",
       "      <td>12</td>\n",
       "      <td>39</td>\n",
       "      <td>0.0</td>\n",
       "      <td>24.0</td>\n",
       "      <td>339.0</td>\n",
       "    </tr>\n",
       "    <tr>\n",
       "      <th>2254</th>\n",
       "      <td>1499</td>\n",
       "      <td>9</td>\n",
       "      <td>41</td>\n",
       "      <td>0.0</td>\n",
       "      <td>13.0</td>\n",
       "      <td>346.0</td>\n",
       "    </tr>\n",
       "    <tr>\n",
       "      <th>2255</th>\n",
       "      <td>1499</td>\n",
       "      <td>10</td>\n",
       "      <td>53</td>\n",
       "      <td>0.0</td>\n",
       "      <td>20.0</td>\n",
       "      <td>385.0</td>\n",
       "    </tr>\n",
       "    <tr>\n",
       "      <th>2256</th>\n",
       "      <td>1499</td>\n",
       "      <td>11</td>\n",
       "      <td>45</td>\n",
       "      <td>0.0</td>\n",
       "      <td>17.0</td>\n",
       "      <td>308.0</td>\n",
       "    </tr>\n",
       "    <tr>\n",
       "      <th>2257</th>\n",
       "      <td>1499</td>\n",
       "      <td>12</td>\n",
       "      <td>65</td>\n",
       "      <td>0.0</td>\n",
       "      <td>23.0</td>\n",
       "      <td>496.0</td>\n",
       "    </tr>\n",
       "  </tbody>\n",
       "</table>\n",
       "<p>2258 rows × 6 columns</p>\n",
       "</div>"
      ],
      "text/plain": [
       "      user_id  month  number_of_calls  msg_per_month  gb_per_month  \\\n",
       "0        1000     12               16           11.0           2.0   \n",
       "1        1001      8               27           30.0           7.0   \n",
       "2        1001      9               49           44.0          14.0   \n",
       "3        1001     10               65           53.0          23.0   \n",
       "4        1001     11               64           36.0          19.0   \n",
       "...       ...    ...              ...            ...           ...   \n",
       "2253     1498     12               39            0.0          24.0   \n",
       "2254     1499      9               41            0.0          13.0   \n",
       "2255     1499     10               53            0.0          20.0   \n",
       "2256     1499     11               45            0.0          17.0   \n",
       "2257     1499     12               65            0.0          23.0   \n",
       "\n",
       "      minutes_per_month  \n",
       "0                 124.0  \n",
       "1                 182.0  \n",
       "2                 315.0  \n",
       "3                 393.0  \n",
       "4                 426.0  \n",
       "...                 ...  \n",
       "2253              339.0  \n",
       "2254              346.0  \n",
       "2255              385.0  \n",
       "2256              308.0  \n",
       "2257              496.0  \n",
       "\n",
       "[2258 rows x 6 columns]"
      ]
     },
     "execution_count": 39,
     "metadata": {},
     "output_type": "execute_result"
    }
   ],
   "source": [
    "#Se llenan los valores vacios con cero porque significa que el usuario no usó ese servicio ese mes\n",
    "\n",
    "df_consumption_per_user= df_consumption_per_user.fillna(0)\n",
    "df_consumption_per_user"
   ]
  },
  {
   "cell_type": "code",
   "execution_count": null,
   "metadata": {
    "id": "0dNOXHag0q1H"
   },
   "outputs": [
    {
     "data": {
      "text/plain": [
       "user_id              0\n",
       "month                0\n",
       "number_of_calls      0\n",
       "msg_per_month        0\n",
       "gb_per_month         0\n",
       "minutes_per_month    0\n",
       "dtype: int64"
      ]
     },
     "execution_count": 40,
     "metadata": {},
     "output_type": "execute_result"
    }
   ],
   "source": [
    "# Se verifica que el data Frame no tenga valores ausentes\n",
    "\n",
    "df_consumption_per_user.isna().sum()"
   ]
  },
  {
   "cell_type": "markdown",
   "metadata": {},
   "source": [
    "### Servicios extras por usuario "
   ]
  },
  {
   "cell_type": "code",
   "execution_count": null,
   "metadata": {
    "scrolled": true
   },
   "outputs": [
    {
     "data": {
      "text/html": [
       "<div>\n",
       "<style scoped>\n",
       "    .dataframe tbody tr th:only-of-type {\n",
       "        vertical-align: middle;\n",
       "    }\n",
       "\n",
       "    .dataframe tbody tr th {\n",
       "        vertical-align: top;\n",
       "    }\n",
       "\n",
       "    .dataframe thead th {\n",
       "        text-align: right;\n",
       "    }\n",
       "</style>\n",
       "<table border=\"1\" class=\"dataframe\">\n",
       "  <thead>\n",
       "    <tr style=\"text-align: right;\">\n",
       "      <th></th>\n",
       "      <th>user_id</th>\n",
       "      <th>month</th>\n",
       "      <th>number_of_calls</th>\n",
       "      <th>msg_per_month</th>\n",
       "      <th>gb_per_month</th>\n",
       "      <th>minutes_per_month</th>\n",
       "      <th>first_name</th>\n",
       "      <th>last_name</th>\n",
       "      <th>age</th>\n",
       "      <th>city</th>\n",
       "      <th>reg_date</th>\n",
       "      <th>plan</th>\n",
       "      <th>messages_included</th>\n",
       "      <th>mb_per_month_included</th>\n",
       "      <th>minutes_included</th>\n",
       "      <th>usd_monthly_pay</th>\n",
       "      <th>usd_per_gb</th>\n",
       "      <th>usd_per_message</th>\n",
       "      <th>usd_per_minute</th>\n",
       "      <th>gb_per_month_included</th>\n",
       "    </tr>\n",
       "  </thead>\n",
       "  <tbody>\n",
       "    <tr>\n",
       "      <th>0</th>\n",
       "      <td>1000</td>\n",
       "      <td>12</td>\n",
       "      <td>16</td>\n",
       "      <td>11.0</td>\n",
       "      <td>2.0</td>\n",
       "      <td>124.0</td>\n",
       "      <td>Anamaria</td>\n",
       "      <td>Bauer</td>\n",
       "      <td>45</td>\n",
       "      <td>Atlanta-Sandy Springs-Roswell, GA MSA</td>\n",
       "      <td>2018-12-24</td>\n",
       "      <td>ultimate</td>\n",
       "      <td>1000</td>\n",
       "      <td>30720</td>\n",
       "      <td>3000</td>\n",
       "      <td>70</td>\n",
       "      <td>7</td>\n",
       "      <td>0.01</td>\n",
       "      <td>0.01</td>\n",
       "      <td>30.0</td>\n",
       "    </tr>\n",
       "    <tr>\n",
       "      <th>1</th>\n",
       "      <td>1006</td>\n",
       "      <td>11</td>\n",
       "      <td>2</td>\n",
       "      <td>15.0</td>\n",
       "      <td>3.0</td>\n",
       "      <td>10.0</td>\n",
       "      <td>Jesusa</td>\n",
       "      <td>Bradford</td>\n",
       "      <td>73</td>\n",
       "      <td>San Francisco-Oakland-Berkeley, CA MSA</td>\n",
       "      <td>2018-11-27</td>\n",
       "      <td>ultimate</td>\n",
       "      <td>1000</td>\n",
       "      <td>30720</td>\n",
       "      <td>3000</td>\n",
       "      <td>70</td>\n",
       "      <td>7</td>\n",
       "      <td>0.01</td>\n",
       "      <td>0.01</td>\n",
       "      <td>30.0</td>\n",
       "    </tr>\n",
       "    <tr>\n",
       "      <th>2</th>\n",
       "      <td>1006</td>\n",
       "      <td>12</td>\n",
       "      <td>9</td>\n",
       "      <td>139.0</td>\n",
       "      <td>33.0</td>\n",
       "      <td>59.0</td>\n",
       "      <td>Jesusa</td>\n",
       "      <td>Bradford</td>\n",
       "      <td>73</td>\n",
       "      <td>San Francisco-Oakland-Berkeley, CA MSA</td>\n",
       "      <td>2018-11-27</td>\n",
       "      <td>ultimate</td>\n",
       "      <td>1000</td>\n",
       "      <td>30720</td>\n",
       "      <td>3000</td>\n",
       "      <td>70</td>\n",
       "      <td>7</td>\n",
       "      <td>0.01</td>\n",
       "      <td>0.01</td>\n",
       "      <td>30.0</td>\n",
       "    </tr>\n",
       "    <tr>\n",
       "      <th>3</th>\n",
       "      <td>1008</td>\n",
       "      <td>10</td>\n",
       "      <td>71</td>\n",
       "      <td>21.0</td>\n",
       "      <td>18.0</td>\n",
       "      <td>476.0</td>\n",
       "      <td>Emely</td>\n",
       "      <td>Hoffman</td>\n",
       "      <td>53</td>\n",
       "      <td>Orlando-Kissimmee-Sanford, FL MSA</td>\n",
       "      <td>2018-08-03</td>\n",
       "      <td>ultimate</td>\n",
       "      <td>1000</td>\n",
       "      <td>30720</td>\n",
       "      <td>3000</td>\n",
       "      <td>70</td>\n",
       "      <td>7</td>\n",
       "      <td>0.01</td>\n",
       "      <td>0.01</td>\n",
       "      <td>30.0</td>\n",
       "    </tr>\n",
       "    <tr>\n",
       "      <th>4</th>\n",
       "      <td>1008</td>\n",
       "      <td>11</td>\n",
       "      <td>63</td>\n",
       "      <td>37.0</td>\n",
       "      <td>24.0</td>\n",
       "      <td>446.0</td>\n",
       "      <td>Emely</td>\n",
       "      <td>Hoffman</td>\n",
       "      <td>53</td>\n",
       "      <td>Orlando-Kissimmee-Sanford, FL MSA</td>\n",
       "      <td>2018-08-03</td>\n",
       "      <td>ultimate</td>\n",
       "      <td>1000</td>\n",
       "      <td>30720</td>\n",
       "      <td>3000</td>\n",
       "      <td>70</td>\n",
       "      <td>7</td>\n",
       "      <td>0.01</td>\n",
       "      <td>0.01</td>\n",
       "      <td>30.0</td>\n",
       "    </tr>\n",
       "  </tbody>\n",
       "</table>\n",
       "</div>"
      ],
      "text/plain": [
       "   user_id  month  number_of_calls  msg_per_month  gb_per_month  \\\n",
       "0     1000     12               16           11.0           2.0   \n",
       "1     1006     11                2           15.0           3.0   \n",
       "2     1006     12                9          139.0          33.0   \n",
       "3     1008     10               71           21.0          18.0   \n",
       "4     1008     11               63           37.0          24.0   \n",
       "\n",
       "   minutes_per_month first_name last_name  age  \\\n",
       "0              124.0   Anamaria     Bauer   45   \n",
       "1               10.0     Jesusa  Bradford   73   \n",
       "2               59.0     Jesusa  Bradford   73   \n",
       "3              476.0      Emely   Hoffman   53   \n",
       "4              446.0      Emely   Hoffman   53   \n",
       "\n",
       "                                     city   reg_date      plan  \\\n",
       "0   Atlanta-Sandy Springs-Roswell, GA MSA 2018-12-24  ultimate   \n",
       "1  San Francisco-Oakland-Berkeley, CA MSA 2018-11-27  ultimate   \n",
       "2  San Francisco-Oakland-Berkeley, CA MSA 2018-11-27  ultimate   \n",
       "3       Orlando-Kissimmee-Sanford, FL MSA 2018-08-03  ultimate   \n",
       "4       Orlando-Kissimmee-Sanford, FL MSA 2018-08-03  ultimate   \n",
       "\n",
       "   messages_included  mb_per_month_included  minutes_included  \\\n",
       "0               1000                  30720              3000   \n",
       "1               1000                  30720              3000   \n",
       "2               1000                  30720              3000   \n",
       "3               1000                  30720              3000   \n",
       "4               1000                  30720              3000   \n",
       "\n",
       "   usd_monthly_pay  usd_per_gb  usd_per_message  usd_per_minute  \\\n",
       "0               70           7             0.01            0.01   \n",
       "1               70           7             0.01            0.01   \n",
       "2               70           7             0.01            0.01   \n",
       "3               70           7             0.01            0.01   \n",
       "4               70           7             0.01            0.01   \n",
       "\n",
       "   gb_per_month_included  \n",
       "0                   30.0  \n",
       "1                   30.0  \n",
       "2                   30.0  \n",
       "3                   30.0  \n",
       "4                   30.0  "
      ]
     },
     "execution_count": 41,
     "metadata": {},
     "output_type": "execute_result"
    }
   ],
   "source": [
    "#Se combinan los data frame de usuarios y consumo de todos los servicios por mes para poder calcular el total en USD que debe pagar cada usuario \n",
    "\n",
    "df_consumption_per_plan=df_consumption_per_user.merge(df_users, on='user_id', how='left')\n",
    "\n",
    "df_consumption_per_plan=df_consumption_per_plan.merge(df_plans, on='plan', how='outer')\n",
    "\n",
    "df_consumption_per_plan.head()"
   ]
  },
  {
   "cell_type": "code",
   "execution_count": null,
   "metadata": {},
   "outputs": [
    {
     "data": {
      "text/html": [
       "<div>\n",
       "<style scoped>\n",
       "    .dataframe tbody tr th:only-of-type {\n",
       "        vertical-align: middle;\n",
       "    }\n",
       "\n",
       "    .dataframe tbody tr th {\n",
       "        vertical-align: top;\n",
       "    }\n",
       "\n",
       "    .dataframe thead th {\n",
       "        text-align: right;\n",
       "    }\n",
       "</style>\n",
       "<table border=\"1\" class=\"dataframe\">\n",
       "  <thead>\n",
       "    <tr style=\"text-align: right;\">\n",
       "      <th></th>\n",
       "      <th>user_id</th>\n",
       "      <th>month</th>\n",
       "      <th>number_of_calls</th>\n",
       "      <th>msg_per_month</th>\n",
       "      <th>gb_per_month</th>\n",
       "      <th>minutes_per_month</th>\n",
       "      <th>first_name</th>\n",
       "      <th>last_name</th>\n",
       "      <th>age</th>\n",
       "      <th>city</th>\n",
       "      <th>...</th>\n",
       "      <th>mb_per_month_included</th>\n",
       "      <th>minutes_included</th>\n",
       "      <th>usd_monthly_pay</th>\n",
       "      <th>usd_per_gb</th>\n",
       "      <th>usd_per_message</th>\n",
       "      <th>usd_per_minute</th>\n",
       "      <th>gb_per_month_included</th>\n",
       "      <th>extra_messages</th>\n",
       "      <th>extra_minutes</th>\n",
       "      <th>extra_internet</th>\n",
       "    </tr>\n",
       "  </thead>\n",
       "  <tbody>\n",
       "    <tr>\n",
       "      <th>456</th>\n",
       "      <td>1351</td>\n",
       "      <td>11</td>\n",
       "      <td>27</td>\n",
       "      <td>18.0</td>\n",
       "      <td>24.0</td>\n",
       "      <td>135.0</td>\n",
       "      <td>Kyle</td>\n",
       "      <td>Grimes</td>\n",
       "      <td>47</td>\n",
       "      <td>San Antonio-New Braunfels, TX MSA</td>\n",
       "      <td>...</td>\n",
       "      <td>30720</td>\n",
       "      <td>3000</td>\n",
       "      <td>70</td>\n",
       "      <td>7</td>\n",
       "      <td>0.01</td>\n",
       "      <td>0.01</td>\n",
       "      <td>30.0</td>\n",
       "      <td>-982.0</td>\n",
       "      <td>-2865.0</td>\n",
       "      <td>-6.0</td>\n",
       "    </tr>\n",
       "    <tr>\n",
       "      <th>630</th>\n",
       "      <td>1454</td>\n",
       "      <td>8</td>\n",
       "      <td>35</td>\n",
       "      <td>78.0</td>\n",
       "      <td>24.0</td>\n",
       "      <td>305.0</td>\n",
       "      <td>Kymberly</td>\n",
       "      <td>Cohen</td>\n",
       "      <td>56</td>\n",
       "      <td>San Antonio-New Braunfels, TX MSA</td>\n",
       "      <td>...</td>\n",
       "      <td>30720</td>\n",
       "      <td>3000</td>\n",
       "      <td>70</td>\n",
       "      <td>7</td>\n",
       "      <td>0.01</td>\n",
       "      <td>0.01</td>\n",
       "      <td>30.0</td>\n",
       "      <td>-922.0</td>\n",
       "      <td>-2695.0</td>\n",
       "      <td>-6.0</td>\n",
       "    </tr>\n",
       "    <tr>\n",
       "      <th>2010</th>\n",
       "      <td>1400</td>\n",
       "      <td>11</td>\n",
       "      <td>78</td>\n",
       "      <td>0.0</td>\n",
       "      <td>12.0</td>\n",
       "      <td>581.0</td>\n",
       "      <td>Kenton</td>\n",
       "      <td>Hickman</td>\n",
       "      <td>72</td>\n",
       "      <td>Riverside-San Bernardino-Ontario, CA MSA</td>\n",
       "      <td>...</td>\n",
       "      <td>15360</td>\n",
       "      <td>500</td>\n",
       "      <td>20</td>\n",
       "      <td>10</td>\n",
       "      <td>0.03</td>\n",
       "      <td>0.03</td>\n",
       "      <td>15.0</td>\n",
       "      <td>-50.0</td>\n",
       "      <td>81.0</td>\n",
       "      <td>-3.0</td>\n",
       "    </tr>\n",
       "    <tr>\n",
       "      <th>306</th>\n",
       "      <td>1211</td>\n",
       "      <td>11</td>\n",
       "      <td>52</td>\n",
       "      <td>55.0</td>\n",
       "      <td>28.0</td>\n",
       "      <td>319.0</td>\n",
       "      <td>Vito</td>\n",
       "      <td>Cameron</td>\n",
       "      <td>60</td>\n",
       "      <td>New York-Newark-Jersey City, NY-NJ-PA MSA</td>\n",
       "      <td>...</td>\n",
       "      <td>30720</td>\n",
       "      <td>3000</td>\n",
       "      <td>70</td>\n",
       "      <td>7</td>\n",
       "      <td>0.01</td>\n",
       "      <td>0.01</td>\n",
       "      <td>30.0</td>\n",
       "      <td>-945.0</td>\n",
       "      <td>-2681.0</td>\n",
       "      <td>-2.0</td>\n",
       "    </tr>\n",
       "    <tr>\n",
       "      <th>605</th>\n",
       "      <td>1435</td>\n",
       "      <td>12</td>\n",
       "      <td>40</td>\n",
       "      <td>150.0</td>\n",
       "      <td>27.0</td>\n",
       "      <td>331.0</td>\n",
       "      <td>Darnell</td>\n",
       "      <td>Powell</td>\n",
       "      <td>23</td>\n",
       "      <td>Washington-Arlington-Alexandria, DC-VA-MD-WV MSA</td>\n",
       "      <td>...</td>\n",
       "      <td>30720</td>\n",
       "      <td>3000</td>\n",
       "      <td>70</td>\n",
       "      <td>7</td>\n",
       "      <td>0.01</td>\n",
       "      <td>0.01</td>\n",
       "      <td>30.0</td>\n",
       "      <td>-850.0</td>\n",
       "      <td>-2669.0</td>\n",
       "      <td>-3.0</td>\n",
       "    </tr>\n",
       "  </tbody>\n",
       "</table>\n",
       "<p>5 rows × 23 columns</p>\n",
       "</div>"
      ],
      "text/plain": [
       "      user_id  month  number_of_calls  msg_per_month  gb_per_month  \\\n",
       "456      1351     11               27           18.0          24.0   \n",
       "630      1454      8               35           78.0          24.0   \n",
       "2010     1400     11               78            0.0          12.0   \n",
       "306      1211     11               52           55.0          28.0   \n",
       "605      1435     12               40          150.0          27.0   \n",
       "\n",
       "      minutes_per_month first_name last_name  age  \\\n",
       "456               135.0       Kyle    Grimes   47   \n",
       "630               305.0   Kymberly     Cohen   56   \n",
       "2010              581.0     Kenton   Hickman   72   \n",
       "306               319.0       Vito   Cameron   60   \n",
       "605               331.0    Darnell    Powell   23   \n",
       "\n",
       "                                                  city  ...  \\\n",
       "456                  San Antonio-New Braunfels, TX MSA  ...   \n",
       "630                  San Antonio-New Braunfels, TX MSA  ...   \n",
       "2010          Riverside-San Bernardino-Ontario, CA MSA  ...   \n",
       "306          New York-Newark-Jersey City, NY-NJ-PA MSA  ...   \n",
       "605   Washington-Arlington-Alexandria, DC-VA-MD-WV MSA  ...   \n",
       "\n",
       "     mb_per_month_included minutes_included  usd_monthly_pay  usd_per_gb  \\\n",
       "456                  30720             3000               70           7   \n",
       "630                  30720             3000               70           7   \n",
       "2010                 15360              500               20          10   \n",
       "306                  30720             3000               70           7   \n",
       "605                  30720             3000               70           7   \n",
       "\n",
       "      usd_per_message  usd_per_minute  gb_per_month_included  extra_messages  \\\n",
       "456              0.01            0.01                   30.0          -982.0   \n",
       "630              0.01            0.01                   30.0          -922.0   \n",
       "2010             0.03            0.03                   15.0           -50.0   \n",
       "306              0.01            0.01                   30.0          -945.0   \n",
       "605              0.01            0.01                   30.0          -850.0   \n",
       "\n",
       "      extra_minutes  extra_internet  \n",
       "456         -2865.0            -6.0  \n",
       "630         -2695.0            -6.0  \n",
       "2010           81.0            -3.0  \n",
       "306         -2681.0            -2.0  \n",
       "605         -2669.0            -3.0  \n",
       "\n",
       "[5 rows x 23 columns]"
      ]
     },
     "execution_count": 42,
     "metadata": {},
     "output_type": "execute_result"
    }
   ],
   "source": [
    "#Se verifica para cada usuario y mes cuales de los servicios tienen un consumo extra al plan establecido para cada usuario\n",
    "\n",
    "df_consumption_per_plan['extra_messages']= df_consumption_per_plan['msg_per_month']-df_consumption_per_plan['messages_included']\n",
    "df_consumption_per_plan['extra_minutes']= df_consumption_per_plan['minutes_per_month']-df_consumption_per_plan['minutes_included']\n",
    "df_consumption_per_plan['extra_internet']= df_consumption_per_plan['gb_per_month']-df_consumption_per_plan['gb_per_month_included']\n",
    "\n",
    "df_consumption_per_plan.sample(5)"
   ]
  },
  {
   "cell_type": "code",
   "execution_count": null,
   "metadata": {},
   "outputs": [
    {
     "data": {
      "text/html": [
       "<div>\n",
       "<style scoped>\n",
       "    .dataframe tbody tr th:only-of-type {\n",
       "        vertical-align: middle;\n",
       "    }\n",
       "\n",
       "    .dataframe tbody tr th {\n",
       "        vertical-align: top;\n",
       "    }\n",
       "\n",
       "    .dataframe thead th {\n",
       "        text-align: right;\n",
       "    }\n",
       "</style>\n",
       "<table border=\"1\" class=\"dataframe\">\n",
       "  <thead>\n",
       "    <tr style=\"text-align: right;\">\n",
       "      <th></th>\n",
       "      <th>user_id</th>\n",
       "      <th>month</th>\n",
       "      <th>number_of_calls</th>\n",
       "      <th>msg_per_month</th>\n",
       "      <th>gb_per_month</th>\n",
       "      <th>minutes_per_month</th>\n",
       "      <th>first_name</th>\n",
       "      <th>last_name</th>\n",
       "      <th>age</th>\n",
       "      <th>city</th>\n",
       "      <th>...</th>\n",
       "      <th>mb_per_month_included</th>\n",
       "      <th>minutes_included</th>\n",
       "      <th>usd_monthly_pay</th>\n",
       "      <th>usd_per_gb</th>\n",
       "      <th>usd_per_message</th>\n",
       "      <th>usd_per_minute</th>\n",
       "      <th>gb_per_month_included</th>\n",
       "      <th>extra_messages</th>\n",
       "      <th>extra_minutes</th>\n",
       "      <th>extra_internet</th>\n",
       "    </tr>\n",
       "  </thead>\n",
       "  <tbody>\n",
       "    <tr>\n",
       "      <th>1355</th>\n",
       "      <td>1201</td>\n",
       "      <td>9</td>\n",
       "      <td>57</td>\n",
       "      <td>4.0</td>\n",
       "      <td>26.0</td>\n",
       "      <td>413.0</td>\n",
       "      <td>Jeanelle</td>\n",
       "      <td>Estrada</td>\n",
       "      <td>61</td>\n",
       "      <td>Bridgeport-Stamford-Norwalk, CT MSA</td>\n",
       "      <td>...</td>\n",
       "      <td>15360</td>\n",
       "      <td>500</td>\n",
       "      <td>20</td>\n",
       "      <td>10</td>\n",
       "      <td>0.03</td>\n",
       "      <td>0.03</td>\n",
       "      <td>15.0</td>\n",
       "      <td>0.0</td>\n",
       "      <td>0.0</td>\n",
       "      <td>11.0</td>\n",
       "    </tr>\n",
       "    <tr>\n",
       "      <th>409</th>\n",
       "      <td>1283</td>\n",
       "      <td>12</td>\n",
       "      <td>122</td>\n",
       "      <td>117.0</td>\n",
       "      <td>34.0</td>\n",
       "      <td>932.0</td>\n",
       "      <td>Alan</td>\n",
       "      <td>Burgess</td>\n",
       "      <td>38</td>\n",
       "      <td>Charleston-North Charleston, SC MSA</td>\n",
       "      <td>...</td>\n",
       "      <td>30720</td>\n",
       "      <td>3000</td>\n",
       "      <td>70</td>\n",
       "      <td>7</td>\n",
       "      <td>0.01</td>\n",
       "      <td>0.01</td>\n",
       "      <td>30.0</td>\n",
       "      <td>0.0</td>\n",
       "      <td>0.0</td>\n",
       "      <td>4.0</td>\n",
       "    </tr>\n",
       "    <tr>\n",
       "      <th>209</th>\n",
       "      <td>1144</td>\n",
       "      <td>10</td>\n",
       "      <td>80</td>\n",
       "      <td>72.0</td>\n",
       "      <td>39.0</td>\n",
       "      <td>583.0</td>\n",
       "      <td>Kaycee</td>\n",
       "      <td>Peterson</td>\n",
       "      <td>65</td>\n",
       "      <td>New York-Newark-Jersey City, NY-NJ-PA MSA</td>\n",
       "      <td>...</td>\n",
       "      <td>30720</td>\n",
       "      <td>3000</td>\n",
       "      <td>70</td>\n",
       "      <td>7</td>\n",
       "      <td>0.01</td>\n",
       "      <td>0.01</td>\n",
       "      <td>30.0</td>\n",
       "      <td>0.0</td>\n",
       "      <td>0.0</td>\n",
       "      <td>9.0</td>\n",
       "    </tr>\n",
       "    <tr>\n",
       "      <th>1214</th>\n",
       "      <td>1156</td>\n",
       "      <td>11</td>\n",
       "      <td>85</td>\n",
       "      <td>0.0</td>\n",
       "      <td>19.0</td>\n",
       "      <td>645.0</td>\n",
       "      <td>Anette</td>\n",
       "      <td>Chambers</td>\n",
       "      <td>71</td>\n",
       "      <td>Albuquerque, NM MSA</td>\n",
       "      <td>...</td>\n",
       "      <td>15360</td>\n",
       "      <td>500</td>\n",
       "      <td>20</td>\n",
       "      <td>10</td>\n",
       "      <td>0.03</td>\n",
       "      <td>0.03</td>\n",
       "      <td>15.0</td>\n",
       "      <td>0.0</td>\n",
       "      <td>145.0</td>\n",
       "      <td>4.0</td>\n",
       "    </tr>\n",
       "    <tr>\n",
       "      <th>352</th>\n",
       "      <td>1237</td>\n",
       "      <td>10</td>\n",
       "      <td>105</td>\n",
       "      <td>36.0</td>\n",
       "      <td>12.0</td>\n",
       "      <td>743.0</td>\n",
       "      <td>Leighann</td>\n",
       "      <td>Wheeler</td>\n",
       "      <td>50</td>\n",
       "      <td>New York-Newark-Jersey City, NY-NJ-PA MSA</td>\n",
       "      <td>...</td>\n",
       "      <td>30720</td>\n",
       "      <td>3000</td>\n",
       "      <td>70</td>\n",
       "      <td>7</td>\n",
       "      <td>0.01</td>\n",
       "      <td>0.01</td>\n",
       "      <td>30.0</td>\n",
       "      <td>0.0</td>\n",
       "      <td>0.0</td>\n",
       "      <td>0.0</td>\n",
       "    </tr>\n",
       "  </tbody>\n",
       "</table>\n",
       "<p>5 rows × 23 columns</p>\n",
       "</div>"
      ],
      "text/plain": [
       "      user_id  month  number_of_calls  msg_per_month  gb_per_month  \\\n",
       "1355     1201      9               57            4.0          26.0   \n",
       "409      1283     12              122          117.0          34.0   \n",
       "209      1144     10               80           72.0          39.0   \n",
       "1214     1156     11               85            0.0          19.0   \n",
       "352      1237     10              105           36.0          12.0   \n",
       "\n",
       "      minutes_per_month first_name last_name  age  \\\n",
       "1355              413.0   Jeanelle   Estrada   61   \n",
       "409               932.0       Alan   Burgess   38   \n",
       "209               583.0     Kaycee  Peterson   65   \n",
       "1214              645.0     Anette  Chambers   71   \n",
       "352               743.0   Leighann   Wheeler   50   \n",
       "\n",
       "                                           city  ... mb_per_month_included  \\\n",
       "1355        Bridgeport-Stamford-Norwalk, CT MSA  ...                 15360   \n",
       "409         Charleston-North Charleston, SC MSA  ...                 30720   \n",
       "209   New York-Newark-Jersey City, NY-NJ-PA MSA  ...                 30720   \n",
       "1214                        Albuquerque, NM MSA  ...                 15360   \n",
       "352   New York-Newark-Jersey City, NY-NJ-PA MSA  ...                 30720   \n",
       "\n",
       "     minutes_included  usd_monthly_pay  usd_per_gb  usd_per_message  \\\n",
       "1355              500               20          10             0.03   \n",
       "409              3000               70           7             0.01   \n",
       "209              3000               70           7             0.01   \n",
       "1214              500               20          10             0.03   \n",
       "352              3000               70           7             0.01   \n",
       "\n",
       "      usd_per_minute  gb_per_month_included  extra_messages  extra_minutes  \\\n",
       "1355            0.03                   15.0             0.0            0.0   \n",
       "409             0.01                   30.0             0.0            0.0   \n",
       "209             0.01                   30.0             0.0            0.0   \n",
       "1214            0.03                   15.0             0.0          145.0   \n",
       "352             0.01                   30.0             0.0            0.0   \n",
       "\n",
       "      extra_internet  \n",
       "1355            11.0  \n",
       "409              4.0  \n",
       "209              9.0  \n",
       "1214             4.0  \n",
       "352              0.0  \n",
       "\n",
       "[5 rows x 23 columns]"
      ]
     },
     "execution_count": 43,
     "metadata": {},
     "output_type": "execute_result"
    }
   ],
   "source": [
    "#Los valores que estan negativos indican que la persona no tuvo un consumo extra en el servicio, por lo tanto debe sustituirse por un cero para que no haya un cobro adiciona\n",
    "\n",
    "df_consumption_per_plan['extra_messages']=df_consumption_per_plan['extra_messages'].where(df_consumption_per_plan['extra_messages']>=0,0)\n",
    "df_consumption_per_plan['extra_minutes']=df_consumption_per_plan['extra_minutes'].where(df_consumption_per_plan['extra_minutes']>=0,0)\n",
    "df_consumption_per_plan['extra_internet']=df_consumption_per_plan['extra_internet'].where(df_consumption_per_plan['extra_internet']>=0,0)\n",
    "\n",
    "\n",
    "df_consumption_per_plan.sample(5)"
   ]
  },
  {
   "cell_type": "markdown",
   "metadata": {},
   "source": [
    "## Base de datos compilada"
   ]
  },
  {
   "cell_type": "code",
   "execution_count": null,
   "metadata": {
    "id": "5FGCf_c60q1I"
   },
   "outputs": [
    {
     "data": {
      "text/html": [
       "<div>\n",
       "<style scoped>\n",
       "    .dataframe tbody tr th:only-of-type {\n",
       "        vertical-align: middle;\n",
       "    }\n",
       "\n",
       "    .dataframe tbody tr th {\n",
       "        vertical-align: top;\n",
       "    }\n",
       "\n",
       "    .dataframe thead th {\n",
       "        text-align: right;\n",
       "    }\n",
       "</style>\n",
       "<table border=\"1\" class=\"dataframe\">\n",
       "  <thead>\n",
       "    <tr style=\"text-align: right;\">\n",
       "      <th></th>\n",
       "      <th>user_id</th>\n",
       "      <th>month</th>\n",
       "      <th>number_of_calls</th>\n",
       "      <th>msg_per_month</th>\n",
       "      <th>gb_per_month</th>\n",
       "      <th>minutes_per_month</th>\n",
       "      <th>first_name</th>\n",
       "      <th>last_name</th>\n",
       "      <th>age</th>\n",
       "      <th>city</th>\n",
       "      <th>...</th>\n",
       "      <th>minutes_included</th>\n",
       "      <th>usd_monthly_pay</th>\n",
       "      <th>usd_per_gb</th>\n",
       "      <th>usd_per_message</th>\n",
       "      <th>usd_per_minute</th>\n",
       "      <th>gb_per_month_included</th>\n",
       "      <th>extra_messages</th>\n",
       "      <th>extra_minutes</th>\n",
       "      <th>extra_internet</th>\n",
       "      <th>monthly_cost</th>\n",
       "    </tr>\n",
       "  </thead>\n",
       "  <tbody>\n",
       "    <tr>\n",
       "      <th>2253</th>\n",
       "      <td>1498</td>\n",
       "      <td>12</td>\n",
       "      <td>39</td>\n",
       "      <td>0.0</td>\n",
       "      <td>24.0</td>\n",
       "      <td>339.0</td>\n",
       "      <td>Scot</td>\n",
       "      <td>Williamson</td>\n",
       "      <td>51</td>\n",
       "      <td>New York-Newark-Jersey City, NY-NJ-PA MSA</td>\n",
       "      <td>...</td>\n",
       "      <td>500</td>\n",
       "      <td>20</td>\n",
       "      <td>10</td>\n",
       "      <td>0.03</td>\n",
       "      <td>0.03</td>\n",
       "      <td>15.0</td>\n",
       "      <td>0.0</td>\n",
       "      <td>0.0</td>\n",
       "      <td>9.0</td>\n",
       "      <td>110.0</td>\n",
       "    </tr>\n",
       "    <tr>\n",
       "      <th>2254</th>\n",
       "      <td>1499</td>\n",
       "      <td>9</td>\n",
       "      <td>41</td>\n",
       "      <td>0.0</td>\n",
       "      <td>13.0</td>\n",
       "      <td>346.0</td>\n",
       "      <td>Shena</td>\n",
       "      <td>Dickson</td>\n",
       "      <td>37</td>\n",
       "      <td>Orlando-Kissimmee-Sanford, FL MSA</td>\n",
       "      <td>...</td>\n",
       "      <td>500</td>\n",
       "      <td>20</td>\n",
       "      <td>10</td>\n",
       "      <td>0.03</td>\n",
       "      <td>0.03</td>\n",
       "      <td>15.0</td>\n",
       "      <td>0.0</td>\n",
       "      <td>0.0</td>\n",
       "      <td>0.0</td>\n",
       "      <td>20.0</td>\n",
       "    </tr>\n",
       "    <tr>\n",
       "      <th>2255</th>\n",
       "      <td>1499</td>\n",
       "      <td>10</td>\n",
       "      <td>53</td>\n",
       "      <td>0.0</td>\n",
       "      <td>20.0</td>\n",
       "      <td>385.0</td>\n",
       "      <td>Shena</td>\n",
       "      <td>Dickson</td>\n",
       "      <td>37</td>\n",
       "      <td>Orlando-Kissimmee-Sanford, FL MSA</td>\n",
       "      <td>...</td>\n",
       "      <td>500</td>\n",
       "      <td>20</td>\n",
       "      <td>10</td>\n",
       "      <td>0.03</td>\n",
       "      <td>0.03</td>\n",
       "      <td>15.0</td>\n",
       "      <td>0.0</td>\n",
       "      <td>0.0</td>\n",
       "      <td>5.0</td>\n",
       "      <td>70.0</td>\n",
       "    </tr>\n",
       "    <tr>\n",
       "      <th>2256</th>\n",
       "      <td>1499</td>\n",
       "      <td>11</td>\n",
       "      <td>45</td>\n",
       "      <td>0.0</td>\n",
       "      <td>17.0</td>\n",
       "      <td>308.0</td>\n",
       "      <td>Shena</td>\n",
       "      <td>Dickson</td>\n",
       "      <td>37</td>\n",
       "      <td>Orlando-Kissimmee-Sanford, FL MSA</td>\n",
       "      <td>...</td>\n",
       "      <td>500</td>\n",
       "      <td>20</td>\n",
       "      <td>10</td>\n",
       "      <td>0.03</td>\n",
       "      <td>0.03</td>\n",
       "      <td>15.0</td>\n",
       "      <td>0.0</td>\n",
       "      <td>0.0</td>\n",
       "      <td>2.0</td>\n",
       "      <td>40.0</td>\n",
       "    </tr>\n",
       "    <tr>\n",
       "      <th>2257</th>\n",
       "      <td>1499</td>\n",
       "      <td>12</td>\n",
       "      <td>65</td>\n",
       "      <td>0.0</td>\n",
       "      <td>23.0</td>\n",
       "      <td>496.0</td>\n",
       "      <td>Shena</td>\n",
       "      <td>Dickson</td>\n",
       "      <td>37</td>\n",
       "      <td>Orlando-Kissimmee-Sanford, FL MSA</td>\n",
       "      <td>...</td>\n",
       "      <td>500</td>\n",
       "      <td>20</td>\n",
       "      <td>10</td>\n",
       "      <td>0.03</td>\n",
       "      <td>0.03</td>\n",
       "      <td>15.0</td>\n",
       "      <td>0.0</td>\n",
       "      <td>0.0</td>\n",
       "      <td>8.0</td>\n",
       "      <td>100.0</td>\n",
       "    </tr>\n",
       "  </tbody>\n",
       "</table>\n",
       "<p>5 rows × 24 columns</p>\n",
       "</div>"
      ],
      "text/plain": [
       "      user_id  month  number_of_calls  msg_per_month  gb_per_month  \\\n",
       "2253     1498     12               39            0.0          24.0   \n",
       "2254     1499      9               41            0.0          13.0   \n",
       "2255     1499     10               53            0.0          20.0   \n",
       "2256     1499     11               45            0.0          17.0   \n",
       "2257     1499     12               65            0.0          23.0   \n",
       "\n",
       "      minutes_per_month first_name   last_name  age  \\\n",
       "2253              339.0       Scot  Williamson   51   \n",
       "2254              346.0      Shena     Dickson   37   \n",
       "2255              385.0      Shena     Dickson   37   \n",
       "2256              308.0      Shena     Dickson   37   \n",
       "2257              496.0      Shena     Dickson   37   \n",
       "\n",
       "                                           city  ... minutes_included  \\\n",
       "2253  New York-Newark-Jersey City, NY-NJ-PA MSA  ...              500   \n",
       "2254          Orlando-Kissimmee-Sanford, FL MSA  ...              500   \n",
       "2255          Orlando-Kissimmee-Sanford, FL MSA  ...              500   \n",
       "2256          Orlando-Kissimmee-Sanford, FL MSA  ...              500   \n",
       "2257          Orlando-Kissimmee-Sanford, FL MSA  ...              500   \n",
       "\n",
       "     usd_monthly_pay  usd_per_gb  usd_per_message  usd_per_minute  \\\n",
       "2253              20          10             0.03            0.03   \n",
       "2254              20          10             0.03            0.03   \n",
       "2255              20          10             0.03            0.03   \n",
       "2256              20          10             0.03            0.03   \n",
       "2257              20          10             0.03            0.03   \n",
       "\n",
       "      gb_per_month_included  extra_messages  extra_minutes  extra_internet  \\\n",
       "2253                   15.0             0.0            0.0             9.0   \n",
       "2254                   15.0             0.0            0.0             0.0   \n",
       "2255                   15.0             0.0            0.0             5.0   \n",
       "2256                   15.0             0.0            0.0             2.0   \n",
       "2257                   15.0             0.0            0.0             8.0   \n",
       "\n",
       "      monthly_cost  \n",
       "2253         110.0  \n",
       "2254          20.0  \n",
       "2255          70.0  \n",
       "2256          40.0  \n",
       "2257         100.0  \n",
       "\n",
       "[5 rows x 24 columns]"
      ]
     },
     "execution_count": 279,
     "metadata": {},
     "output_type": "execute_result"
    }
   ],
   "source": [
    "# Calcula el ingreso mensual para cada usuario\n",
    "\n",
    "df_consumption_per_plan['monthly_cost']= df_consumption_per_plan['usd_monthly_pay'] + (df_consumption_per_plan['usd_per_gb'] * df_consumption_per_plan['extra_internet']) + (df_consumption_per_plan['usd_per_message'] *df_consumption_per_plan['extra_messages'])+(df_consumption_per_plan['usd_per_minute']*df_consumption_per_plan['extra_minutes'])\n",
    "\n",
    "df_consumption_per_plan.tail()"
   ]
  },
  {
   "cell_type": "markdown",
   "metadata": {
    "id": "-jtyHzJb0q1I"
   },
   "source": [
    "## Estudia el comportamiento de usuario"
   ]
  },
  {
   "cell_type": "markdown",
   "metadata": {
    "id": "AxU3Y0N70q1J"
   },
   "source": [
    "Se calcula algunas estadísticas descriptivas para los datos agregados y fusionados que nos sean útiles y que muestren un panorama general captado por los datos. La tarea principal es comparar las tarifas y decidir cuál es más rentable\n",
    "\n"
   ]
  },
  {
   "cell_type": "code",
   "execution_count": null,
   "metadata": {},
   "outputs": [
    {
     "data": {
      "text/plain": [
       "Index(['user_id', 'month', 'number_of_calls', 'msg_per_month', 'gb_per_month',\n",
       "       'minutes_per_month', 'first_name', 'last_name', 'age', 'city',\n",
       "       'reg_date', 'plan', 'messages_included', 'mb_per_month_included',\n",
       "       'minutes_included', 'usd_monthly_pay', 'usd_per_gb', 'usd_per_message',\n",
       "       'usd_per_minute', 'gb_per_month_included', 'extra_messages',\n",
       "       'extra_minutes', 'extra_internet', 'monthly_cost'],\n",
       "      dtype='object')"
      ]
     },
     "execution_count": 47,
     "metadata": {},
     "output_type": "execute_result"
    }
   ],
   "source": [
    "df_consumption_per_plan.columns"
   ]
  },
  {
   "cell_type": "code",
   "execution_count": null,
   "metadata": {},
   "outputs": [
    {
     "data": {
      "text/html": [
       "<div>\n",
       "<style scoped>\n",
       "    .dataframe tbody tr th:only-of-type {\n",
       "        vertical-align: middle;\n",
       "    }\n",
       "\n",
       "    .dataframe tbody tr th {\n",
       "        vertical-align: top;\n",
       "    }\n",
       "\n",
       "    .dataframe thead th {\n",
       "        text-align: right;\n",
       "    }\n",
       "</style>\n",
       "<table border=\"1\" class=\"dataframe\">\n",
       "  <thead>\n",
       "    <tr style=\"text-align: right;\">\n",
       "      <th></th>\n",
       "      <th>user_id</th>\n",
       "      <th>month</th>\n",
       "      <th>number_of_calls</th>\n",
       "      <th>msg_per_month</th>\n",
       "      <th>gb_per_month</th>\n",
       "      <th>minutes_per_month</th>\n",
       "      <th>age</th>\n",
       "      <th>messages_included</th>\n",
       "      <th>mb_per_month_included</th>\n",
       "      <th>minutes_included</th>\n",
       "      <th>usd_monthly_pay</th>\n",
       "      <th>usd_per_gb</th>\n",
       "      <th>usd_per_message</th>\n",
       "      <th>usd_per_minute</th>\n",
       "      <th>gb_per_month_included</th>\n",
       "      <th>extra_messages</th>\n",
       "      <th>extra_minutes</th>\n",
       "      <th>extra_internet</th>\n",
       "      <th>monthly_cost</th>\n",
       "    </tr>\n",
       "  </thead>\n",
       "  <tbody>\n",
       "    <tr>\n",
       "      <th>count</th>\n",
       "      <td>2258.000000</td>\n",
       "      <td>2258.000000</td>\n",
       "      <td>2258.000000</td>\n",
       "      <td>2258.000000</td>\n",
       "      <td>2258.000000</td>\n",
       "      <td>2258.000000</td>\n",
       "      <td>2258.000000</td>\n",
       "      <td>2258.000000</td>\n",
       "      <td>2258.000000</td>\n",
       "      <td>2258.000000</td>\n",
       "      <td>2258.000000</td>\n",
       "      <td>2258.000000</td>\n",
       "      <td>2258.000000</td>\n",
       "      <td>2258.000000</td>\n",
       "      <td>2258.000000</td>\n",
       "      <td>2258.000000</td>\n",
       "      <td>2258.000000</td>\n",
       "      <td>2258.000000</td>\n",
       "      <td>2258.000000</td>\n",
       "    </tr>\n",
       "    <tr>\n",
       "      <th>mean</th>\n",
       "      <td>1247.175819</td>\n",
       "      <td>9.167405</td>\n",
       "      <td>60.998671</td>\n",
       "      <td>33.053587</td>\n",
       "      <td>17.236050</td>\n",
       "      <td>435.937555</td>\n",
       "      <td>45.353853</td>\n",
       "      <td>349.977857</td>\n",
       "      <td>20210.168291</td>\n",
       "      <td>1289.415412</td>\n",
       "      <td>35.788308</td>\n",
       "      <td>9.052702</td>\n",
       "      <td>0.023685</td>\n",
       "      <td>0.023685</td>\n",
       "      <td>19.736492</td>\n",
       "      <td>4.778122</td>\n",
       "      <td>42.814438</td>\n",
       "      <td>2.919841</td>\n",
       "      <td>66.054438</td>\n",
       "    </tr>\n",
       "    <tr>\n",
       "      <th>std</th>\n",
       "      <td>143.344211</td>\n",
       "      <td>2.495785</td>\n",
       "      <td>31.770869</td>\n",
       "      <td>34.149535</td>\n",
       "      <td>7.834497</td>\n",
       "      <td>231.972343</td>\n",
       "      <td>16.782725</td>\n",
       "      <td>441.677081</td>\n",
       "      <td>7141.221012</td>\n",
       "      <td>1162.308107</td>\n",
       "      <td>23.246162</td>\n",
       "      <td>1.394770</td>\n",
       "      <td>0.009298</td>\n",
       "      <td>0.009298</td>\n",
       "      <td>6.973849</td>\n",
       "      <td>16.511913</td>\n",
       "      <td>108.503428</td>\n",
       "      <td>4.933519</td>\n",
       "      <td>46.676511</td>\n",
       "    </tr>\n",
       "    <tr>\n",
       "      <th>min</th>\n",
       "      <td>1000.000000</td>\n",
       "      <td>1.000000</td>\n",
       "      <td>1.000000</td>\n",
       "      <td>0.000000</td>\n",
       "      <td>0.000000</td>\n",
       "      <td>0.000000</td>\n",
       "      <td>18.000000</td>\n",
       "      <td>50.000000</td>\n",
       "      <td>15360.000000</td>\n",
       "      <td>500.000000</td>\n",
       "      <td>20.000000</td>\n",
       "      <td>7.000000</td>\n",
       "      <td>0.010000</td>\n",
       "      <td>0.010000</td>\n",
       "      <td>15.000000</td>\n",
       "      <td>0.000000</td>\n",
       "      <td>0.000000</td>\n",
       "      <td>0.000000</td>\n",
       "      <td>20.000000</td>\n",
       "    </tr>\n",
       "    <tr>\n",
       "      <th>25%</th>\n",
       "      <td>1122.000000</td>\n",
       "      <td>8.000000</td>\n",
       "      <td>39.000000</td>\n",
       "      <td>3.000000</td>\n",
       "      <td>13.000000</td>\n",
       "      <td>275.000000</td>\n",
       "      <td>30.000000</td>\n",
       "      <td>50.000000</td>\n",
       "      <td>15360.000000</td>\n",
       "      <td>500.000000</td>\n",
       "      <td>20.000000</td>\n",
       "      <td>7.000000</td>\n",
       "      <td>0.010000</td>\n",
       "      <td>0.010000</td>\n",
       "      <td>15.000000</td>\n",
       "      <td>0.000000</td>\n",
       "      <td>0.000000</td>\n",
       "      <td>0.000000</td>\n",
       "      <td>25.512500</td>\n",
       "    </tr>\n",
       "    <tr>\n",
       "      <th>50%</th>\n",
       "      <td>1246.000000</td>\n",
       "      <td>10.000000</td>\n",
       "      <td>60.000000</td>\n",
       "      <td>25.000000</td>\n",
       "      <td>17.000000</td>\n",
       "      <td>429.000000</td>\n",
       "      <td>46.000000</td>\n",
       "      <td>50.000000</td>\n",
       "      <td>15360.000000</td>\n",
       "      <td>500.000000</td>\n",
       "      <td>20.000000</td>\n",
       "      <td>10.000000</td>\n",
       "      <td>0.030000</td>\n",
       "      <td>0.030000</td>\n",
       "      <td>15.000000</td>\n",
       "      <td>0.000000</td>\n",
       "      <td>0.000000</td>\n",
       "      <td>0.000000</td>\n",
       "      <td>70.000000</td>\n",
       "    </tr>\n",
       "    <tr>\n",
       "      <th>75%</th>\n",
       "      <td>1370.000000</td>\n",
       "      <td>11.000000</td>\n",
       "      <td>80.000000</td>\n",
       "      <td>50.750000</td>\n",
       "      <td>21.000000</td>\n",
       "      <td>574.750000</td>\n",
       "      <td>61.000000</td>\n",
       "      <td>1000.000000</td>\n",
       "      <td>30720.000000</td>\n",
       "      <td>3000.000000</td>\n",
       "      <td>70.000000</td>\n",
       "      <td>10.000000</td>\n",
       "      <td>0.030000</td>\n",
       "      <td>0.030000</td>\n",
       "      <td>30.000000</td>\n",
       "      <td>0.000000</td>\n",
       "      <td>1.000000</td>\n",
       "      <td>5.000000</td>\n",
       "      <td>70.000000</td>\n",
       "    </tr>\n",
       "    <tr>\n",
       "      <th>max</th>\n",
       "      <td>1499.000000</td>\n",
       "      <td>12.000000</td>\n",
       "      <td>205.000000</td>\n",
       "      <td>266.000000</td>\n",
       "      <td>71.000000</td>\n",
       "      <td>1510.000000</td>\n",
       "      <td>75.000000</td>\n",
       "      <td>1000.000000</td>\n",
       "      <td>30720.000000</td>\n",
       "      <td>3000.000000</td>\n",
       "      <td>70.000000</td>\n",
       "      <td>10.000000</td>\n",
       "      <td>0.030000</td>\n",
       "      <td>0.030000</td>\n",
       "      <td>30.000000</td>\n",
       "      <td>216.000000</td>\n",
       "      <td>1010.000000</td>\n",
       "      <td>56.000000</td>\n",
       "      <td>600.370000</td>\n",
       "    </tr>\n",
       "  </tbody>\n",
       "</table>\n",
       "</div>"
      ],
      "text/plain": [
       "           user_id        month  number_of_calls  msg_per_month  gb_per_month  \\\n",
       "count  2258.000000  2258.000000      2258.000000    2258.000000   2258.000000   \n",
       "mean   1247.175819     9.167405        60.998671      33.053587     17.236050   \n",
       "std     143.344211     2.495785        31.770869      34.149535      7.834497   \n",
       "min    1000.000000     1.000000         1.000000       0.000000      0.000000   \n",
       "25%    1122.000000     8.000000        39.000000       3.000000     13.000000   \n",
       "50%    1246.000000    10.000000        60.000000      25.000000     17.000000   \n",
       "75%    1370.000000    11.000000        80.000000      50.750000     21.000000   \n",
       "max    1499.000000    12.000000       205.000000     266.000000     71.000000   \n",
       "\n",
       "       minutes_per_month          age  messages_included  \\\n",
       "count        2258.000000  2258.000000        2258.000000   \n",
       "mean          435.937555    45.353853         349.977857   \n",
       "std           231.972343    16.782725         441.677081   \n",
       "min             0.000000    18.000000          50.000000   \n",
       "25%           275.000000    30.000000          50.000000   \n",
       "50%           429.000000    46.000000          50.000000   \n",
       "75%           574.750000    61.000000        1000.000000   \n",
       "max          1510.000000    75.000000        1000.000000   \n",
       "\n",
       "       mb_per_month_included  minutes_included  usd_monthly_pay   usd_per_gb  \\\n",
       "count            2258.000000       2258.000000      2258.000000  2258.000000   \n",
       "mean            20210.168291       1289.415412        35.788308     9.052702   \n",
       "std              7141.221012       1162.308107        23.246162     1.394770   \n",
       "min             15360.000000        500.000000        20.000000     7.000000   \n",
       "25%             15360.000000        500.000000        20.000000     7.000000   \n",
       "50%             15360.000000        500.000000        20.000000    10.000000   \n",
       "75%             30720.000000       3000.000000        70.000000    10.000000   \n",
       "max             30720.000000       3000.000000        70.000000    10.000000   \n",
       "\n",
       "       usd_per_message  usd_per_minute  gb_per_month_included  extra_messages  \\\n",
       "count      2258.000000     2258.000000            2258.000000     2258.000000   \n",
       "mean          0.023685        0.023685              19.736492        4.778122   \n",
       "std           0.009298        0.009298               6.973849       16.511913   \n",
       "min           0.010000        0.010000              15.000000        0.000000   \n",
       "25%           0.010000        0.010000              15.000000        0.000000   \n",
       "50%           0.030000        0.030000              15.000000        0.000000   \n",
       "75%           0.030000        0.030000              30.000000        0.000000   \n",
       "max           0.030000        0.030000              30.000000      216.000000   \n",
       "\n",
       "       extra_minutes  extra_internet  monthly_cost  \n",
       "count    2258.000000     2258.000000   2258.000000  \n",
       "mean       42.814438        2.919841     66.054438  \n",
       "std       108.503428        4.933519     46.676511  \n",
       "min         0.000000        0.000000     20.000000  \n",
       "25%         0.000000        0.000000     25.512500  \n",
       "50%         0.000000        0.000000     70.000000  \n",
       "75%         1.000000        5.000000     70.000000  \n",
       "max      1010.000000       56.000000    600.370000  "
      ]
     },
     "execution_count": 54,
     "metadata": {},
     "output_type": "execute_result"
    }
   ],
   "source": [
    "df_consumption_per_plan.describe()"
   ]
  },
  {
   "cell_type": "code",
   "execution_count": null,
   "metadata": {},
   "outputs": [
    {
     "data": {
      "text/html": [
       "<div>\n",
       "<style scoped>\n",
       "    .dataframe tbody tr th:only-of-type {\n",
       "        vertical-align: middle;\n",
       "    }\n",
       "\n",
       "    .dataframe tbody tr th {\n",
       "        vertical-align: top;\n",
       "    }\n",
       "\n",
       "    .dataframe thead th {\n",
       "        text-align: right;\n",
       "    }\n",
       "</style>\n",
       "<table border=\"1\" class=\"dataframe\">\n",
       "  <thead>\n",
       "    <tr style=\"text-align: right;\">\n",
       "      <th>month</th>\n",
       "      <th>1</th>\n",
       "      <th>2</th>\n",
       "      <th>3</th>\n",
       "      <th>4</th>\n",
       "      <th>5</th>\n",
       "      <th>6</th>\n",
       "      <th>7</th>\n",
       "      <th>8</th>\n",
       "      <th>9</th>\n",
       "      <th>10</th>\n",
       "      <th>11</th>\n",
       "      <th>12</th>\n",
       "    </tr>\n",
       "    <tr>\n",
       "      <th>plan</th>\n",
       "      <th></th>\n",
       "      <th></th>\n",
       "      <th></th>\n",
       "      <th></th>\n",
       "      <th></th>\n",
       "      <th></th>\n",
       "      <th></th>\n",
       "      <th></th>\n",
       "      <th></th>\n",
       "      <th></th>\n",
       "      <th></th>\n",
       "      <th></th>\n",
       "    </tr>\n",
       "  </thead>\n",
       "  <tbody>\n",
       "    <tr>\n",
       "      <th>surf</th>\n",
       "      <td>2</td>\n",
       "      <td>9</td>\n",
       "      <td>23</td>\n",
       "      <td>50</td>\n",
       "      <td>75</td>\n",
       "      <td>96</td>\n",
       "      <td>120</td>\n",
       "      <td>159</td>\n",
       "      <td>191</td>\n",
       "      <td>232</td>\n",
       "      <td>277</td>\n",
       "      <td>311</td>\n",
       "    </tr>\n",
       "    <tr>\n",
       "      <th>ultimate</th>\n",
       "      <td>4</td>\n",
       "      <td>6</td>\n",
       "      <td>12</td>\n",
       "      <td>21</td>\n",
       "      <td>29</td>\n",
       "      <td>45</td>\n",
       "      <td>59</td>\n",
       "      <td>71</td>\n",
       "      <td>86</td>\n",
       "      <td>105</td>\n",
       "      <td>126</td>\n",
       "      <td>149</td>\n",
       "    </tr>\n",
       "  </tbody>\n",
       "</table>\n",
       "</div>"
      ],
      "text/plain": [
       "month     1   2   3   4   5   6    7    8    9    10   11   12\n",
       "plan                                                          \n",
       "surf       2   9  23  50  75  96  120  159  191  232  277  311\n",
       "ultimate   4   6  12  21  29  45   59   71   86  105  126  149"
      ]
     },
     "execution_count": 230,
     "metadata": {},
     "output_type": "execute_result"
    }
   ],
   "source": [
    "#queremos saber cuantos usuarios hay en cada plan y como van cambiando segun el tiempo\n",
    "number_users= df_consumption_per_plan.groupby(['plan', 'month'])['user_id'].count().unstack()\n",
    "number_users"
   ]
  },
  {
   "cell_type": "markdown",
   "metadata": {
    "id": "vtW4CJEe0q1J"
   },
   "source": [
    "### Llamadas"
   ]
  },
  {
   "cell_type": "code",
   "execution_count": null,
   "metadata": {
    "id": "Jf5v5--k0q1J"
   },
   "outputs": [
    {
     "data": {
      "text/html": [
       "<div>\n",
       "<style scoped>\n",
       "    .dataframe tbody tr th:only-of-type {\n",
       "        vertical-align: middle;\n",
       "    }\n",
       "\n",
       "    .dataframe tbody tr th {\n",
       "        vertical-align: top;\n",
       "    }\n",
       "\n",
       "    .dataframe thead th {\n",
       "        text-align: right;\n",
       "    }\n",
       "</style>\n",
       "<table border=\"1\" class=\"dataframe\">\n",
       "  <thead>\n",
       "    <tr style=\"text-align: right;\">\n",
       "      <th></th>\n",
       "      <th>plan</th>\n",
       "      <th>month</th>\n",
       "      <th>mean_calls</th>\n",
       "    </tr>\n",
       "  </thead>\n",
       "  <tbody>\n",
       "    <tr>\n",
       "      <th>0</th>\n",
       "      <td>surf</td>\n",
       "      <td>1</td>\n",
       "      <td>30.000000</td>\n",
       "    </tr>\n",
       "    <tr>\n",
       "      <th>1</th>\n",
       "      <td>surf</td>\n",
       "      <td>2</td>\n",
       "      <td>40.666667</td>\n",
       "    </tr>\n",
       "    <tr>\n",
       "      <th>2</th>\n",
       "      <td>surf</td>\n",
       "      <td>3</td>\n",
       "      <td>46.434783</td>\n",
       "    </tr>\n",
       "    <tr>\n",
       "      <th>3</th>\n",
       "      <td>surf</td>\n",
       "      <td>4</td>\n",
       "      <td>48.880000</td>\n",
       "    </tr>\n",
       "    <tr>\n",
       "      <th>4</th>\n",
       "      <td>surf</td>\n",
       "      <td>5</td>\n",
       "      <td>57.186667</td>\n",
       "    </tr>\n",
       "    <tr>\n",
       "      <th>5</th>\n",
       "      <td>surf</td>\n",
       "      <td>6</td>\n",
       "      <td>60.093750</td>\n",
       "    </tr>\n",
       "    <tr>\n",
       "      <th>6</th>\n",
       "      <td>surf</td>\n",
       "      <td>7</td>\n",
       "      <td>63.683333</td>\n",
       "    </tr>\n",
       "    <tr>\n",
       "      <th>7</th>\n",
       "      <td>surf</td>\n",
       "      <td>8</td>\n",
       "      <td>58.647799</td>\n",
       "    </tr>\n",
       "    <tr>\n",
       "      <th>8</th>\n",
       "      <td>surf</td>\n",
       "      <td>9</td>\n",
       "      <td>59.020942</td>\n",
       "    </tr>\n",
       "    <tr>\n",
       "      <th>9</th>\n",
       "      <td>surf</td>\n",
       "      <td>10</td>\n",
       "      <td>61.650862</td>\n",
       "    </tr>\n",
       "    <tr>\n",
       "      <th>10</th>\n",
       "      <td>surf</td>\n",
       "      <td>11</td>\n",
       "      <td>60.400722</td>\n",
       "    </tr>\n",
       "    <tr>\n",
       "      <th>11</th>\n",
       "      <td>surf</td>\n",
       "      <td>12</td>\n",
       "      <td>66.926045</td>\n",
       "    </tr>\n",
       "    <tr>\n",
       "      <th>12</th>\n",
       "      <td>ultimate</td>\n",
       "      <td>1</td>\n",
       "      <td>28.000000</td>\n",
       "    </tr>\n",
       "    <tr>\n",
       "      <th>13</th>\n",
       "      <td>ultimate</td>\n",
       "      <td>2</td>\n",
       "      <td>68.000000</td>\n",
       "    </tr>\n",
       "    <tr>\n",
       "      <th>14</th>\n",
       "      <td>ultimate</td>\n",
       "      <td>3</td>\n",
       "      <td>46.000000</td>\n",
       "    </tr>\n",
       "    <tr>\n",
       "      <th>15</th>\n",
       "      <td>ultimate</td>\n",
       "      <td>4</td>\n",
       "      <td>47.523810</td>\n",
       "    </tr>\n",
       "    <tr>\n",
       "      <th>16</th>\n",
       "      <td>ultimate</td>\n",
       "      <td>5</td>\n",
       "      <td>57.586207</td>\n",
       "    </tr>\n",
       "    <tr>\n",
       "      <th>17</th>\n",
       "      <td>ultimate</td>\n",
       "      <td>6</td>\n",
       "      <td>54.488889</td>\n",
       "    </tr>\n",
       "    <tr>\n",
       "      <th>18</th>\n",
       "      <td>ultimate</td>\n",
       "      <td>7</td>\n",
       "      <td>58.694915</td>\n",
       "    </tr>\n",
       "    <tr>\n",
       "      <th>19</th>\n",
       "      <td>ultimate</td>\n",
       "      <td>8</td>\n",
       "      <td>60.070423</td>\n",
       "    </tr>\n",
       "    <tr>\n",
       "      <th>20</th>\n",
       "      <td>ultimate</td>\n",
       "      <td>9</td>\n",
       "      <td>61.046512</td>\n",
       "    </tr>\n",
       "    <tr>\n",
       "      <th>21</th>\n",
       "      <td>ultimate</td>\n",
       "      <td>10</td>\n",
       "      <td>64.390476</td>\n",
       "    </tr>\n",
       "    <tr>\n",
       "      <th>22</th>\n",
       "      <td>ultimate</td>\n",
       "      <td>11</td>\n",
       "      <td>62.857143</td>\n",
       "    </tr>\n",
       "    <tr>\n",
       "      <th>23</th>\n",
       "      <td>ultimate</td>\n",
       "      <td>12</td>\n",
       "      <td>65.771812</td>\n",
       "    </tr>\n",
       "  </tbody>\n",
       "</table>\n",
       "</div>"
      ],
      "text/plain": [
       "        plan  month  mean_calls\n",
       "0       surf      1   30.000000\n",
       "1       surf      2   40.666667\n",
       "2       surf      3   46.434783\n",
       "3       surf      4   48.880000\n",
       "4       surf      5   57.186667\n",
       "5       surf      6   60.093750\n",
       "6       surf      7   63.683333\n",
       "7       surf      8   58.647799\n",
       "8       surf      9   59.020942\n",
       "9       surf     10   61.650862\n",
       "10      surf     11   60.400722\n",
       "11      surf     12   66.926045\n",
       "12  ultimate      1   28.000000\n",
       "13  ultimate      2   68.000000\n",
       "14  ultimate      3   46.000000\n",
       "15  ultimate      4   47.523810\n",
       "16  ultimate      5   57.586207\n",
       "17  ultimate      6   54.488889\n",
       "18  ultimate      7   58.694915\n",
       "19  ultimate      8   60.070423\n",
       "20  ultimate      9   61.046512\n",
       "21  ultimate     10   64.390476\n",
       "22  ultimate     11   62.857143\n",
       "23  ultimate     12   65.771812"
      ]
     },
     "execution_count": 133,
     "metadata": {},
     "output_type": "execute_result"
    }
   ],
   "source": [
    "# Compara la duración promedio de llamadas por cada plan y por cada mes. Traza un gráfico de barras para visualizarla.\n",
    "\n",
    "df_mean_calls= df_consumption_per_plan.groupby(['plan','month'])['number_of_calls'].mean().reset_index(name='mean_calls')\n",
    "\n",
    "df_mean_calls"
   ]
  },
  {
   "cell_type": "code",
   "execution_count": null,
   "metadata": {},
   "outputs": [
    {
     "data": {
      "text/html": [
       "<div>\n",
       "<style scoped>\n",
       "    .dataframe tbody tr th:only-of-type {\n",
       "        vertical-align: middle;\n",
       "    }\n",
       "\n",
       "    .dataframe tbody tr th {\n",
       "        vertical-align: top;\n",
       "    }\n",
       "\n",
       "    .dataframe thead th {\n",
       "        text-align: right;\n",
       "    }\n",
       "</style>\n",
       "<table border=\"1\" class=\"dataframe\">\n",
       "  <thead>\n",
       "    <tr style=\"text-align: right;\">\n",
       "      <th>plan</th>\n",
       "      <th>surf</th>\n",
       "      <th>ultimate</th>\n",
       "    </tr>\n",
       "    <tr>\n",
       "      <th>month</th>\n",
       "      <th></th>\n",
       "      <th></th>\n",
       "    </tr>\n",
       "  </thead>\n",
       "  <tbody>\n",
       "    <tr>\n",
       "      <th>1</th>\n",
       "      <td>30.000000</td>\n",
       "      <td>28.000000</td>\n",
       "    </tr>\n",
       "    <tr>\n",
       "      <th>2</th>\n",
       "      <td>40.666667</td>\n",
       "      <td>68.000000</td>\n",
       "    </tr>\n",
       "    <tr>\n",
       "      <th>3</th>\n",
       "      <td>46.434783</td>\n",
       "      <td>46.000000</td>\n",
       "    </tr>\n",
       "    <tr>\n",
       "      <th>4</th>\n",
       "      <td>48.880000</td>\n",
       "      <td>47.523810</td>\n",
       "    </tr>\n",
       "    <tr>\n",
       "      <th>5</th>\n",
       "      <td>57.186667</td>\n",
       "      <td>57.586207</td>\n",
       "    </tr>\n",
       "    <tr>\n",
       "      <th>6</th>\n",
       "      <td>60.093750</td>\n",
       "      <td>54.488889</td>\n",
       "    </tr>\n",
       "    <tr>\n",
       "      <th>7</th>\n",
       "      <td>63.683333</td>\n",
       "      <td>58.694915</td>\n",
       "    </tr>\n",
       "    <tr>\n",
       "      <th>8</th>\n",
       "      <td>58.647799</td>\n",
       "      <td>60.070423</td>\n",
       "    </tr>\n",
       "    <tr>\n",
       "      <th>9</th>\n",
       "      <td>59.020942</td>\n",
       "      <td>61.046512</td>\n",
       "    </tr>\n",
       "    <tr>\n",
       "      <th>10</th>\n",
       "      <td>61.650862</td>\n",
       "      <td>64.390476</td>\n",
       "    </tr>\n",
       "    <tr>\n",
       "      <th>11</th>\n",
       "      <td>60.400722</td>\n",
       "      <td>62.857143</td>\n",
       "    </tr>\n",
       "    <tr>\n",
       "      <th>12</th>\n",
       "      <td>66.926045</td>\n",
       "      <td>65.771812</td>\n",
       "    </tr>\n",
       "  </tbody>\n",
       "</table>\n",
       "</div>"
      ],
      "text/plain": [
       "plan        surf   ultimate\n",
       "month                      \n",
       "1      30.000000  28.000000\n",
       "2      40.666667  68.000000\n",
       "3      46.434783  46.000000\n",
       "4      48.880000  47.523810\n",
       "5      57.186667  57.586207\n",
       "6      60.093750  54.488889\n",
       "7      63.683333  58.694915\n",
       "8      58.647799  60.070423\n",
       "9      59.020942  61.046512\n",
       "10     61.650862  64.390476\n",
       "11     60.400722  62.857143\n",
       "12     66.926045  65.771812"
      ]
     },
     "execution_count": 137,
     "metadata": {},
     "output_type": "execute_result"
    }
   ],
   "source": [
    "#Se realiza una tabla dinamica para facilitar la comprension de la informacion, ya que facilita tener las dos columnas de los planes\n",
    "df_pivot_mean_calls=df_mean_calls.pivot_table(index='month', columns='plan', values='mean_calls')\n",
    "df_pivot_mean_calls"
   ]
  },
  {
   "cell_type": "markdown",
   "metadata": {},
   "source": [
    "#### Grafico promedio llamadas"
   ]
  },
  {
   "cell_type": "code",
   "execution_count": null,
   "metadata": {},
   "outputs": [
    {
     "data": {
      "image/png": "[encoded data removed]",
      "text/plain": [
       "<Figure size 640x480 with 1 Axes>"
      ]
     },
     "metadata": {},
     "output_type": "display_data"
    }
   ],
   "source": [
    "plt.bar(df_pivot_mean_calls.index, df_pivot_mean_calls['surf'], color='#68b0ab', alpha=0.9,label='Surf')\n",
    "\n",
    "plt.bar(df_pivot_mean_calls.index, df_pivot_mean_calls['ultimate'], color='#c8d5b9', alpha=0.5, label='Ultimate')\n",
    "\n",
    "plt.xlabel(\"Mes\")\n",
    "plt.ylabel(\"Promedio de llamadas\")\n",
    "plt.title(\"Promedio de llamadas por mes según el plan\")\n",
    "plt.legend()\n",
    "plt.show()"
   ]
  },
  {
   "cell_type": "markdown",
   "metadata": {},
   "source": [
    "Como se pude observar, el comportamiento del promedio de las llamadas para ambos planes tiende a ser similiar en todos los meses, a diferencia del mes 2 donde se evidencia un gran aumento en las llamadas del plan ultimate"
   ]
  },
  {
   "cell_type": "code",
   "execution_count": null,
   "metadata": {
    "id": "QoLqW1S_0q1J"
   },
   "outputs": [
    {
     "data": {
      "text/html": [
       "<div>\n",
       "<style scoped>\n",
       "    .dataframe tbody tr th:only-of-type {\n",
       "        vertical-align: middle;\n",
       "    }\n",
       "\n",
       "    .dataframe tbody tr th {\n",
       "        vertical-align: top;\n",
       "    }\n",
       "\n",
       "    .dataframe thead th {\n",
       "        text-align: right;\n",
       "    }\n",
       "</style>\n",
       "<table border=\"1\" class=\"dataframe\">\n",
       "  <thead>\n",
       "    <tr style=\"text-align: right;\">\n",
       "      <th></th>\n",
       "      <th>plan</th>\n",
       "      <th>month</th>\n",
       "      <th>sum_minutes</th>\n",
       "    </tr>\n",
       "  </thead>\n",
       "  <tbody>\n",
       "    <tr>\n",
       "      <th>0</th>\n",
       "      <td>surf</td>\n",
       "      <td>1</td>\n",
       "      <td>406.0</td>\n",
       "    </tr>\n",
       "    <tr>\n",
       "      <th>1</th>\n",
       "      <td>surf</td>\n",
       "      <td>2</td>\n",
       "      <td>2673.0</td>\n",
       "    </tr>\n",
       "    <tr>\n",
       "      <th>2</th>\n",
       "      <td>surf</td>\n",
       "      <td>3</td>\n",
       "      <td>7590.0</td>\n",
       "    </tr>\n",
       "    <tr>\n",
       "      <th>3</th>\n",
       "      <td>surf</td>\n",
       "      <td>4</td>\n",
       "      <td>17577.0</td>\n",
       "    </tr>\n",
       "    <tr>\n",
       "      <th>4</th>\n",
       "      <td>surf</td>\n",
       "      <td>5</td>\n",
       "      <td>30768.0</td>\n",
       "    </tr>\n",
       "    <tr>\n",
       "      <th>5</th>\n",
       "      <td>surf</td>\n",
       "      <td>6</td>\n",
       "      <td>41836.0</td>\n",
       "    </tr>\n",
       "    <tr>\n",
       "      <th>6</th>\n",
       "      <td>surf</td>\n",
       "      <td>7</td>\n",
       "      <td>54448.0</td>\n",
       "    </tr>\n",
       "    <tr>\n",
       "      <th>7</th>\n",
       "      <td>surf</td>\n",
       "      <td>8</td>\n",
       "      <td>66438.0</td>\n",
       "    </tr>\n",
       "    <tr>\n",
       "      <th>8</th>\n",
       "      <td>surf</td>\n",
       "      <td>9</td>\n",
       "      <td>80360.0</td>\n",
       "    </tr>\n",
       "    <tr>\n",
       "      <th>9</th>\n",
       "      <td>surf</td>\n",
       "      <td>10</td>\n",
       "      <td>101846.0</td>\n",
       "    </tr>\n",
       "    <tr>\n",
       "      <th>10</th>\n",
       "      <td>surf</td>\n",
       "      <td>11</td>\n",
       "      <td>119801.0</td>\n",
       "    </tr>\n",
       "    <tr>\n",
       "      <th>11</th>\n",
       "      <td>surf</td>\n",
       "      <td>12</td>\n",
       "      <td>150680.0</td>\n",
       "    </tr>\n",
       "    <tr>\n",
       "      <th>12</th>\n",
       "      <td>ultimate</td>\n",
       "      <td>1</td>\n",
       "      <td>774.0</td>\n",
       "    </tr>\n",
       "    <tr>\n",
       "      <th>13</th>\n",
       "      <td>ultimate</td>\n",
       "      <td>2</td>\n",
       "      <td>2822.0</td>\n",
       "    </tr>\n",
       "    <tr>\n",
       "      <th>14</th>\n",
       "      <td>ultimate</td>\n",
       "      <td>3</td>\n",
       "      <td>3651.0</td>\n",
       "    </tr>\n",
       "    <tr>\n",
       "      <th>15</th>\n",
       "      <td>ultimate</td>\n",
       "      <td>4</td>\n",
       "      <td>7074.0</td>\n",
       "    </tr>\n",
       "    <tr>\n",
       "      <th>16</th>\n",
       "      <td>ultimate</td>\n",
       "      <td>5</td>\n",
       "      <td>11781.0</td>\n",
       "    </tr>\n",
       "    <tr>\n",
       "      <th>17</th>\n",
       "      <td>ultimate</td>\n",
       "      <td>6</td>\n",
       "      <td>17435.0</td>\n",
       "    </tr>\n",
       "    <tr>\n",
       "      <th>18</th>\n",
       "      <td>ultimate</td>\n",
       "      <td>7</td>\n",
       "      <td>25197.0</td>\n",
       "    </tr>\n",
       "    <tr>\n",
       "      <th>19</th>\n",
       "      <td>ultimate</td>\n",
       "      <td>8</td>\n",
       "      <td>29922.0</td>\n",
       "    </tr>\n",
       "    <tr>\n",
       "      <th>20</th>\n",
       "      <td>ultimate</td>\n",
       "      <td>9</td>\n",
       "      <td>37626.0</td>\n",
       "    </tr>\n",
       "    <tr>\n",
       "      <th>21</th>\n",
       "      <td>ultimate</td>\n",
       "      <td>10</td>\n",
       "      <td>47778.0</td>\n",
       "    </tr>\n",
       "    <tr>\n",
       "      <th>22</th>\n",
       "      <td>ultimate</td>\n",
       "      <td>11</td>\n",
       "      <td>56540.0</td>\n",
       "    </tr>\n",
       "    <tr>\n",
       "      <th>23</th>\n",
       "      <td>ultimate</td>\n",
       "      <td>12</td>\n",
       "      <td>69324.0</td>\n",
       "    </tr>\n",
       "  </tbody>\n",
       "</table>\n",
       "</div>"
      ],
      "text/plain": [
       "        plan  month  sum_minutes\n",
       "0       surf      1        406.0\n",
       "1       surf      2       2673.0\n",
       "2       surf      3       7590.0\n",
       "3       surf      4      17577.0\n",
       "4       surf      5      30768.0\n",
       "5       surf      6      41836.0\n",
       "6       surf      7      54448.0\n",
       "7       surf      8      66438.0\n",
       "8       surf      9      80360.0\n",
       "9       surf     10     101846.0\n",
       "10      surf     11     119801.0\n",
       "11      surf     12     150680.0\n",
       "12  ultimate      1        774.0\n",
       "13  ultimate      2       2822.0\n",
       "14  ultimate      3       3651.0\n",
       "15  ultimate      4       7074.0\n",
       "16  ultimate      5      11781.0\n",
       "17  ultimate      6      17435.0\n",
       "18  ultimate      7      25197.0\n",
       "19  ultimate      8      29922.0\n",
       "20  ultimate      9      37626.0\n",
       "21  ultimate     10      47778.0\n",
       "22  ultimate     11      56540.0\n",
       "23  ultimate     12      69324.0"
      ]
     },
     "execution_count": 207,
     "metadata": {},
     "output_type": "execute_result"
    }
   ],
   "source": [
    "# Compara el número de minutos mensuales que necesitan los usuarios de cada plan. Traza un histograma.\n",
    "\n",
    "df_total_minutes= df_consumption_per_plan.groupby(['plan', 'month'])['minutes_per_month'].sum().reset_index(name='sum_minutes')\n",
    "df_total_minutes"
   ]
  },
  {
   "cell_type": "code",
   "execution_count": null,
   "metadata": {},
   "outputs": [
    {
     "data": {
      "text/html": [
       "<div>\n",
       "<style scoped>\n",
       "    .dataframe tbody tr th:only-of-type {\n",
       "        vertical-align: middle;\n",
       "    }\n",
       "\n",
       "    .dataframe tbody tr th {\n",
       "        vertical-align: top;\n",
       "    }\n",
       "\n",
       "    .dataframe thead th {\n",
       "        text-align: right;\n",
       "    }\n",
       "</style>\n",
       "<table border=\"1\" class=\"dataframe\">\n",
       "  <thead>\n",
       "    <tr style=\"text-align: right;\">\n",
       "      <th>plan</th>\n",
       "      <th>surf</th>\n",
       "      <th>ultimate</th>\n",
       "    </tr>\n",
       "    <tr>\n",
       "      <th>month</th>\n",
       "      <th></th>\n",
       "      <th></th>\n",
       "    </tr>\n",
       "  </thead>\n",
       "  <tbody>\n",
       "    <tr>\n",
       "      <th>1</th>\n",
       "      <td>406.0</td>\n",
       "      <td>774.0</td>\n",
       "    </tr>\n",
       "    <tr>\n",
       "      <th>2</th>\n",
       "      <td>2673.0</td>\n",
       "      <td>2822.0</td>\n",
       "    </tr>\n",
       "    <tr>\n",
       "      <th>3</th>\n",
       "      <td>7590.0</td>\n",
       "      <td>3651.0</td>\n",
       "    </tr>\n",
       "    <tr>\n",
       "      <th>4</th>\n",
       "      <td>17577.0</td>\n",
       "      <td>7074.0</td>\n",
       "    </tr>\n",
       "    <tr>\n",
       "      <th>5</th>\n",
       "      <td>30768.0</td>\n",
       "      <td>11781.0</td>\n",
       "    </tr>\n",
       "    <tr>\n",
       "      <th>6</th>\n",
       "      <td>41836.0</td>\n",
       "      <td>17435.0</td>\n",
       "    </tr>\n",
       "    <tr>\n",
       "      <th>7</th>\n",
       "      <td>54448.0</td>\n",
       "      <td>25197.0</td>\n",
       "    </tr>\n",
       "    <tr>\n",
       "      <th>8</th>\n",
       "      <td>66438.0</td>\n",
       "      <td>29922.0</td>\n",
       "    </tr>\n",
       "    <tr>\n",
       "      <th>9</th>\n",
       "      <td>80360.0</td>\n",
       "      <td>37626.0</td>\n",
       "    </tr>\n",
       "    <tr>\n",
       "      <th>10</th>\n",
       "      <td>101846.0</td>\n",
       "      <td>47778.0</td>\n",
       "    </tr>\n",
       "    <tr>\n",
       "      <th>11</th>\n",
       "      <td>119801.0</td>\n",
       "      <td>56540.0</td>\n",
       "    </tr>\n",
       "    <tr>\n",
       "      <th>12</th>\n",
       "      <td>150680.0</td>\n",
       "      <td>69324.0</td>\n",
       "    </tr>\n",
       "  </tbody>\n",
       "</table>\n",
       "</div>"
      ],
      "text/plain": [
       "plan       surf  ultimate\n",
       "month                    \n",
       "1         406.0     774.0\n",
       "2        2673.0    2822.0\n",
       "3        7590.0    3651.0\n",
       "4       17577.0    7074.0\n",
       "5       30768.0   11781.0\n",
       "6       41836.0   17435.0\n",
       "7       54448.0   25197.0\n",
       "8       66438.0   29922.0\n",
       "9       80360.0   37626.0\n",
       "10     101846.0   47778.0\n",
       "11     119801.0   56540.0\n",
       "12     150680.0   69324.0"
      ]
     },
     "execution_count": 208,
     "metadata": {},
     "output_type": "execute_result"
    }
   ],
   "source": [
    "#Se realiza una tabla dinamica para facilitar la comprension de la informacion, ya que facilita tener las dos columnas de los planes\n",
    "df_pivot_sum_minutes=df_total_minutes.pivot_table(index='month', columns='plan', values='sum_minutes')\n",
    "df_pivot_sum_minutes"
   ]
  },
  {
   "cell_type": "markdown",
   "metadata": {},
   "source": [
    "#### Grafico consumo de minutos al mes por plan"
   ]
  },
  {
   "cell_type": "code",
   "execution_count": null,
   "metadata": {},
   "outputs": [
    {
     "data": {
      "image/png": "[encoded data removed]",
      "text/plain": [
       "<Figure size 640x480 with 1 Axes>"
      ]
     },
     "metadata": {},
     "output_type": "display_data"
    }
   ],
   "source": [
    "plt.hist(df_pivot_sum_minutes['surf'], bins=10, alpha=0.7, color=['#bfd3c1'], label='surf')\n",
    "\n",
    "plt.hist(df_pivot_sum_minutes['ultimate'], bins=10, alpha=0.7, color=['#68a691'], label='ultimate')\n",
    "\n",
    "plt.xlabel(\"Minutos totales\")\n",
    "plt.ylabel(\"Frecuencia\")\n",
    "plt.title(\"Minutos totales respecto al mes segun cada plan\")\n",
    "plt.legend()\n",
    "\n",
    "plt.show()"
   ]
  },
  {
   "cell_type": "markdown",
   "metadata": {},
   "source": [
    "Se evidencia que los usuarios del plan surf tienden a cambiar la cantidad de minutos al mes, sin embargo, se puede observar que hubo 2 meses donde acumularon el mismo rango de minutos entre 0-1800 aprox y  tres meses donde acumularon entre 3000-5000. Para el plan ultimate se ve solo 1 tendencia significativa, los usuarios durante 4 meses sumaron entre 0-1000 minutos, los demas meses tuvieron un comportamiento diferente. En conclusion, los usuarios del plan surf tienen a consumir mas minutos que los del plan ultimate, lo que podria tener sentido porque la cantidad de usuarios del plan surf duplica la cantidad de usuarios del otro plan."
   ]
  },
  {
   "cell_type": "markdown",
   "metadata": {},
   "source": [
    "#### Media y Varianza para llamadas"
   ]
  },
  {
   "cell_type": "code",
   "execution_count": null,
   "metadata": {
    "id": "oSndbAnt0q1K"
   },
   "outputs": [
    {
     "name": "stdout",
     "output_type": "stream",
     "text": [
      "Media de las llamadas para el plan surf: 56201.916666666664 y la varianza es: 2402963284.9924245\n",
      "Media de las llamadas para el plan ultimate :25827.0 y la varianza es: 521959518.54545456\n"
     ]
    }
   ],
   "source": [
    "# Calcula la media y la varianza de la duración mensual de llamadas.\n",
    "mean_call_surf =df_pivot_sum_minutes['surf'].mean()\n",
    "var_call_surf =df_pivot_sum_minutes['surf'].var()\n",
    "\n",
    "mean_call_ultimate =df_pivot_sum_minutes['ultimate'].mean()\n",
    "var_call_ultimate =df_pivot_sum_minutes['ultimate'].var()\n",
    "\n",
    "\n",
    "print (f\"Media de las llamadas para el plan surf: {mean_call_surf} y la varianza es: {var_call_surf}\") \n",
    "print (f\"Media de las llamadas para el plan ultimate :{mean_call_ultimate} y la varianza es: {var_call_ultimate}\") \n"
   ]
  },
  {
   "cell_type": "code",
   "execution_count": null,
   "metadata": {
    "id": "nZzoRUKc0q1K"
   },
   "outputs": [
    {
     "data": {
      "image/png": "[encoded data removed]",
      "text/plain": [
       "<Figure size 640x480 with 1 Axes>"
      ]
     },
     "metadata": {},
     "output_type": "display_data"
    }
   ],
   "source": [
    "# Traza un diagrama de caja para visualizar la distribución de la duración mensual de llamadas\n",
    "\n",
    "plt.boxplot([df_pivot_sum_minutes['surf'],df_pivot_sum_minutes['ultimate']],labels=['surf','ultimate'])\n",
    "             \n",
    "plt.title('Distribucion de minutos totales por plan')\n",
    "plt.ylabel('Minutos totales')\n",
    "             \n",
    "plt.show()\n"
   ]
  },
  {
   "cell_type": "markdown",
   "metadata": {
    "id": "r627zBO50q1K"
   },
   "source": [
    "Efectivamente el comportamiento de los usuarios varia segun el plan, las medias para cada uno son diferentes. Adicional el inervalo intercuartilico nos muestra que hay mas usuarios en el plan surf que en el plan ultimate. El plan surf tiene valores maximos que pueden afectar el promedio y dar una sensacion falsa de que ambos planes se comportan igual dado que tienen promedios de llamadas muy parecidos, pero la realidad es que los datos se comportan de manera diferente."
   ]
  },
  {
   "cell_type": "markdown",
   "metadata": {
    "id": "8idKy8Wh0q1L"
   },
   "source": [
    "### Mensajes"
   ]
  },
  {
   "cell_type": "code",
   "execution_count": null,
   "metadata": {
    "id": "NXLxiTit0q1L"
   },
   "outputs": [
    {
     "data": {
      "text/html": [
       "<div>\n",
       "<style scoped>\n",
       "    .dataframe tbody tr th:only-of-type {\n",
       "        vertical-align: middle;\n",
       "    }\n",
       "\n",
       "    .dataframe tbody tr th {\n",
       "        vertical-align: top;\n",
       "    }\n",
       "\n",
       "    .dataframe thead th {\n",
       "        text-align: right;\n",
       "    }\n",
       "</style>\n",
       "<table border=\"1\" class=\"dataframe\">\n",
       "  <thead>\n",
       "    <tr style=\"text-align: right;\">\n",
       "      <th>plan</th>\n",
       "      <th>surf</th>\n",
       "      <th>ultimate</th>\n",
       "    </tr>\n",
       "    <tr>\n",
       "      <th>month</th>\n",
       "      <th></th>\n",
       "      <th></th>\n",
       "    </tr>\n",
       "  </thead>\n",
       "  <tbody>\n",
       "    <tr>\n",
       "      <th>1</th>\n",
       "      <td>21.0</td>\n",
       "      <td>62.0</td>\n",
       "    </tr>\n",
       "    <tr>\n",
       "      <th>2</th>\n",
       "      <td>108.0</td>\n",
       "      <td>139.0</td>\n",
       "    </tr>\n",
       "    <tr>\n",
       "      <th>3</th>\n",
       "      <td>351.0</td>\n",
       "      <td>243.0</td>\n",
       "    </tr>\n",
       "    <tr>\n",
       "      <th>4</th>\n",
       "      <td>870.0</td>\n",
       "      <td>463.0</td>\n",
       "    </tr>\n",
       "    <tr>\n",
       "      <th>5</th>\n",
       "      <td>1829.0</td>\n",
       "      <td>931.0</td>\n",
       "    </tr>\n",
       "    <tr>\n",
       "      <th>6</th>\n",
       "      <td>2427.0</td>\n",
       "      <td>1374.0</td>\n",
       "    </tr>\n",
       "    <tr>\n",
       "      <th>7</th>\n",
       "      <td>3243.0</td>\n",
       "      <td>1937.0</td>\n",
       "    </tr>\n",
       "    <tr>\n",
       "      <th>8</th>\n",
       "      <td>4588.0</td>\n",
       "      <td>2732.0</td>\n",
       "    </tr>\n",
       "    <tr>\n",
       "      <th>9</th>\n",
       "      <td>5802.0</td>\n",
       "      <td>3259.0</td>\n",
       "    </tr>\n",
       "    <tr>\n",
       "      <th>10</th>\n",
       "      <td>7718.0</td>\n",
       "      <td>4179.0</td>\n",
       "    </tr>\n",
       "    <tr>\n",
       "      <th>11</th>\n",
       "      <td>8896.0</td>\n",
       "      <td>4861.0</td>\n",
       "    </tr>\n",
       "    <tr>\n",
       "      <th>12</th>\n",
       "      <td>11884.0</td>\n",
       "      <td>6718.0</td>\n",
       "    </tr>\n",
       "  </tbody>\n",
       "</table>\n",
       "</div>"
      ],
      "text/plain": [
       "plan      surf  ultimate\n",
       "month                   \n",
       "1         21.0      62.0\n",
       "2        108.0     139.0\n",
       "3        351.0     243.0\n",
       "4        870.0     463.0\n",
       "5       1829.0     931.0\n",
       "6       2427.0    1374.0\n",
       "7       3243.0    1937.0\n",
       "8       4588.0    2732.0\n",
       "9       5802.0    3259.0\n",
       "10      7718.0    4179.0\n",
       "11      8896.0    4861.0\n",
       "12     11884.0    6718.0"
      ]
     },
     "execution_count": 224,
     "metadata": {},
     "output_type": "execute_result"
    }
   ],
   "source": [
    "# Comprara el número de mensajes que tienden a enviar cada mes los usuarios de cada plan\n",
    "\n",
    "#Se agrupan primero los datos y se crea la nueva columna que contenga el valor de la cantidad de mensajes enviados en el mes para cada plan,\n",
    "#luego se llama a la tabla dinamica para visualizar y graficas de una forma mas facil\n",
    "\n",
    "df_messages_plan= df_consumption_per_plan.groupby(['plan','month'])['msg_per_month'].sum().reset_index(name='number_of_messages')\n",
    "\n",
    "df_messages_plan_pivot=df_messages_plan.pivot_table(index='month', columns='plan',values='number_of_messages')\n",
    "\n",
    "df_messages_plan_pivot"
   ]
  },
  {
   "cell_type": "markdown",
   "metadata": {},
   "source": [
    "#### Grafico de mensajes enviados por mes segun el plan "
   ]
  },
  {
   "cell_type": "code",
   "execution_count": null,
   "metadata": {},
   "outputs": [
    {
     "data": {
      "image/png": "[encoded data removed]",
      "text/plain": [
       "<Figure size 640x480 with 1 Axes>"
      ]
     },
     "metadata": {},
     "output_type": "display_data"
    }
   ],
   "source": [
    "plt.bar(df_messages_plan_pivot.index, df_messages_plan_pivot['surf'], alpha=0.5, color='#274c77', label='surf')\n",
    "\n",
    "plt.bar(df_messages_plan_pivot.index, df_messages_plan_pivot['ultimate'], alpha=0.9, color='#e7ecef', label='ultimate')\n",
    "\n",
    "plt.xlabel('Mes')\n",
    "plt.ylabel('Cantidad de mensajes enviados')\n",
    "plt.title('Mensajes enviados por mes segun el plan')\n",
    "plt.legend()\n",
    "plt.show()"
   ]
  },
  {
   "cell_type": "markdown",
   "metadata": {},
   "source": [
    "Se evidencia que los usuarios han incrementado de forma exponencial para ambos planes el uso de los mensajes. Los usuarios del plan surf tienden a doblar la cantidad de mensajes enviados que los del plan ultimate. Esto se relaciona con que a medida que incrementa el tiempo, los usuarios se han ido inscribiendo en la compañia de telefonía. Para el mes de enero la cantidad de ususarios era realmente minima para ambos planes y al mes de diciembre ese valor se incrementó."
   ]
  },
  {
   "cell_type": "code",
   "execution_count": null,
   "metadata": {},
   "outputs": [
    {
     "data": {
      "image/png": "[encoded data removed]",
      "text/plain": [
       "<Figure size 640x480 with 1 Axes>"
      ]
     },
     "metadata": {},
     "output_type": "display_data"
    }
   ],
   "source": [
    "plt.boxplot([df_messages_plan_pivot['surf'],df_messages_plan_pivot['ultimate']],labels=['surf','ultimate'])\n",
    "             \n",
    "plt.title('Distribucion de mensajes totales por plan')\n",
    "plt.ylabel('Mensajes totales')\n",
    "             \n",
    "plt.show()"
   ]
  },
  {
   "cell_type": "markdown",
   "metadata": {},
   "source": [
    "Las distribuciones tienden a ser muy parecidas a las obtenidas para las llamadas, esto esta influenciado por la cantidad de usuarios para cada plan."
   ]
  },
  {
   "cell_type": "markdown",
   "metadata": {
    "id": "42YSypXz0q1M"
   },
   "source": [
    "### Internet"
   ]
  },
  {
   "cell_type": "code",
   "execution_count": null,
   "metadata": {
    "id": "lSuKPtjh0q1M"
   },
   "outputs": [
    {
     "data": {
      "text/html": [
       "<div>\n",
       "<style scoped>\n",
       "    .dataframe tbody tr th:only-of-type {\n",
       "        vertical-align: middle;\n",
       "    }\n",
       "\n",
       "    .dataframe tbody tr th {\n",
       "        vertical-align: top;\n",
       "    }\n",
       "\n",
       "    .dataframe thead th {\n",
       "        text-align: right;\n",
       "    }\n",
       "</style>\n",
       "<table border=\"1\" class=\"dataframe\">\n",
       "  <thead>\n",
       "    <tr style=\"text-align: right;\">\n",
       "      <th></th>\n",
       "      <th>plan</th>\n",
       "      <th>user_id</th>\n",
       "      <th>gb_per_user</th>\n",
       "    </tr>\n",
       "  </thead>\n",
       "  <tbody>\n",
       "    <tr>\n",
       "      <th>0</th>\n",
       "      <td>surf</td>\n",
       "      <td>1001</td>\n",
       "      <td>83.0</td>\n",
       "    </tr>\n",
       "    <tr>\n",
       "      <th>1</th>\n",
       "      <td>surf</td>\n",
       "      <td>1002</td>\n",
       "      <td>42.0</td>\n",
       "    </tr>\n",
       "    <tr>\n",
       "      <th>2</th>\n",
       "      <td>surf</td>\n",
       "      <td>1003</td>\n",
       "      <td>28.0</td>\n",
       "    </tr>\n",
       "    <tr>\n",
       "      <th>3</th>\n",
       "      <td>surf</td>\n",
       "      <td>1004</td>\n",
       "      <td>159.0</td>\n",
       "    </tr>\n",
       "    <tr>\n",
       "      <th>4</th>\n",
       "      <td>surf</td>\n",
       "      <td>1005</td>\n",
       "      <td>18.0</td>\n",
       "    </tr>\n",
       "    <tr>\n",
       "      <th>...</th>\n",
       "      <td>...</td>\n",
       "      <td>...</td>\n",
       "      <td>...</td>\n",
       "    </tr>\n",
       "    <tr>\n",
       "      <th>476</th>\n",
       "      <td>ultimate</td>\n",
       "      <td>1482</td>\n",
       "      <td>22.0</td>\n",
       "    </tr>\n",
       "    <tr>\n",
       "      <th>477</th>\n",
       "      <td>ultimate</td>\n",
       "      <td>1487</td>\n",
       "      <td>14.0</td>\n",
       "    </tr>\n",
       "    <tr>\n",
       "      <th>478</th>\n",
       "      <td>ultimate</td>\n",
       "      <td>1490</td>\n",
       "      <td>194.0</td>\n",
       "    </tr>\n",
       "    <tr>\n",
       "      <th>479</th>\n",
       "      <td>ultimate</td>\n",
       "      <td>1493</td>\n",
       "      <td>79.0</td>\n",
       "    </tr>\n",
       "    <tr>\n",
       "      <th>480</th>\n",
       "      <td>ultimate</td>\n",
       "      <td>1497</td>\n",
       "      <td>12.0</td>\n",
       "    </tr>\n",
       "  </tbody>\n",
       "</table>\n",
       "<p>481 rows × 3 columns</p>\n",
       "</div>"
      ],
      "text/plain": [
       "         plan  user_id  gb_per_user\n",
       "0        surf     1001         83.0\n",
       "1        surf     1002         42.0\n",
       "2        surf     1003         28.0\n",
       "3        surf     1004        159.0\n",
       "4        surf     1005         18.0\n",
       "..        ...      ...          ...\n",
       "476  ultimate     1482         22.0\n",
       "477  ultimate     1487         14.0\n",
       "478  ultimate     1490        194.0\n",
       "479  ultimate     1493         79.0\n",
       "480  ultimate     1497         12.0\n",
       "\n",
       "[481 rows x 3 columns]"
      ]
     },
     "execution_count": 260,
     "metadata": {},
     "output_type": "execute_result"
    }
   ],
   "source": [
    "# Compara la cantidad de tráfico de Internet consumido por usuarios por plan\n",
    "\n",
    "df_gb_user=df_consumption_per_plan.groupby(['plan','user_id'])['gb_per_month'].sum().reset_index(name='gb_per_user') \n",
    "df_gb_user\n"
   ]
  },
  {
   "cell_type": "code",
   "execution_count": null,
   "metadata": {
    "id": "wnh8jYXi0q1N"
   },
   "outputs": [
    {
     "data": {
      "text/html": [
       "<div>\n",
       "<style scoped>\n",
       "    .dataframe tbody tr th:only-of-type {\n",
       "        vertical-align: middle;\n",
       "    }\n",
       "\n",
       "    .dataframe tbody tr th {\n",
       "        vertical-align: top;\n",
       "    }\n",
       "\n",
       "    .dataframe thead th {\n",
       "        text-align: right;\n",
       "    }\n",
       "</style>\n",
       "<table border=\"1\" class=\"dataframe\">\n",
       "  <thead>\n",
       "    <tr style=\"text-align: right;\">\n",
       "      <th></th>\n",
       "      <th>plan</th>\n",
       "      <th>user_id</th>\n",
       "      <th>gb_per_user</th>\n",
       "    </tr>\n",
       "  </thead>\n",
       "  <tbody>\n",
       "    <tr>\n",
       "      <th>0</th>\n",
       "      <td>surf</td>\n",
       "      <td>1001</td>\n",
       "      <td>83.0</td>\n",
       "    </tr>\n",
       "    <tr>\n",
       "      <th>1</th>\n",
       "      <td>surf</td>\n",
       "      <td>1002</td>\n",
       "      <td>42.0</td>\n",
       "    </tr>\n",
       "    <tr>\n",
       "      <th>2</th>\n",
       "      <td>surf</td>\n",
       "      <td>1003</td>\n",
       "      <td>28.0</td>\n",
       "    </tr>\n",
       "    <tr>\n",
       "      <th>3</th>\n",
       "      <td>surf</td>\n",
       "      <td>1004</td>\n",
       "      <td>159.0</td>\n",
       "    </tr>\n",
       "    <tr>\n",
       "      <th>4</th>\n",
       "      <td>surf</td>\n",
       "      <td>1005</td>\n",
       "      <td>18.0</td>\n",
       "    </tr>\n",
       "    <tr>\n",
       "      <th>...</th>\n",
       "      <td>...</td>\n",
       "      <td>...</td>\n",
       "      <td>...</td>\n",
       "    </tr>\n",
       "    <tr>\n",
       "      <th>321</th>\n",
       "      <td>surf</td>\n",
       "      <td>1494</td>\n",
       "      <td>95.0</td>\n",
       "    </tr>\n",
       "    <tr>\n",
       "      <th>322</th>\n",
       "      <td>surf</td>\n",
       "      <td>1495</td>\n",
       "      <td>100.0</td>\n",
       "    </tr>\n",
       "    <tr>\n",
       "      <th>323</th>\n",
       "      <td>surf</td>\n",
       "      <td>1496</td>\n",
       "      <td>67.0</td>\n",
       "    </tr>\n",
       "    <tr>\n",
       "      <th>324</th>\n",
       "      <td>surf</td>\n",
       "      <td>1498</td>\n",
       "      <td>232.0</td>\n",
       "    </tr>\n",
       "    <tr>\n",
       "      <th>325</th>\n",
       "      <td>surf</td>\n",
       "      <td>1499</td>\n",
       "      <td>73.0</td>\n",
       "    </tr>\n",
       "  </tbody>\n",
       "</table>\n",
       "<p>326 rows × 3 columns</p>\n",
       "</div>"
      ],
      "text/plain": [
       "     plan  user_id  gb_per_user\n",
       "0    surf     1001         83.0\n",
       "1    surf     1002         42.0\n",
       "2    surf     1003         28.0\n",
       "3    surf     1004        159.0\n",
       "4    surf     1005         18.0\n",
       "..    ...      ...          ...\n",
       "321  surf     1494         95.0\n",
       "322  surf     1495        100.0\n",
       "323  surf     1496         67.0\n",
       "324  surf     1498        232.0\n",
       "325  surf     1499         73.0\n",
       "\n",
       "[326 rows x 3 columns]"
      ]
     },
     "execution_count": 237,
     "metadata": {},
     "output_type": "execute_result"
    }
   ],
   "source": [
    "#Queremos saber cuales de los usuarios estan en el plan surf y consumen internet y cuales estan el plan ultimate que tambien consumen internet\n",
    "df_gb_user_surf= df_gb_user[df_gb_user['plan']=='surf']\n",
    "df_gb_user_surf"
   ]
  },
  {
   "cell_type": "code",
   "execution_count": null,
   "metadata": {
    "id": "5VlyJ9ry0q1N"
   },
   "outputs": [
    {
     "data": {
      "text/html": [
       "<div>\n",
       "<style scoped>\n",
       "    .dataframe tbody tr th:only-of-type {\n",
       "        vertical-align: middle;\n",
       "    }\n",
       "\n",
       "    .dataframe tbody tr th {\n",
       "        vertical-align: top;\n",
       "    }\n",
       "\n",
       "    .dataframe thead th {\n",
       "        text-align: right;\n",
       "    }\n",
       "</style>\n",
       "<table border=\"1\" class=\"dataframe\">\n",
       "  <thead>\n",
       "    <tr style=\"text-align: right;\">\n",
       "      <th></th>\n",
       "      <th>plan</th>\n",
       "      <th>user_id</th>\n",
       "      <th>gb_per_user</th>\n",
       "    </tr>\n",
       "  </thead>\n",
       "  <tbody>\n",
       "    <tr>\n",
       "      <th>326</th>\n",
       "      <td>ultimate</td>\n",
       "      <td>1000</td>\n",
       "      <td>2.0</td>\n",
       "    </tr>\n",
       "    <tr>\n",
       "      <th>327</th>\n",
       "      <td>ultimate</td>\n",
       "      <td>1006</td>\n",
       "      <td>36.0</td>\n",
       "    </tr>\n",
       "    <tr>\n",
       "      <th>328</th>\n",
       "      <td>ultimate</td>\n",
       "      <td>1008</td>\n",
       "      <td>57.0</td>\n",
       "    </tr>\n",
       "    <tr>\n",
       "      <th>329</th>\n",
       "      <td>ultimate</td>\n",
       "      <td>1011</td>\n",
       "      <td>136.0</td>\n",
       "    </tr>\n",
       "    <tr>\n",
       "      <th>330</th>\n",
       "      <td>ultimate</td>\n",
       "      <td>1013</td>\n",
       "      <td>21.0</td>\n",
       "    </tr>\n",
       "    <tr>\n",
       "      <th>...</th>\n",
       "      <td>...</td>\n",
       "      <td>...</td>\n",
       "      <td>...</td>\n",
       "    </tr>\n",
       "    <tr>\n",
       "      <th>476</th>\n",
       "      <td>ultimate</td>\n",
       "      <td>1482</td>\n",
       "      <td>22.0</td>\n",
       "    </tr>\n",
       "    <tr>\n",
       "      <th>477</th>\n",
       "      <td>ultimate</td>\n",
       "      <td>1487</td>\n",
       "      <td>14.0</td>\n",
       "    </tr>\n",
       "    <tr>\n",
       "      <th>478</th>\n",
       "      <td>ultimate</td>\n",
       "      <td>1490</td>\n",
       "      <td>194.0</td>\n",
       "    </tr>\n",
       "    <tr>\n",
       "      <th>479</th>\n",
       "      <td>ultimate</td>\n",
       "      <td>1493</td>\n",
       "      <td>79.0</td>\n",
       "    </tr>\n",
       "    <tr>\n",
       "      <th>480</th>\n",
       "      <td>ultimate</td>\n",
       "      <td>1497</td>\n",
       "      <td>12.0</td>\n",
       "    </tr>\n",
       "  </tbody>\n",
       "</table>\n",
       "<p>155 rows × 3 columns</p>\n",
       "</div>"
      ],
      "text/plain": [
       "         plan  user_id  gb_per_user\n",
       "326  ultimate     1000          2.0\n",
       "327  ultimate     1006         36.0\n",
       "328  ultimate     1008         57.0\n",
       "329  ultimate     1011        136.0\n",
       "330  ultimate     1013         21.0\n",
       "..        ...      ...          ...\n",
       "476  ultimate     1482         22.0\n",
       "477  ultimate     1487         14.0\n",
       "478  ultimate     1490        194.0\n",
       "479  ultimate     1493         79.0\n",
       "480  ultimate     1497         12.0\n",
       "\n",
       "[155 rows x 3 columns]"
      ]
     },
     "execution_count": 238,
     "metadata": {},
     "output_type": "execute_result"
    }
   ],
   "source": [
    "df_gb_user_ultimate= df_gb_user[df_gb_user['plan']=='ultimate']\n",
    "df_gb_user_ultimate"
   ]
  },
  {
   "cell_type": "code",
   "execution_count": null,
   "metadata": {},
   "outputs": [
    {
     "data": {
      "text/plain": [
       "1     3.0\n",
       "2    33.0\n",
       "Name: gb_per_month, dtype: float64"
      ]
     },
     "execution_count": 244,
     "metadata": {},
     "output_type": "execute_result"
    }
   ],
   "source": [
    "# Se realiza una comprobacion de que el filtro que estamos colocando arriba si funcione, como vemos,\n",
    "#para el usuario 1006 se evidencia consumo de 2 meses, para un total de 36gb. Es tal cual nos muestra la tabla de arriba\n",
    "df_consumption_per_plan.query(\"user_id==1006\")['gb_per_month']"
   ]
  },
  {
   "cell_type": "markdown",
   "metadata": {},
   "source": [
    "#### Grafico de consumo de internet por usuario segun el plan"
   ]
  },
  {
   "cell_type": "code",
   "execution_count": null,
   "metadata": {},
   "outputs": [
    {
     "data": {
      "image/png": "[encoded data removed]",
      "text/plain": [
       "<Figure size 640x480 with 1 Axes>"
      ]
     },
     "metadata": {},
     "output_type": "display_data"
    }
   ],
   "source": [
    "plt.hist(df_gb_user_surf['gb_per_user'], bins=20, alpha=0.5, color='#c08552', label='surf')\n",
    "\n",
    "plt.hist(df_gb_user_ultimate['gb_per_user'], bins=20, alpha=0.5, color='#f3e9dc', label='ultimate')\n",
    "\n",
    "plt.xlabel('Usuarios')\n",
    "plt.ylabel('GB consumidas')\n",
    "plt.title('Consumo de internet por usuario')\n",
    "plt.legend()\n",
    "plt.show()"
   ]
  },
  {
   "cell_type": "markdown",
   "metadata": {},
   "source": [
    "Los picos para ambos histogramas tienden a mostrar que los usuarios suelen consumir casi 50gb para el plan surf y mas de 20gb para el plan ultimate. El comportamiento tiende a ser muy similar, los dos graficos muentran una distribucion a la derecha."
   ]
  },
  {
   "cell_type": "markdown",
   "metadata": {
    "id": "tCijq3260q1N"
   },
   "source": [
    "## Ingreso"
   ]
  },
  {
   "cell_type": "code",
   "execution_count": null,
   "metadata": {
    "id": "tz-dq_V00q1O"
   },
   "outputs": [
    {
     "data": {
      "text/html": [
       "<div>\n",
       "<style scoped>\n",
       "    .dataframe tbody tr th:only-of-type {\n",
       "        vertical-align: middle;\n",
       "    }\n",
       "\n",
       "    .dataframe tbody tr th {\n",
       "        vertical-align: top;\n",
       "    }\n",
       "\n",
       "    .dataframe thead th {\n",
       "        text-align: right;\n",
       "    }\n",
       "</style>\n",
       "<table border=\"1\" class=\"dataframe\">\n",
       "  <thead>\n",
       "    <tr style=\"text-align: right;\">\n",
       "      <th></th>\n",
       "      <th>plan</th>\n",
       "      <th>total_cost</th>\n",
       "    </tr>\n",
       "  </thead>\n",
       "  <tbody>\n",
       "    <tr>\n",
       "      <th>0</th>\n",
       "      <td>surf</td>\n",
       "      <td>63.005773</td>\n",
       "    </tr>\n",
       "    <tr>\n",
       "      <th>1</th>\n",
       "      <td>ultimate</td>\n",
       "      <td>72.660589</td>\n",
       "    </tr>\n",
       "  </tbody>\n",
       "</table>\n",
       "</div>"
      ],
      "text/plain": [
       "       plan  total_cost\n",
       "0      surf   63.005773\n",
       "1  ultimate   72.660589"
      ]
     },
     "execution_count": 247,
     "metadata": {},
     "output_type": "execute_result"
    }
   ],
   "source": [
    "#Queremos saber en que plan se generan mas ingresos en promedio\n",
    "\n",
    "df_income_plan=df_consumption_per_plan.groupby('plan')['monthly_cost'].mean().reset_index(name='total_cost')\n",
    "\n",
    "df_income_plan"
   ]
  },
  {
   "cell_type": "code",
   "execution_count": null,
   "metadata": {},
   "outputs": [
    {
     "data": {
      "text/html": [
       "<div>\n",
       "<style scoped>\n",
       "    .dataframe tbody tr th:only-of-type {\n",
       "        vertical-align: middle;\n",
       "    }\n",
       "\n",
       "    .dataframe tbody tr th {\n",
       "        vertical-align: top;\n",
       "    }\n",
       "\n",
       "    .dataframe thead th {\n",
       "        text-align: right;\n",
       "    }\n",
       "</style>\n",
       "<table border=\"1\" class=\"dataframe\">\n",
       "  <thead>\n",
       "    <tr style=\"text-align: right;\">\n",
       "      <th></th>\n",
       "      <th>plan</th>\n",
       "      <th>total_cost</th>\n",
       "    </tr>\n",
       "  </thead>\n",
       "  <tbody>\n",
       "    <tr>\n",
       "      <th>0</th>\n",
       "      <td>surf</td>\n",
       "      <td>97343.92</td>\n",
       "    </tr>\n",
       "    <tr>\n",
       "      <th>1</th>\n",
       "      <td>ultimate</td>\n",
       "      <td>51807.00</td>\n",
       "    </tr>\n",
       "  </tbody>\n",
       "</table>\n",
       "</div>"
      ],
      "text/plain": [
       "       plan  total_cost\n",
       "0      surf    97343.92\n",
       "1  ultimate    51807.00"
      ]
     },
     "execution_count": 280,
     "metadata": {},
     "output_type": "execute_result"
    }
   ],
   "source": [
    "df_income_plan=df_consumption_per_plan.groupby('plan')['monthly_cost'].sum().reset_index(name='total_cost')\n",
    "\n",
    "df_income_plan"
   ]
  },
  {
   "cell_type": "code",
   "execution_count": null,
   "metadata": {
    "id": "0Y1v8ZUz0q1P"
   },
   "outputs": [
    {
     "data": {
      "text/html": [
       "<div>\n",
       "<style scoped>\n",
       "    .dataframe tbody tr th:only-of-type {\n",
       "        vertical-align: middle;\n",
       "    }\n",
       "\n",
       "    .dataframe tbody tr th {\n",
       "        vertical-align: top;\n",
       "    }\n",
       "\n",
       "    .dataframe thead th {\n",
       "        text-align: right;\n",
       "    }\n",
       "</style>\n",
       "<table border=\"1\" class=\"dataframe\">\n",
       "  <thead>\n",
       "    <tr style=\"text-align: right;\">\n",
       "      <th></th>\n",
       "      <th>plan</th>\n",
       "      <th>month</th>\n",
       "      <th>total_cost</th>\n",
       "    </tr>\n",
       "  </thead>\n",
       "  <tbody>\n",
       "    <tr>\n",
       "      <th>0</th>\n",
       "      <td>surf</td>\n",
       "      <td>1</td>\n",
       "      <td>20.000000</td>\n",
       "    </tr>\n",
       "    <tr>\n",
       "      <th>1</th>\n",
       "      <td>surf</td>\n",
       "      <td>2</td>\n",
       "      <td>37.730000</td>\n",
       "    </tr>\n",
       "    <tr>\n",
       "      <th>2</th>\n",
       "      <td>surf</td>\n",
       "      <td>3</td>\n",
       "      <td>48.115217</td>\n",
       "    </tr>\n",
       "    <tr>\n",
       "      <th>3</th>\n",
       "      <td>surf</td>\n",
       "      <td>4</td>\n",
       "      <td>42.110600</td>\n",
       "    </tr>\n",
       "    <tr>\n",
       "      <th>4</th>\n",
       "      <td>surf</td>\n",
       "      <td>5</td>\n",
       "      <td>50.898267</td>\n",
       "    </tr>\n",
       "    <tr>\n",
       "      <th>5</th>\n",
       "      <td>surf</td>\n",
       "      <td>6</td>\n",
       "      <td>51.664583</td>\n",
       "    </tr>\n",
       "    <tr>\n",
       "      <th>6</th>\n",
       "      <td>surf</td>\n",
       "      <td>7</td>\n",
       "      <td>66.446333</td>\n",
       "    </tr>\n",
       "    <tr>\n",
       "      <th>7</th>\n",
       "      <td>surf</td>\n",
       "      <td>8</td>\n",
       "      <td>67.653145</td>\n",
       "    </tr>\n",
       "    <tr>\n",
       "      <th>8</th>\n",
       "      <td>surf</td>\n",
       "      <td>9</td>\n",
       "      <td>59.913455</td>\n",
       "    </tr>\n",
       "    <tr>\n",
       "      <th>9</th>\n",
       "      <td>surf</td>\n",
       "      <td>10</td>\n",
       "      <td>67.468276</td>\n",
       "    </tr>\n",
       "    <tr>\n",
       "      <th>10</th>\n",
       "      <td>surf</td>\n",
       "      <td>11</td>\n",
       "      <td>60.230217</td>\n",
       "    </tr>\n",
       "    <tr>\n",
       "      <th>11</th>\n",
       "      <td>surf</td>\n",
       "      <td>12</td>\n",
       "      <td>72.233794</td>\n",
       "    </tr>\n",
       "    <tr>\n",
       "      <th>12</th>\n",
       "      <td>ultimate</td>\n",
       "      <td>1</td>\n",
       "      <td>70.000000</td>\n",
       "    </tr>\n",
       "    <tr>\n",
       "      <th>13</th>\n",
       "      <td>ultimate</td>\n",
       "      <td>2</td>\n",
       "      <td>70.000000</td>\n",
       "    </tr>\n",
       "    <tr>\n",
       "      <th>14</th>\n",
       "      <td>ultimate</td>\n",
       "      <td>3</td>\n",
       "      <td>75.833333</td>\n",
       "    </tr>\n",
       "    <tr>\n",
       "      <th>15</th>\n",
       "      <td>ultimate</td>\n",
       "      <td>4</td>\n",
       "      <td>73.666667</td>\n",
       "    </tr>\n",
       "    <tr>\n",
       "      <th>16</th>\n",
       "      <td>ultimate</td>\n",
       "      <td>5</td>\n",
       "      <td>70.965517</td>\n",
       "    </tr>\n",
       "    <tr>\n",
       "      <th>17</th>\n",
       "      <td>ultimate</td>\n",
       "      <td>6</td>\n",
       "      <td>71.866667</td>\n",
       "    </tr>\n",
       "    <tr>\n",
       "      <th>18</th>\n",
       "      <td>ultimate</td>\n",
       "      <td>7</td>\n",
       "      <td>72.135593</td>\n",
       "    </tr>\n",
       "    <tr>\n",
       "      <th>19</th>\n",
       "      <td>ultimate</td>\n",
       "      <td>8</td>\n",
       "      <td>73.450704</td>\n",
       "    </tr>\n",
       "    <tr>\n",
       "      <th>20</th>\n",
       "      <td>ultimate</td>\n",
       "      <td>9</td>\n",
       "      <td>72.360465</td>\n",
       "    </tr>\n",
       "    <tr>\n",
       "      <th>21</th>\n",
       "      <td>ultimate</td>\n",
       "      <td>10</td>\n",
       "      <td>72.666667</td>\n",
       "    </tr>\n",
       "    <tr>\n",
       "      <th>22</th>\n",
       "      <td>ultimate</td>\n",
       "      <td>11</td>\n",
       "      <td>72.000000</td>\n",
       "    </tr>\n",
       "    <tr>\n",
       "      <th>23</th>\n",
       "      <td>ultimate</td>\n",
       "      <td>12</td>\n",
       "      <td>73.570470</td>\n",
       "    </tr>\n",
       "  </tbody>\n",
       "</table>\n",
       "</div>"
      ],
      "text/plain": [
       "        plan  month  total_cost\n",
       "0       surf      1   20.000000\n",
       "1       surf      2   37.730000\n",
       "2       surf      3   48.115217\n",
       "3       surf      4   42.110600\n",
       "4       surf      5   50.898267\n",
       "5       surf      6   51.664583\n",
       "6       surf      7   66.446333\n",
       "7       surf      8   67.653145\n",
       "8       surf      9   59.913455\n",
       "9       surf     10   67.468276\n",
       "10      surf     11   60.230217\n",
       "11      surf     12   72.233794\n",
       "12  ultimate      1   70.000000\n",
       "13  ultimate      2   70.000000\n",
       "14  ultimate      3   75.833333\n",
       "15  ultimate      4   73.666667\n",
       "16  ultimate      5   70.965517\n",
       "17  ultimate      6   71.866667\n",
       "18  ultimate      7   72.135593\n",
       "19  ultimate      8   73.450704\n",
       "20  ultimate      9   72.360465\n",
       "21  ultimate     10   72.666667\n",
       "22  ultimate     11   72.000000\n",
       "23  ultimate     12   73.570470"
      ]
     },
     "execution_count": 249,
     "metadata": {},
     "output_type": "execute_result"
    }
   ],
   "source": [
    "df_income_plan=df_consumption_per_plan.groupby(['plan','month'])['monthly_cost'].mean().reset_index(name='total_cost')\n",
    "\n",
    "df_income_plan"
   ]
  },
  {
   "cell_type": "code",
   "execution_count": null,
   "metadata": {
    "id": "bYmwxyVh0q1P"
   },
   "outputs": [
    {
     "data": {
      "text/html": [
       "<div>\n",
       "<style scoped>\n",
       "    .dataframe tbody tr th:only-of-type {\n",
       "        vertical-align: middle;\n",
       "    }\n",
       "\n",
       "    .dataframe tbody tr th {\n",
       "        vertical-align: top;\n",
       "    }\n",
       "\n",
       "    .dataframe thead th {\n",
       "        text-align: right;\n",
       "    }\n",
       "</style>\n",
       "<table border=\"1\" class=\"dataframe\">\n",
       "  <thead>\n",
       "    <tr style=\"text-align: right;\">\n",
       "      <th>plan</th>\n",
       "      <th>surf</th>\n",
       "      <th>ultimate</th>\n",
       "    </tr>\n",
       "    <tr>\n",
       "      <th>month</th>\n",
       "      <th></th>\n",
       "      <th></th>\n",
       "    </tr>\n",
       "  </thead>\n",
       "  <tbody>\n",
       "    <tr>\n",
       "      <th>1</th>\n",
       "      <td>20.000000</td>\n",
       "      <td>70.000000</td>\n",
       "    </tr>\n",
       "    <tr>\n",
       "      <th>2</th>\n",
       "      <td>37.730000</td>\n",
       "      <td>70.000000</td>\n",
       "    </tr>\n",
       "    <tr>\n",
       "      <th>3</th>\n",
       "      <td>48.115217</td>\n",
       "      <td>75.833333</td>\n",
       "    </tr>\n",
       "    <tr>\n",
       "      <th>4</th>\n",
       "      <td>42.110600</td>\n",
       "      <td>73.666667</td>\n",
       "    </tr>\n",
       "    <tr>\n",
       "      <th>5</th>\n",
       "      <td>50.898267</td>\n",
       "      <td>70.965517</td>\n",
       "    </tr>\n",
       "    <tr>\n",
       "      <th>6</th>\n",
       "      <td>51.664583</td>\n",
       "      <td>71.866667</td>\n",
       "    </tr>\n",
       "    <tr>\n",
       "      <th>7</th>\n",
       "      <td>66.446333</td>\n",
       "      <td>72.135593</td>\n",
       "    </tr>\n",
       "    <tr>\n",
       "      <th>8</th>\n",
       "      <td>67.653145</td>\n",
       "      <td>73.450704</td>\n",
       "    </tr>\n",
       "    <tr>\n",
       "      <th>9</th>\n",
       "      <td>59.913455</td>\n",
       "      <td>72.360465</td>\n",
       "    </tr>\n",
       "    <tr>\n",
       "      <th>10</th>\n",
       "      <td>67.468276</td>\n",
       "      <td>72.666667</td>\n",
       "    </tr>\n",
       "    <tr>\n",
       "      <th>11</th>\n",
       "      <td>60.230217</td>\n",
       "      <td>72.000000</td>\n",
       "    </tr>\n",
       "    <tr>\n",
       "      <th>12</th>\n",
       "      <td>72.233794</td>\n",
       "      <td>73.570470</td>\n",
       "    </tr>\n",
       "  </tbody>\n",
       "</table>\n",
       "</div>"
      ],
      "text/plain": [
       "plan        surf   ultimate\n",
       "month                      \n",
       "1      20.000000  70.000000\n",
       "2      37.730000  70.000000\n",
       "3      48.115217  75.833333\n",
       "4      42.110600  73.666667\n",
       "5      50.898267  70.965517\n",
       "6      51.664583  71.866667\n",
       "7      66.446333  72.135593\n",
       "8      67.653145  73.450704\n",
       "9      59.913455  72.360465\n",
       "10     67.468276  72.666667\n",
       "11     60.230217  72.000000\n",
       "12     72.233794  73.570470"
      ]
     },
     "execution_count": 250,
     "metadata": {},
     "output_type": "execute_result"
    }
   ],
   "source": [
    "df_income_plan_pivot=df_income_plan.pivot_table(index='month',columns='plan',values='total_cost')\n",
    "df_income_plan_pivot"
   ]
  },
  {
   "cell_type": "markdown",
   "metadata": {},
   "source": [
    "#### Grafico de ingresos promedio por mes segun el plan"
   ]
  },
  {
   "cell_type": "code",
   "execution_count": null,
   "metadata": {},
   "outputs": [
    {
     "data": {
      "image/png": "[encoded data removed]",
      "text/plain": [
       "<Figure size 640x480 with 1 Axes>"
      ]
     },
     "metadata": {},
     "output_type": "display_data"
    }
   ],
   "source": [
    "plt.bar(df_income_plan_pivot.index, df_income_plan_pivot['surf'], alpha=0.5, color='#343e3d', label='surf')\n",
    "\n",
    "plt.bar(df_income_plan_pivot.index, df_income_plan_pivot['ultimate'], alpha=0.5, color='#607466', label='ultimate')\n",
    "\n",
    "plt.xlabel(\"Mes\")\n",
    "plt.ylabel(\"Ingresos\")\n",
    "plt.legend()\n",
    "plt.title(\"Ingresos promedio por mes para cada plan\")\n",
    "\n",
    "plt.show()\n"
   ]
  },
  {
   "cell_type": "markdown",
   "metadata": {},
   "source": [
    "Los primeros meses del mes se observa que el plan ultimate generaba mas ingresos, pero despues del mes 6 se evidencia que los planes tienden a generar ingresos parecidos. El comportamiento del plan surf se mantuvo constante en todo el año"
   ]
  },
  {
   "cell_type": "code",
   "execution_count": null,
   "metadata": {},
   "outputs": [
    {
     "data": {
      "text/html": [
       "<div>\n",
       "<style scoped>\n",
       "    .dataframe tbody tr th:only-of-type {\n",
       "        vertical-align: middle;\n",
       "    }\n",
       "\n",
       "    .dataframe tbody tr th {\n",
       "        vertical-align: top;\n",
       "    }\n",
       "\n",
       "    .dataframe thead th {\n",
       "        text-align: right;\n",
       "    }\n",
       "</style>\n",
       "<table border=\"1\" class=\"dataframe\">\n",
       "  <thead>\n",
       "    <tr style=\"text-align: right;\">\n",
       "      <th></th>\n",
       "      <th>plan</th>\n",
       "      <th>total_income</th>\n",
       "    </tr>\n",
       "  </thead>\n",
       "  <tbody>\n",
       "    <tr>\n",
       "      <th>0</th>\n",
       "      <td>surf</td>\n",
       "      <td>6322.0</td>\n",
       "    </tr>\n",
       "    <tr>\n",
       "      <th>1</th>\n",
       "      <td>ultimate</td>\n",
       "      <td>271.0</td>\n",
       "    </tr>\n",
       "  </tbody>\n",
       "</table>\n",
       "</div>"
      ],
      "text/plain": [
       "       plan  total_income\n",
       "0      surf        6322.0\n",
       "1  ultimate         271.0"
      ]
     },
     "execution_count": 263,
     "metadata": {},
     "output_type": "execute_result"
    }
   ],
   "source": [
    "#Queremos saber qué servicio genera mas ingresos segun el plan \n",
    "\n",
    "df_extra_internet_income=df_consumption_per_plan.groupby('plan')['extra_internet'].sum().reset_index(name='total_income')\n",
    "df_extra_internet_income"
   ]
  },
  {
   "cell_type": "code",
   "execution_count": null,
   "metadata": {},
   "outputs": [
    {
     "data": {
      "text/html": [
       "<div>\n",
       "<style scoped>\n",
       "    .dataframe tbody tr th:only-of-type {\n",
       "        vertical-align: middle;\n",
       "    }\n",
       "\n",
       "    .dataframe tbody tr th {\n",
       "        vertical-align: top;\n",
       "    }\n",
       "\n",
       "    .dataframe thead th {\n",
       "        text-align: right;\n",
       "    }\n",
       "</style>\n",
       "<table border=\"1\" class=\"dataframe\">\n",
       "  <thead>\n",
       "    <tr style=\"text-align: right;\">\n",
       "      <th></th>\n",
       "      <th>plan</th>\n",
       "      <th>total_income</th>\n",
       "    </tr>\n",
       "  </thead>\n",
       "  <tbody>\n",
       "    <tr>\n",
       "      <th>0</th>\n",
       "      <td>surf</td>\n",
       "      <td>10789.0</td>\n",
       "    </tr>\n",
       "    <tr>\n",
       "      <th>1</th>\n",
       "      <td>ultimate</td>\n",
       "      <td>0.0</td>\n",
       "    </tr>\n",
       "  </tbody>\n",
       "</table>\n",
       "</div>"
      ],
      "text/plain": [
       "       plan  total_income\n",
       "0      surf       10789.0\n",
       "1  ultimate           0.0"
      ]
     },
     "execution_count": 264,
     "metadata": {},
     "output_type": "execute_result"
    }
   ],
   "source": [
    "\n",
    "df_extra_messages_income=df_consumption_per_plan.groupby('plan')['extra_messages'].sum().reset_index(name='total_income')\n",
    "df_extra_messages_income"
   ]
  },
  {
   "cell_type": "code",
   "execution_count": null,
   "metadata": {},
   "outputs": [
    {
     "data": {
      "text/html": [
       "<div>\n",
       "<style scoped>\n",
       "    .dataframe tbody tr th:only-of-type {\n",
       "        vertical-align: middle;\n",
       "    }\n",
       "\n",
       "    .dataframe tbody tr th {\n",
       "        vertical-align: top;\n",
       "    }\n",
       "\n",
       "    .dataframe thead th {\n",
       "        text-align: right;\n",
       "    }\n",
       "</style>\n",
       "<table border=\"1\" class=\"dataframe\">\n",
       "  <thead>\n",
       "    <tr style=\"text-align: right;\">\n",
       "      <th></th>\n",
       "      <th>plan</th>\n",
       "      <th>total_income</th>\n",
       "    </tr>\n",
       "  </thead>\n",
       "  <tbody>\n",
       "    <tr>\n",
       "      <th>0</th>\n",
       "      <td>surf</td>\n",
       "      <td>96675.0</td>\n",
       "    </tr>\n",
       "    <tr>\n",
       "      <th>1</th>\n",
       "      <td>ultimate</td>\n",
       "      <td>0.0</td>\n",
       "    </tr>\n",
       "  </tbody>\n",
       "</table>\n",
       "</div>"
      ],
      "text/plain": [
       "       plan  total_income\n",
       "0      surf       96675.0\n",
       "1  ultimate           0.0"
      ]
     },
     "execution_count": 265,
     "metadata": {},
     "output_type": "execute_result"
    }
   ],
   "source": [
    "df_extra_minutes_income=df_consumption_per_plan.groupby('plan')['extra_minutes'].sum().reset_index(name='total_income')\n",
    "df_extra_minutes_income"
   ]
  },
  {
   "cell_type": "code",
   "execution_count": null,
   "metadata": {},
   "outputs": [],
   "source": [
    "Evidentemente el plan surf genera mas ingresos en servicios extras a los que vienen incluidos en el plan"
   ]
  },
  {
   "cell_type": "markdown",
   "metadata": {
    "id": "ajJ7VKeI0q1Q"
   },
   "source": [
    "## Prueba las hipótesis estadísticas"
   ]
  },
  {
   "cell_type": "markdown",
   "metadata": {},
   "source": [
    "### Hipotesis 1"
   ]
  },
  {
   "cell_type": "markdown",
   "metadata": {
    "id": "IQwa_hsh0q1Q"
   },
   "source": [
    "H0=Los ingresos promedio procedentes de los usuarios de los planes de llamada Ultimate y Surf NO son iguales\n",
    "H1=Los ingresos promedio procedentes de los usuarios de los planes de llamada Ultimate y Surf SI son iguales"
   ]
  },
  {
   "cell_type": "markdown",
   "metadata": {},
   "source": [
    "Para este tipo de hipotesis se ha decidio usar una prueba t-student para muestras independientes, ya que es la me ayuda a corroborar si una media es igual o no a otra"
   ]
  },
  {
   "cell_type": "code",
   "execution_count": null,
   "metadata": {
    "id": "nFoPNlPq0q1R"
   },
   "outputs": [
    {
     "data": {
      "text/html": [
       "<div>\n",
       "<style scoped>\n",
       "    .dataframe tbody tr th:only-of-type {\n",
       "        vertical-align: middle;\n",
       "    }\n",
       "\n",
       "    .dataframe tbody tr th {\n",
       "        vertical-align: top;\n",
       "    }\n",
       "\n",
       "    .dataframe thead th {\n",
       "        text-align: right;\n",
       "    }\n",
       "</style>\n",
       "<table border=\"1\" class=\"dataframe\">\n",
       "  <thead>\n",
       "    <tr style=\"text-align: right;\">\n",
       "      <th></th>\n",
       "      <th>month</th>\n",
       "      <th>total_mean</th>\n",
       "    </tr>\n",
       "  </thead>\n",
       "  <tbody>\n",
       "    <tr>\n",
       "      <th>0</th>\n",
       "      <td>1</td>\n",
       "      <td>0.000000</td>\n",
       "    </tr>\n",
       "    <tr>\n",
       "      <th>1</th>\n",
       "      <td>2</td>\n",
       "      <td>34.555556</td>\n",
       "    </tr>\n",
       "    <tr>\n",
       "      <th>2</th>\n",
       "      <td>3</td>\n",
       "      <td>23.565217</td>\n",
       "    </tr>\n",
       "    <tr>\n",
       "      <th>3</th>\n",
       "      <td>4</td>\n",
       "      <td>35.280000</td>\n",
       "    </tr>\n",
       "    <tr>\n",
       "      <th>4</th>\n",
       "      <td>5</td>\n",
       "      <td>56.760000</td>\n",
       "    </tr>\n",
       "    <tr>\n",
       "      <th>5</th>\n",
       "      <td>6</td>\n",
       "      <td>53.927083</td>\n",
       "    </tr>\n",
       "    <tr>\n",
       "      <th>6</th>\n",
       "      <td>7</td>\n",
       "      <td>73.883333</td>\n",
       "    </tr>\n",
       "    <tr>\n",
       "      <th>7</th>\n",
       "      <td>8</td>\n",
       "      <td>56.113208</td>\n",
       "    </tr>\n",
       "    <tr>\n",
       "      <th>8</th>\n",
       "      <td>9</td>\n",
       "      <td>48.617801</td>\n",
       "    </tr>\n",
       "    <tr>\n",
       "      <th>9</th>\n",
       "      <td>10</td>\n",
       "      <td>61.099138</td>\n",
       "    </tr>\n",
       "    <tr>\n",
       "      <th>10</th>\n",
       "      <td>11</td>\n",
       "      <td>59.635379</td>\n",
       "    </tr>\n",
       "    <tr>\n",
       "      <th>11</th>\n",
       "      <td>12</td>\n",
       "      <td>86.353698</td>\n",
       "    </tr>\n",
       "  </tbody>\n",
       "</table>\n",
       "</div>"
      ],
      "text/plain": [
       "    month  total_mean\n",
       "0       1    0.000000\n",
       "1       2   34.555556\n",
       "2       3   23.565217\n",
       "3       4   35.280000\n",
       "4       5   56.760000\n",
       "5       6   53.927083\n",
       "6       7   73.883333\n",
       "7       8   56.113208\n",
       "8       9   48.617801\n",
       "9      10   61.099138\n",
       "10     11   59.635379\n",
       "11     12   86.353698"
      ]
     },
     "execution_count": 276,
     "metadata": {},
     "output_type": "execute_result"
    }
   ],
   "source": [
    "# Prueba las hipótesis\n",
    "\n",
    "#Se extrae la informacion de los costos generados en las llamadas para el plan surf\n",
    "df_extra_minutes_income_surf=df_consumption_per_plan.query(\"plan=='surf'\")\n",
    "df_extra_minutes_income_surf=df_extra_minutes_income_surf.groupby('month')['extra_minutes'].mean().reset_index(name='total_mean')\n",
    "df_extra_minutes_income_surf"
   ]
  },
  {
   "cell_type": "code",
   "execution_count": null,
   "metadata": {},
   "outputs": [
    {
     "data": {
      "text/html": [
       "<div>\n",
       "<style scoped>\n",
       "    .dataframe tbody tr th:only-of-type {\n",
       "        vertical-align: middle;\n",
       "    }\n",
       "\n",
       "    .dataframe tbody tr th {\n",
       "        vertical-align: top;\n",
       "    }\n",
       "\n",
       "    .dataframe thead th {\n",
       "        text-align: right;\n",
       "    }\n",
       "</style>\n",
       "<table border=\"1\" class=\"dataframe\">\n",
       "  <thead>\n",
       "    <tr style=\"text-align: right;\">\n",
       "      <th></th>\n",
       "      <th>month</th>\n",
       "      <th>total_mean</th>\n",
       "    </tr>\n",
       "  </thead>\n",
       "  <tbody>\n",
       "    <tr>\n",
       "      <th>0</th>\n",
       "      <td>1</td>\n",
       "      <td>0.0</td>\n",
       "    </tr>\n",
       "    <tr>\n",
       "      <th>1</th>\n",
       "      <td>2</td>\n",
       "      <td>0.0</td>\n",
       "    </tr>\n",
       "    <tr>\n",
       "      <th>2</th>\n",
       "      <td>3</td>\n",
       "      <td>0.0</td>\n",
       "    </tr>\n",
       "    <tr>\n",
       "      <th>3</th>\n",
       "      <td>4</td>\n",
       "      <td>0.0</td>\n",
       "    </tr>\n",
       "    <tr>\n",
       "      <th>4</th>\n",
       "      <td>5</td>\n",
       "      <td>0.0</td>\n",
       "    </tr>\n",
       "    <tr>\n",
       "      <th>5</th>\n",
       "      <td>6</td>\n",
       "      <td>0.0</td>\n",
       "    </tr>\n",
       "    <tr>\n",
       "      <th>6</th>\n",
       "      <td>7</td>\n",
       "      <td>0.0</td>\n",
       "    </tr>\n",
       "    <tr>\n",
       "      <th>7</th>\n",
       "      <td>8</td>\n",
       "      <td>0.0</td>\n",
       "    </tr>\n",
       "    <tr>\n",
       "      <th>8</th>\n",
       "      <td>9</td>\n",
       "      <td>0.0</td>\n",
       "    </tr>\n",
       "    <tr>\n",
       "      <th>9</th>\n",
       "      <td>10</td>\n",
       "      <td>0.0</td>\n",
       "    </tr>\n",
       "    <tr>\n",
       "      <th>10</th>\n",
       "      <td>11</td>\n",
       "      <td>0.0</td>\n",
       "    </tr>\n",
       "    <tr>\n",
       "      <th>11</th>\n",
       "      <td>12</td>\n",
       "      <td>0.0</td>\n",
       "    </tr>\n",
       "  </tbody>\n",
       "</table>\n",
       "</div>"
      ],
      "text/plain": [
       "    month  total_mean\n",
       "0       1         0.0\n",
       "1       2         0.0\n",
       "2       3         0.0\n",
       "3       4         0.0\n",
       "4       5         0.0\n",
       "5       6         0.0\n",
       "6       7         0.0\n",
       "7       8         0.0\n",
       "8       9         0.0\n",
       "9      10         0.0\n",
       "10     11         0.0\n",
       "11     12         0.0"
      ]
     },
     "execution_count": 278,
     "metadata": {},
     "output_type": "execute_result"
    }
   ],
   "source": [
    "df_extra_minutes_income_ultimate=df_consumption_per_plan.query(\"plan=='ultimate'\")\n",
    "df_extra_minutes_income_ultimate=df_extra_minutes_income_ultimate.groupby('month')['extra_minutes'].mean().reset_index(name='total_mean')\n",
    "df_extra_minutes_income_ultimate"
   ]
  },
  {
   "cell_type": "markdown",
   "metadata": {},
   "source": [
    "El plan ultimate no genera ingresos extra para las llamadas, por lo que los valores para cada plan son diferentes."
   ]
  },
  {
   "cell_type": "markdown",
   "metadata": {},
   "source": [
    "### Hipotesis 2 "
   ]
  },
  {
   "cell_type": "markdown",
   "metadata": {},
   "source": [
    "H0=El ingreso promedio de los usuarios del área NY-NJ es igual al de los usuarios de otras regiones\n",
    "H1=El ingreso promedio de los usuarios del área NY-NJ es diferente al de los usuarios de otras regiones"
   ]
  },
  {
   "cell_type": "markdown",
   "metadata": {},
   "source": [
    "Para este tipo de hipotesis se ha decidio usar una prueba t-student para muestras independientes, ya que es la me ayuda a corroborar si una media es igual o no a otra"
   ]
  },
  {
   "cell_type": "code",
   "execution_count": null,
   "metadata": {
    "id": "LsBgitqj0q1R"
   },
   "outputs": [
    {
     "data": {
      "text/html": [
       "<div>\n",
       "<style scoped>\n",
       "    .dataframe tbody tr th:only-of-type {\n",
       "        vertical-align: middle;\n",
       "    }\n",
       "\n",
       "    .dataframe tbody tr th {\n",
       "        vertical-align: top;\n",
       "    }\n",
       "\n",
       "    .dataframe thead th {\n",
       "        text-align: right;\n",
       "    }\n",
       "</style>\n",
       "<table border=\"1\" class=\"dataframe\">\n",
       "  <thead>\n",
       "    <tr style=\"text-align: right;\">\n",
       "      <th></th>\n",
       "      <th>city</th>\n",
       "      <th>total_income</th>\n",
       "    </tr>\n",
       "  </thead>\n",
       "  <tbody>\n",
       "    <tr>\n",
       "      <th>0</th>\n",
       "      <td>Albany-Schenectady-Troy, NY MSA</td>\n",
       "      <td>761.10</td>\n",
       "    </tr>\n",
       "    <tr>\n",
       "      <th>1</th>\n",
       "      <td>Albuquerque, NM MSA</td>\n",
       "      <td>1008.25</td>\n",
       "    </tr>\n",
       "    <tr>\n",
       "      <th>2</th>\n",
       "      <td>Atlanta-Sandy Springs-Roswell, GA MSA</td>\n",
       "      <td>3550.40</td>\n",
       "    </tr>\n",
       "    <tr>\n",
       "      <th>3</th>\n",
       "      <td>Austin-Round Rock-Georgetown, TX MSA</td>\n",
       "      <td>1419.21</td>\n",
       "    </tr>\n",
       "    <tr>\n",
       "      <th>4</th>\n",
       "      <td>Bakersfield, CA MSA</td>\n",
       "      <td>430.00</td>\n",
       "    </tr>\n",
       "    <tr>\n",
       "      <th>...</th>\n",
       "      <td>...</td>\n",
       "      <td>...</td>\n",
       "    </tr>\n",
       "    <tr>\n",
       "      <th>68</th>\n",
       "      <td>Tucson, AZ MSA</td>\n",
       "      <td>650.00</td>\n",
       "    </tr>\n",
       "    <tr>\n",
       "      <th>69</th>\n",
       "      <td>Tulsa, OK MSA</td>\n",
       "      <td>720.43</td>\n",
       "    </tr>\n",
       "    <tr>\n",
       "      <th>70</th>\n",
       "      <td>Urban Honolulu, HI MSA</td>\n",
       "      <td>2441.58</td>\n",
       "    </tr>\n",
       "    <tr>\n",
       "      <th>71</th>\n",
       "      <td>Virginia Beach-Norfolk-Newport News, VA-NC MSA</td>\n",
       "      <td>397.00</td>\n",
       "    </tr>\n",
       "    <tr>\n",
       "      <th>72</th>\n",
       "      <td>Washington-Arlington-Alexandria, DC-VA-MD-WV MSA</td>\n",
       "      <td>3740.81</td>\n",
       "    </tr>\n",
       "  </tbody>\n",
       "</table>\n",
       "<p>73 rows × 2 columns</p>\n",
       "</div>"
      ],
      "text/plain": [
       "                                                city  total_income\n",
       "0                    Albany-Schenectady-Troy, NY MSA        761.10\n",
       "1                                Albuquerque, NM MSA       1008.25\n",
       "2              Atlanta-Sandy Springs-Roswell, GA MSA       3550.40\n",
       "3               Austin-Round Rock-Georgetown, TX MSA       1419.21\n",
       "4                                Bakersfield, CA MSA        430.00\n",
       "..                                               ...           ...\n",
       "68                                    Tucson, AZ MSA        650.00\n",
       "69                                     Tulsa, OK MSA        720.43\n",
       "70                            Urban Honolulu, HI MSA       2441.58\n",
       "71    Virginia Beach-Norfolk-Newport News, VA-NC MSA        397.00\n",
       "72  Washington-Arlington-Alexandria, DC-VA-MD-WV MSA       3740.81\n",
       "\n",
       "[73 rows x 2 columns]"
      ]
     },
     "execution_count": 282,
     "metadata": {},
     "output_type": "execute_result"
    }
   ],
   "source": [
    "#se extrae la informacion necesaria\n",
    "df_city=df_consumption_per_plan.groupby('city')['monthly_cost'].sum().reset_index(name='total_income')\n",
    "df_city\n",
    "#New York-Newark-Jersey City, NY-NJ-PA MSA"
   ]
  },
  {
   "cell_type": "code",
   "execution_count": null,
   "metadata": {
    "id": "Cqcj7wrZ0q1S"
   },
   "outputs": [],
   "source": [
    "# Prueba las hipótesis\n",
    "#se separan los datos de la ciudad solicitada y el resto de ciudades\n",
    "ny_nj_income=df_city[df_city['city']=='New York-Newark-Jersey City, NY-NJ-PA MSA']['total_income']\n",
    "other_city_income=df_city[df_city['city']!='New York-Newark-Jersey City, NY-NJ-PA MSA']['total_income']"
   ]
  },
  {
   "cell_type": "code",
   "execution_count": null,
   "metadata": {},
   "outputs": [
    {
     "data": {
      "text/plain": [
       "22856.330000000013"
      ]
     },
     "execution_count": 300,
     "metadata": {},
     "output_type": "execute_result"
    }
   ],
   "source": [
    "popmean=ny_nj_income.mean()\n",
    "popmean"
   ]
  },
  {
   "cell_type": "code",
   "execution_count": null,
   "metadata": {},
   "outputs": [
    {
     "name": "stdout",
     "output_type": "stream",
     "text": [
      "9.821253505962181e-83\n"
     ]
    }
   ],
   "source": [
    "#Se comprueba que tan cerca esta la media de los datos de las demas ciudades de la ciudad de NY/NJ\n",
    "results=st.ttest_1samp(other_city_income,popmean)\n",
    "\n",
    "print(results.pvalue)\n"
   ]
  },
  {
   "cell_type": "markdown",
   "metadata": {},
   "source": [
    "El resultado anterior es menor a alpha=0.05, lo que indica que rechazamos la hipotesis nula, indicando que el ingreso no es similar entre ciudades"
   ]
  },
  {
   "cell_type": "markdown",
   "metadata": {
    "id": "bbTR8UQO0q1T"
   },
   "source": [
    "## Conclusión general\n",
    "\n",
    "[En esta sección final, enumera tus conclusiones importantes. Asegúrate de que estas abarquen todas las decisiones (suposiciones) importantes que adoptaste y que determinaron la forma elegida para procesar y analizar los datos.]"
   ]
  },
  {
   "cell_type": "markdown",
   "metadata": {},
   "source": [
    "La conclusion general indica que el plan que genera mas ingresos es el plan surf, primero porque hay mas usuarios inscritos y segundo porque genera mas ingresos en extra costos de los servicios que utilizan demas los usuarios."
   ]
  },
  {
   "cell_type": "markdown",
   "metadata": {},
   "source": [
    "Los primeros meses del mes se observó que el plan ultimate generaba mas ingresos, pero despues del mes 6 se evidencia que los planes tienden a generar ingresos parecidos. El comportamiento del plan surf se mantuvo constante en todo el año"
   ]
  },
  {
   "cell_type": "markdown",
   "metadata": {},
   "source": [
    "EL ingreso de los usuarios por ciudad no es similar entre ciudades, varia depende de la region."
   ]
  },
  {
   "cell_type": "markdown",
   "metadata": {},
   "source": [
    "Se evidenció que los usuarios incrementaron de forma exponencial para ambos planes el uso de los mensajes. Los usuarios del plan surf tienden a doblar la cantidad de mensajes enviados que los del plan ultimate. Esto se relaciona con que, a medida que incrementa el tiempo, los usuarios se han ido inscribiendo en la compañia de telefonía. Para el mes de enero la cantidad de ususarios era realmente minima para ambos planes y al mes de diciembre ese valor se incrementó."
   ]
  }
 ],
 "metadata": {
  "ExecuteTimeLog": [
   {
    "duration": 828,
    "start_time": "2021-11-16T09:21:11.304Z"
   },
   {
    "duration": 893,
    "start_time": "2021-11-16T09:21:17.728Z"
   },
   {
    "duration": 1150,
    "start_time": "2021-11-16T09:21:29.568Z"
   },
   {
    "duration": 3,
    "start_time": "2021-11-16T09:24:14.495Z"
   },
   {
    "duration": 120,
    "start_time": "2021-11-16T09:24:46.630Z"
   },
   {
    "duration": 3,
    "start_time": "2021-11-16T09:28:27.882Z"
   },
   {
    "duration": 4,
    "start_time": "2021-11-16T09:29:54.281Z"
   },
   {
    "duration": 3,
    "start_time": "2021-11-16T09:30:45.936Z"
   },
   {
    "duration": 4,
    "start_time": "2021-11-16T09:31:06.300Z"
   },
   {
    "duration": 113,
    "start_time": "2021-11-16T09:31:37.208Z"
   },
   {
    "duration": 143,
    "start_time": "2021-11-16T09:31:48.656Z"
   },
   {
    "duration": 98,
    "start_time": "2021-11-16T09:31:55.678Z"
   },
   {
    "duration": 3,
    "start_time": "2021-11-16T09:32:08.535Z"
   },
   {
    "duration": 111,
    "start_time": "2021-11-16T09:32:10.120Z"
   },
   {
    "duration": 3,
    "start_time": "2021-11-16T09:32:15.732Z"
   },
   {
    "duration": 4,
    "start_time": "2021-11-16T09:32:29.423Z"
   },
   {
    "duration": 3,
    "start_time": "2021-11-16T10:03:03.074Z"
   },
   {
    "duration": 3,
    "start_time": "2021-11-16T10:10:01.288Z"
   },
   {
    "duration": 3,
    "start_time": "2021-11-16T10:10:46.923Z"
   },
   {
    "duration": 121,
    "start_time": "2021-11-16T10:37:46.494Z"
   },
   {
    "duration": 125,
    "start_time": "2021-11-16T10:38:20.632Z"
   },
   {
    "duration": 112,
    "start_time": "2021-11-16T10:46:53.001Z"
   },
   {
    "duration": 110,
    "start_time": "2021-11-16T10:48:25.775Z"
   },
   {
    "duration": 3,
    "start_time": "2021-11-16T10:50:18.720Z"
   },
   {
    "duration": 4,
    "start_time": "2021-11-16T10:50:37.649Z"
   },
   {
    "duration": 2,
    "start_time": "2021-11-16T10:50:51.884Z"
   },
   {
    "duration": 3,
    "start_time": "2021-11-16T10:51:56.237Z"
   },
   {
    "duration": 101,
    "start_time": "2021-11-16T10:53:13.791Z"
   },
   {
    "duration": 3,
    "start_time": "2021-11-16T10:55:59.186Z"
   },
   {
    "duration": 3,
    "start_time": "2021-11-16T10:56:10.751Z"
   },
   {
    "duration": 3,
    "start_time": "2021-11-16T10:56:49.038Z"
   },
   {
    "duration": 3,
    "start_time": "2021-11-16T10:56:49.174Z"
   },
   {
    "duration": 4,
    "start_time": "2021-11-16T10:56:49.414Z"
   },
   {
    "duration": 3,
    "start_time": "2021-11-16T10:56:49.680Z"
   },
   {
    "duration": 3,
    "start_time": "2021-11-16T10:56:50.370Z"
   },
   {
    "duration": 114,
    "start_time": "2021-11-16T10:59:34.518Z"
   },
   {
    "duration": 3,
    "start_time": "2021-11-16T11:01:41.201Z"
   },
   {
    "duration": 116,
    "start_time": "2021-11-16T11:01:48.754Z"
   },
   {
    "duration": 3,
    "start_time": "2021-11-16T11:02:16.685Z"
   },
   {
    "duration": 3,
    "start_time": "2021-11-16T11:02:19.479Z"
   },
   {
    "duration": 3,
    "start_time": "2021-11-16T11:02:47.067Z"
   },
   {
    "duration": 3,
    "start_time": "2021-11-16T11:02:49.353Z"
   },
   {
    "duration": 3,
    "start_time": "2021-11-16T11:03:07.835Z"
   },
   {
    "duration": 3,
    "start_time": "2021-11-16T11:03:07.953Z"
   },
   {
    "duration": 112,
    "start_time": "2021-11-16T11:07:52.072Z"
   },
   {
    "duration": 187,
    "start_time": "2021-11-16T11:09:23.468Z"
   },
   {
    "duration": 4,
    "start_time": "2021-11-16T11:10:01.455Z"
   },
   {
    "duration": 3,
    "start_time": "2021-11-16T11:10:05.069Z"
   },
   {
    "duration": 4,
    "start_time": "2021-11-16T11:10:13.376Z"
   },
   {
    "duration": 3,
    "start_time": "2021-11-16T11:10:14.434Z"
   },
   {
    "duration": 3,
    "start_time": "2021-11-16T11:10:22.853Z"
   },
   {
    "duration": 4,
    "start_time": "2021-11-16T11:27:29.279Z"
   },
   {
    "duration": 4,
    "start_time": "2021-11-16T11:29:08.919Z"
   },
   {
    "duration": 118,
    "start_time": "2021-11-16T11:29:46.703Z"
   },
   {
    "duration": 437,
    "start_time": "2021-11-16T11:36:02.181Z"
   },
   {
    "duration": 157,
    "start_time": "2021-11-16T11:36:14.388Z"
   },
   {
    "duration": 207,
    "start_time": "2021-11-16T11:47:15.898Z"
   },
   {
    "duration": 3,
    "start_time": "2021-11-16T11:53:52.092Z"
   },
   {
    "duration": 3,
    "start_time": "2021-11-16T11:53:52.236Z"
   },
   {
    "duration": 3,
    "start_time": "2021-11-16T11:59:12.005Z"
   },
   {
    "duration": 112,
    "start_time": "2021-11-16T12:00:33.446Z"
   },
   {
    "duration": 3,
    "start_time": "2021-11-16T12:02:14.453Z"
   },
   {
    "duration": 3,
    "start_time": "2021-11-16T12:02:39.512Z"
   },
   {
    "duration": 106,
    "start_time": "2021-11-16T12:03:03.460Z"
   },
   {
    "duration": 3,
    "start_time": "2021-11-17T20:37:21.139Z"
   },
   {
    "duration": 3,
    "start_time": "2021-11-17T20:37:22.229Z"
   },
   {
    "duration": 3,
    "start_time": "2021-11-17T20:38:38.806Z"
   },
   {
    "duration": 3,
    "start_time": "2021-11-17T20:38:41.958Z"
   },
   {
    "duration": 3,
    "start_time": "2021-11-17T20:43:46.551Z"
   },
   {
    "duration": 4,
    "start_time": "2021-11-17T20:58:21.835Z"
   },
   {
    "duration": 3,
    "start_time": "2021-11-17T20:59:21.872Z"
   },
   {
    "duration": 4,
    "start_time": "2021-11-17T20:59:45.352Z"
   },
   {
    "duration": 4,
    "start_time": "2021-11-17T20:59:49.646Z"
   },
   {
    "duration": 159,
    "start_time": "2021-11-17T21:02:26.949Z"
   },
   {
    "duration": 3,
    "start_time": "2021-11-17T21:03:53.461Z"
   },
   {
    "duration": 3,
    "start_time": "2021-11-17T21:03:53.694Z"
   },
   {
    "duration": 3,
    "start_time": "2021-11-17T21:05:28.145Z"
   },
   {
    "duration": 116,
    "start_time": "2021-11-17T21:05:57.787Z"
   },
   {
    "duration": 3,
    "start_time": "2021-11-17T21:06:37.993Z"
   },
   {
    "duration": 3,
    "start_time": "2021-11-17T21:06:38.261Z"
   },
   {
    "duration": 3,
    "start_time": "2021-11-17T21:11:54.358Z"
   },
   {
    "duration": 3,
    "start_time": "2021-11-17T21:12:43.846Z"
   },
   {
    "duration": 4,
    "start_time": "2021-11-17T21:13:08.773Z"
   },
   {
    "duration": 3,
    "start_time": "2021-11-17T21:14:44.441Z"
   },
   {
    "duration": 3,
    "start_time": "2021-11-17T21:15:42.059Z"
   },
   {
    "duration": 4,
    "start_time": "2021-11-17T21:15:51.995Z"
   },
   {
    "duration": 3,
    "start_time": "2021-11-17T21:15:53.923Z"
   },
   {
    "duration": 3,
    "start_time": "2021-11-17T21:15:55.282Z"
   },
   {
    "duration": 3,
    "start_time": "2021-11-17T21:16:28.492Z"
   },
   {
    "duration": 3,
    "start_time": "2021-11-17T21:16:32.603Z"
   },
   {
    "duration": 3,
    "start_time": "2021-11-17T21:17:06.941Z"
   },
   {
    "duration": 98,
    "start_time": "2021-11-17T21:18:05.733Z"
   },
   {
    "duration": 4,
    "start_time": "2021-11-17T21:21:35.255Z"
   },
   {
    "duration": 3,
    "start_time": "2021-11-17T21:21:37.804Z"
   },
   {
    "duration": 4,
    "start_time": "2021-11-17T21:23:06.071Z"
   },
   {
    "duration": 3,
    "start_time": "2021-11-17T21:23:24.799Z"
   },
   {
    "duration": 3,
    "start_time": "2021-11-17T21:23:32.591Z"
   },
   {
    "duration": 98,
    "start_time": "2021-11-17T21:28:31.559Z"
   },
   {
    "duration": 3,
    "start_time": "2021-11-17T21:28:45.448Z"
   },
   {
    "duration": 3,
    "start_time": "2021-11-17T21:29:17.303Z"
   },
   {
    "duration": 3,
    "start_time": "2021-11-17T21:29:29.617Z"
   },
   {
    "duration": 3,
    "start_time": "2021-11-17T21:29:32.681Z"
   },
   {
    "duration": 3,
    "start_time": "2021-11-17T21:36:11.474Z"
   },
   {
    "duration": 3,
    "start_time": "2021-11-17T21:36:14.791Z"
   },
   {
    "duration": 3,
    "start_time": "2021-11-17T21:36:53.943Z"
   },
   {
    "duration": 3,
    "start_time": "2021-11-17T21:36:56.165Z"
   },
   {
    "duration": 4,
    "start_time": "2021-11-17T21:37:16.590Z"
   },
   {
    "duration": 3,
    "start_time": "2021-11-17T21:37:22.702Z"
   },
   {
    "duration": 4,
    "start_time": "2021-11-17T21:38:03.479Z"
   },
   {
    "duration": 3,
    "start_time": "2021-11-17T21:38:08.601Z"
   },
   {
    "duration": 3,
    "start_time": "2021-11-17T21:38:12.928Z"
   },
   {
    "duration": 3,
    "start_time": "2021-11-17T21:38:48.896Z"
   },
   {
    "duration": 2,
    "start_time": "2021-11-17T21:38:49.171Z"
   },
   {
    "duration": 4,
    "start_time": "2021-11-17T21:39:57.889Z"
   },
   {
    "duration": 3,
    "start_time": "2021-11-17T21:39:58.057Z"
   },
   {
    "duration": 3,
    "start_time": "2021-11-17T21:41:20.108Z"
   },
   {
    "duration": 3,
    "start_time": "2021-11-17T21:41:20.629Z"
   },
   {
    "duration": 3,
    "start_time": "2021-11-17T21:42:49.136Z"
   },
   {
    "duration": 3,
    "start_time": "2021-11-17T21:43:15.137Z"
   },
   {
    "duration": 4,
    "start_time": "2021-11-17T21:43:16.766Z"
   },
   {
    "duration": 4,
    "start_time": "2021-11-17T21:43:31.711Z"
   },
   {
    "duration": 3,
    "start_time": "2021-11-17T21:43:36.312Z"
   },
   {
    "duration": 4,
    "start_time": "2021-11-17T21:45:08.825Z"
   },
   {
    "duration": 4,
    "start_time": "2021-11-17T21:45:10.119Z"
   },
   {
    "duration": 4,
    "start_time": "2021-11-17T21:45:13.748Z"
   },
   {
    "duration": 3,
    "start_time": "2021-11-17T21:45:22.219Z"
   },
   {
    "duration": 3,
    "start_time": "2021-11-17T21:45:33.412Z"
   },
   {
    "duration": 2,
    "start_time": "2021-11-17T21:46:01.885Z"
   },
   {
    "duration": 3,
    "start_time": "2021-11-17T21:46:03.628Z"
   },
   {
    "duration": 107,
    "start_time": "2021-11-17T21:47:32.512Z"
   },
   {
    "duration": 103,
    "start_time": "2021-11-17T21:50:36.243Z"
   },
   {
    "duration": 3,
    "start_time": "2021-11-18T06:28:31.440Z"
   },
   {
    "duration": 3,
    "start_time": "2021-11-18T06:29:00.168Z"
   },
   {
    "duration": 3,
    "start_time": "2021-11-18T06:31:27.008Z"
   },
   {
    "duration": 2,
    "start_time": "2021-11-18T06:35:34.288Z"
   },
   {
    "duration": 2,
    "start_time": "2021-11-18T06:38:04.527Z"
   },
   {
    "duration": 244,
    "start_time": "2025-02-24T21:52:29.315Z"
   },
   {
    "duration": 2630,
    "start_time": "2025-02-24T21:53:27.495Z"
   },
   {
    "duration": 576,
    "start_time": "2025-02-24T21:53:30.127Z"
   },
   {
    "duration": 161,
    "start_time": "2025-02-24T21:53:38.947Z"
   },
   {
    "duration": 10,
    "start_time": "2025-02-24T21:55:49.877Z"
   },
   {
    "duration": 16,
    "start_time": "2025-02-24T21:55:59.244Z"
   },
   {
    "duration": 18,
    "start_time": "2025-02-24T21:56:10.559Z"
   },
   {
    "duration": 7,
    "start_time": "2025-02-24T21:56:54.727Z"
   },
   {
    "duration": 9,
    "start_time": "2025-02-24T21:57:51.580Z"
   },
   {
    "duration": 8,
    "start_time": "2025-02-24T21:58:00.495Z"
   },
   {
    "duration": 9,
    "start_time": "2025-02-24T22:03:18.516Z"
   },
   {
    "duration": 8,
    "start_time": "2025-02-24T22:03:42.621Z"
   },
   {
    "duration": 18,
    "start_time": "2025-02-24T22:05:29.926Z"
   },
   {
    "duration": 7,
    "start_time": "2025-02-24T22:06:00.742Z"
   },
   {
    "duration": 6,
    "start_time": "2025-02-24T22:06:39.902Z"
   },
   {
    "duration": 13,
    "start_time": "2025-02-24T22:06:56.567Z"
   },
   {
    "duration": 9,
    "start_time": "2025-02-24T22:07:10.481Z"
   },
   {
    "duration": 7,
    "start_time": "2025-02-24T22:07:15.292Z"
   },
   {
    "duration": 10,
    "start_time": "2025-02-24T22:07:32.605Z"
   },
   {
    "duration": 15,
    "start_time": "2025-02-24T22:09:37.121Z"
   },
   {
    "duration": 15,
    "start_time": "2025-02-24T22:09:58.112Z"
   },
   {
    "duration": 9,
    "start_time": "2025-02-24T22:10:09.948Z"
   },
   {
    "duration": 7,
    "start_time": "2025-02-24T22:30:27.132Z"
   },
   {
    "duration": 278,
    "start_time": "2025-02-24T22:30:36.458Z"
   },
   {
    "duration": 9,
    "start_time": "2025-02-24T22:30:54.116Z"
   },
   {
    "duration": 9,
    "start_time": "2025-02-24T22:53:58.674Z"
   },
   {
    "duration": 8,
    "start_time": "2025-02-24T22:53:59.161Z"
   },
   {
    "duration": 8,
    "start_time": "2025-02-24T22:56:31.882Z"
   },
   {
    "duration": 451,
    "start_time": "2025-02-24T23:02:40.977Z"
   },
   {
    "duration": 4,
    "start_time": "2025-02-24T23:03:02.581Z"
   },
   {
    "duration": 13,
    "start_time": "2025-02-24T23:03:05.182Z"
   },
   {
    "duration": 14,
    "start_time": "2025-02-24T23:04:59.551Z"
   },
   {
    "duration": 12,
    "start_time": "2025-02-24T23:05:49.774Z"
   },
   {
    "duration": 3,
    "start_time": "2025-02-24T23:06:22.063Z"
   },
   {
    "duration": 13,
    "start_time": "2025-02-24T23:06:42.868Z"
   },
   {
    "duration": 3,
    "start_time": "2025-02-24T23:06:46.249Z"
   },
   {
    "duration": 157,
    "start_time": "2025-02-24T23:06:46.254Z"
   },
   {
    "duration": 2,
    "start_time": "2025-02-24T23:06:46.415Z"
   },
   {
    "duration": 8,
    "start_time": "2025-02-24T23:06:46.419Z"
   },
   {
    "duration": 8,
    "start_time": "2025-02-24T23:06:46.429Z"
   },
   {
    "duration": 15,
    "start_time": "2025-02-24T23:06:46.438Z"
   },
   {
    "duration": 10,
    "start_time": "2025-02-24T23:06:46.455Z"
   },
   {
    "duration": 13,
    "start_time": "2025-02-24T23:06:46.486Z"
   },
   {
    "duration": 9,
    "start_time": "2025-02-24T23:06:46.502Z"
   },
   {
    "duration": 14,
    "start_time": "2025-02-24T23:06:46.513Z"
   },
   {
    "duration": 9,
    "start_time": "2025-02-24T23:06:46.528Z"
   },
   {
    "duration": 4,
    "start_time": "2025-02-24T23:06:46.539Z"
   },
   {
    "duration": 43,
    "start_time": "2025-02-24T23:06:46.545Z"
   },
   {
    "duration": 3,
    "start_time": "2025-02-24T23:06:46.589Z"
   },
   {
    "duration": 8,
    "start_time": "2025-02-24T23:06:46.594Z"
   },
   {
    "duration": 3,
    "start_time": "2025-02-24T23:07:01.662Z"
   },
   {
    "duration": 37,
    "start_time": "2025-02-24T23:07:08.898Z"
   },
   {
    "duration": 36,
    "start_time": "2025-02-24T23:07:40.739Z"
   },
   {
    "duration": 37,
    "start_time": "2025-02-24T23:11:01.259Z"
   },
   {
    "duration": 36,
    "start_time": "2025-02-24T23:11:27.798Z"
   },
   {
    "duration": 10,
    "start_time": "2025-02-24T23:11:37.314Z"
   },
   {
    "duration": 3,
    "start_time": "2025-02-24T23:12:01.949Z"
   },
   {
    "duration": 39,
    "start_time": "2025-02-24T23:13:45.318Z"
   },
   {
    "duration": 36,
    "start_time": "2025-02-24T23:13:53.286Z"
   },
   {
    "duration": 45,
    "start_time": "2025-02-24T23:15:04.003Z"
   },
   {
    "duration": 129,
    "start_time": "2025-02-24T23:16:36.036Z"
   },
   {
    "duration": 40,
    "start_time": "2025-02-24T23:17:51.627Z"
   },
   {
    "duration": 124,
    "start_time": "2025-02-24T23:18:29.935Z"
   },
   {
    "duration": 37,
    "start_time": "2025-02-24T23:19:40.126Z"
   },
   {
    "duration": 37,
    "start_time": "2025-02-24T23:19:52.841Z"
   },
   {
    "duration": 55,
    "start_time": "2025-02-24T23:22:03.196Z"
   },
   {
    "duration": 36,
    "start_time": "2025-02-24T23:22:43.059Z"
   },
   {
    "duration": 34,
    "start_time": "2025-02-24T23:22:56.211Z"
   },
   {
    "duration": 37,
    "start_time": "2025-02-24T23:23:08.243Z"
   },
   {
    "duration": 5,
    "start_time": "2025-02-24T23:23:15.288Z"
   },
   {
    "duration": 38,
    "start_time": "2025-02-24T23:23:21.837Z"
   },
   {
    "duration": 37,
    "start_time": "2025-02-24T23:23:46.336Z"
   },
   {
    "duration": 37,
    "start_time": "2025-02-24T23:23:59.471Z"
   },
   {
    "duration": 34,
    "start_time": "2025-02-24T23:24:16.497Z"
   },
   {
    "duration": 12,
    "start_time": "2025-02-24T23:32:48.269Z"
   },
   {
    "duration": 14,
    "start_time": "2025-02-24T23:33:25.304Z"
   },
   {
    "duration": 341,
    "start_time": "2025-02-24T23:33:48.553Z"
   },
   {
    "duration": 14,
    "start_time": "2025-02-24T23:34:49.343Z"
   },
   {
    "duration": 5,
    "start_time": "2025-02-24T23:36:01.176Z"
   },
   {
    "duration": 78,
    "start_time": "2025-02-24T23:36:14.635Z"
   },
   {
    "duration": 14,
    "start_time": "2025-02-24T23:38:25.902Z"
   },
   {
    "duration": 4,
    "start_time": "2025-02-24T23:38:35.107Z"
   },
   {
    "duration": 11,
    "start_time": "2025-02-24T23:38:47.052Z"
   },
   {
    "duration": 11,
    "start_time": "2025-02-24T23:40:45.942Z"
   },
   {
    "duration": 6,
    "start_time": "2025-02-24T23:41:02.946Z"
   },
   {
    "duration": 13,
    "start_time": "2025-02-24T23:41:19.795Z"
   },
   {
    "duration": 8,
    "start_time": "2025-02-24T23:41:52.196Z"
   },
   {
    "duration": 6,
    "start_time": "2025-02-24T23:42:15.589Z"
   },
   {
    "duration": 169,
    "start_time": "2025-02-24T23:42:21.312Z"
   },
   {
    "duration": 3,
    "start_time": "2025-02-24T23:42:25.154Z"
   },
   {
    "duration": 8,
    "start_time": "2025-02-24T23:42:25.217Z"
   },
   {
    "duration": 8,
    "start_time": "2025-02-24T23:42:25.976Z"
   },
   {
    "duration": 8,
    "start_time": "2025-02-24T23:42:34.937Z"
   },
   {
    "duration": 7,
    "start_time": "2025-02-24T23:42:43.900Z"
   },
   {
    "duration": 6,
    "start_time": "2025-02-24T23:42:46.493Z"
   },
   {
    "duration": 9,
    "start_time": "2025-02-24T23:43:26.203Z"
   },
   {
    "duration": 12,
    "start_time": "2025-02-24T23:43:56.367Z"
   },
   {
    "duration": 8,
    "start_time": "2025-02-24T23:44:16.012Z"
   },
   {
    "duration": 13,
    "start_time": "2025-02-24T23:49:03.781Z"
   },
   {
    "duration": 13,
    "start_time": "2025-02-24T23:49:18.095Z"
   },
   {
    "duration": 127,
    "start_time": "2025-02-24T23:50:00.973Z"
   },
   {
    "duration": 26,
    "start_time": "2025-02-24T23:50:15.888Z"
   },
   {
    "duration": 9,
    "start_time": "2025-02-24T23:51:49.108Z"
   },
   {
    "duration": 9,
    "start_time": "2025-02-24T23:52:21.922Z"
   },
   {
    "duration": 36,
    "start_time": "2025-02-24T23:52:40.312Z"
   },
   {
    "duration": 39,
    "start_time": "2025-02-24T23:52:51.048Z"
   },
   {
    "duration": 35,
    "start_time": "2025-02-24T23:53:13.331Z"
   },
   {
    "duration": 35,
    "start_time": "2025-02-24T23:53:15.190Z"
   },
   {
    "duration": 35,
    "start_time": "2025-02-24T23:53:23.925Z"
   },
   {
    "duration": 36,
    "start_time": "2025-02-24T23:53:45.851Z"
   },
   {
    "duration": 12,
    "start_time": "2025-02-24T23:54:39.969Z"
   },
   {
    "duration": 8,
    "start_time": "2025-02-24T23:55:01.222Z"
   },
   {
    "duration": 9,
    "start_time": "2025-02-24T23:55:02.037Z"
   },
   {
    "duration": 8,
    "start_time": "2025-02-24T23:56:05.951Z"
   },
   {
    "duration": 16,
    "start_time": "2025-02-24T23:58:20.568Z"
   },
   {
    "duration": 13,
    "start_time": "2025-02-24T23:58:42.702Z"
   },
   {
    "duration": 115,
    "start_time": "2025-02-25T00:00:43.108Z"
   },
   {
    "duration": 17,
    "start_time": "2025-02-25T00:00:55.443Z"
   },
   {
    "duration": 10,
    "start_time": "2025-02-25T00:02:43.711Z"
   },
   {
    "duration": 4,
    "start_time": "2025-02-25T00:06:57.800Z"
   },
   {
    "duration": 8,
    "start_time": "2025-02-25T00:06:58.288Z"
   },
   {
    "duration": 22,
    "start_time": "2025-02-25T00:08:55.964Z"
   },
   {
    "duration": 11,
    "start_time": "2025-02-25T00:09:39.157Z"
   },
   {
    "duration": 11,
    "start_time": "2025-02-25T00:09:44.793Z"
   },
   {
    "duration": 12,
    "start_time": "2025-02-25T01:08:45.030Z"
   },
   {
    "duration": 13,
    "start_time": "2025-02-25T01:09:04.076Z"
   },
   {
    "duration": 4,
    "start_time": "2025-02-25T01:13:14.248Z"
   },
   {
    "duration": 16,
    "start_time": "2025-02-25T01:13:21.646Z"
   },
   {
    "duration": 17,
    "start_time": "2025-02-25T01:13:48.274Z"
   },
   {
    "duration": 14,
    "start_time": "2025-02-25T01:18:18.616Z"
   },
   {
    "duration": 13,
    "start_time": "2025-02-25T01:21:27.144Z"
   },
   {
    "duration": 13,
    "start_time": "2025-02-25T01:21:58.144Z"
   },
   {
    "duration": 13,
    "start_time": "2025-02-25T01:22:04.745Z"
   },
   {
    "duration": 14,
    "start_time": "2025-02-25T01:22:09.738Z"
   },
   {
    "duration": 13,
    "start_time": "2025-02-25T01:22:10.563Z"
   },
   {
    "duration": 3,
    "start_time": "2025-02-25T01:22:24.616Z"
   },
   {
    "duration": 3,
    "start_time": "2025-02-25T01:22:30.835Z"
   },
   {
    "duration": 161,
    "start_time": "2025-02-25T01:22:30.840Z"
   },
   {
    "duration": 2,
    "start_time": "2025-02-25T01:22:31.003Z"
   },
   {
    "duration": 8,
    "start_time": "2025-02-25T01:22:31.007Z"
   },
   {
    "duration": 10,
    "start_time": "2025-02-25T01:22:31.017Z"
   },
   {
    "duration": 5,
    "start_time": "2025-02-25T01:22:31.028Z"
   },
   {
    "duration": 14,
    "start_time": "2025-02-25T01:22:31.034Z"
   },
   {
    "duration": 37,
    "start_time": "2025-02-25T01:22:31.050Z"
   },
   {
    "duration": 12,
    "start_time": "2025-02-25T01:22:31.088Z"
   },
   {
    "duration": 13,
    "start_time": "2025-02-25T01:22:31.102Z"
   },
   {
    "duration": 8,
    "start_time": "2025-02-25T01:22:31.116Z"
   },
   {
    "duration": 9,
    "start_time": "2025-02-25T01:22:31.125Z"
   },
   {
    "duration": 14,
    "start_time": "2025-02-25T01:22:31.137Z"
   },
   {
    "duration": 40,
    "start_time": "2025-02-25T01:22:31.153Z"
   },
   {
    "duration": 10,
    "start_time": "2025-02-25T01:22:31.195Z"
   },
   {
    "duration": 4,
    "start_time": "2025-02-25T01:22:31.206Z"
   },
   {
    "duration": 8,
    "start_time": "2025-02-25T01:22:31.211Z"
   },
   {
    "duration": 9,
    "start_time": "2025-02-25T01:22:31.221Z"
   },
   {
    "duration": 3,
    "start_time": "2025-02-25T01:22:31.231Z"
   },
   {
    "duration": 8,
    "start_time": "2025-02-25T01:22:31.236Z"
   },
   {
    "duration": 64,
    "start_time": "2025-02-25T01:22:31.246Z"
   },
   {
    "duration": 15,
    "start_time": "2025-02-25T01:22:31.312Z"
   },
   {
    "duration": 16,
    "start_time": "2025-02-25T01:22:31.328Z"
   },
   {
    "duration": 9,
    "start_time": "2025-02-25T01:22:31.346Z"
   },
   {
    "duration": 41,
    "start_time": "2025-02-25T01:22:31.356Z"
   },
   {
    "duration": 11,
    "start_time": "2025-02-25T01:22:31.398Z"
   },
   {
    "duration": 13,
    "start_time": "2025-02-25T01:22:31.411Z"
   },
   {
    "duration": 12,
    "start_time": "2025-02-25T01:22:31.426Z"
   },
   {
    "duration": 2,
    "start_time": "2025-02-25T01:22:31.439Z"
   },
   {
    "duration": 2,
    "start_time": "2025-02-25T01:22:31.443Z"
   },
   {
    "duration": 42,
    "start_time": "2025-02-25T01:22:31.446Z"
   },
   {
    "duration": 3,
    "start_time": "2025-02-25T01:22:31.490Z"
   },
   {
    "duration": 5,
    "start_time": "2025-02-25T01:22:31.494Z"
   },
   {
    "duration": 2,
    "start_time": "2025-02-25T01:22:31.501Z"
   },
   {
    "duration": 3,
    "start_time": "2025-02-25T01:22:31.505Z"
   },
   {
    "duration": 3,
    "start_time": "2025-02-25T01:22:31.510Z"
   },
   {
    "duration": 2,
    "start_time": "2025-02-25T01:22:31.519Z"
   },
   {
    "duration": 3,
    "start_time": "2025-02-25T01:22:31.523Z"
   },
   {
    "duration": 3,
    "start_time": "2025-02-25T01:22:31.527Z"
   },
   {
    "duration": 3,
    "start_time": "2025-02-25T01:22:31.531Z"
   },
   {
    "duration": 3,
    "start_time": "2025-02-25T01:22:31.536Z"
   },
   {
    "duration": 12,
    "start_time": "2025-02-25T01:22:31.541Z"
   },
   {
    "duration": 33,
    "start_time": "2025-02-25T01:22:31.554Z"
   },
   {
    "duration": 4,
    "start_time": "2025-02-25T01:22:31.589Z"
   },
   {
    "duration": 10,
    "start_time": "2025-02-25T01:23:15.639Z"
   },
   {
    "duration": 27,
    "start_time": "2025-02-25T01:28:58.651Z"
   },
   {
    "duration": 13,
    "start_time": "2025-02-25T01:34:20.777Z"
   },
   {
    "duration": 14,
    "start_time": "2025-02-25T01:34:24.223Z"
   },
   {
    "duration": 15,
    "start_time": "2025-02-25T01:51:07.818Z"
   },
   {
    "duration": 18,
    "start_time": "2025-02-25T01:55:20.437Z"
   },
   {
    "duration": 27,
    "start_time": "2025-02-25T01:55:40.041Z"
   },
   {
    "duration": 23,
    "start_time": "2025-02-25T01:55:48.435Z"
   },
   {
    "duration": 18,
    "start_time": "2025-02-25T01:56:52.885Z"
   },
   {
    "duration": 20,
    "start_time": "2025-02-25T01:57:23.688Z"
   },
   {
    "duration": 231,
    "start_time": "2025-02-25T01:58:55.187Z"
   },
   {
    "duration": 91,
    "start_time": "2025-02-25T01:59:07.882Z"
   },
   {
    "duration": 7,
    "start_time": "2025-02-25T01:59:16.873Z"
   },
   {
    "duration": 8,
    "start_time": "2025-02-25T01:59:21.244Z"
   },
   {
    "duration": 9,
    "start_time": "2025-02-25T01:59:28.708Z"
   },
   {
    "duration": 20,
    "start_time": "2025-02-25T01:59:45.185Z"
   },
   {
    "duration": 21,
    "start_time": "2025-02-25T02:00:56.063Z"
   },
   {
    "duration": 14,
    "start_time": "2025-02-25T02:01:23.328Z"
   },
   {
    "duration": 14,
    "start_time": "2025-02-25T02:01:39.721Z"
   },
   {
    "duration": 19,
    "start_time": "2025-02-25T02:01:47.017Z"
   },
   {
    "duration": 16,
    "start_time": "2025-02-25T02:02:16.138Z"
   },
   {
    "duration": 18,
    "start_time": "2025-02-25T02:02:37.925Z"
   },
   {
    "duration": 82,
    "start_time": "2025-02-25T02:03:27.565Z"
   },
   {
    "duration": 90,
    "start_time": "2025-02-25T02:03:41.833Z"
   },
   {
    "duration": 19,
    "start_time": "2025-02-25T02:03:44.836Z"
   },
   {
    "duration": 80,
    "start_time": "2025-02-25T02:03:47.689Z"
   },
   {
    "duration": 18,
    "start_time": "2025-02-25T02:04:01.934Z"
   },
   {
    "duration": 10,
    "start_time": "2025-02-25T02:07:45.085Z"
   },
   {
    "duration": 19,
    "start_time": "2025-02-25T02:07:53.035Z"
   },
   {
    "duration": 18,
    "start_time": "2025-02-25T02:12:39.989Z"
   },
   {
    "duration": 17,
    "start_time": "2025-02-25T02:13:14.079Z"
   },
   {
    "duration": 15,
    "start_time": "2025-02-25T02:13:44.082Z"
   },
   {
    "duration": 17,
    "start_time": "2025-02-25T02:14:22.713Z"
   },
   {
    "duration": 22,
    "start_time": "2025-02-25T02:15:23.161Z"
   },
   {
    "duration": 14,
    "start_time": "2025-02-25T02:15:37.481Z"
   },
   {
    "duration": 16,
    "start_time": "2025-02-25T02:19:09.783Z"
   },
   {
    "duration": 12,
    "start_time": "2025-02-25T02:25:58.724Z"
   },
   {
    "duration": 23,
    "start_time": "2025-02-25T02:27:20.135Z"
   },
   {
    "duration": 24,
    "start_time": "2025-02-25T02:27:55.527Z"
   },
   {
    "duration": 30,
    "start_time": "2025-02-25T02:28:23.568Z"
   },
   {
    "duration": 24,
    "start_time": "2025-02-25T02:28:34.762Z"
   },
   {
    "duration": 18,
    "start_time": "2025-02-25T02:28:37.220Z"
   },
   {
    "duration": 17,
    "start_time": "2025-02-25T02:28:39.256Z"
   },
   {
    "duration": 20,
    "start_time": "2025-02-25T02:28:40.236Z"
   },
   {
    "duration": 20,
    "start_time": "2025-02-25T02:34:04.580Z"
   },
   {
    "duration": 21,
    "start_time": "2025-02-25T02:34:15.497Z"
   },
   {
    "duration": 24,
    "start_time": "2025-02-25T02:34:20.783Z"
   },
   {
    "duration": 18,
    "start_time": "2025-02-25T02:34:21.574Z"
   },
   {
    "duration": 19,
    "start_time": "2025-02-25T02:34:22.816Z"
   },
   {
    "duration": 29,
    "start_time": "2025-02-25T02:34:23.785Z"
   },
   {
    "duration": 28,
    "start_time": "2025-02-25T02:54:31.609Z"
   },
   {
    "duration": 23,
    "start_time": "2025-02-25T02:57:31.332Z"
   },
   {
    "duration": 7,
    "start_time": "2025-02-25T02:59:08.677Z"
   },
   {
    "duration": 12,
    "start_time": "2025-02-25T03:01:04.806Z"
   },
   {
    "duration": 5,
    "start_time": "2025-02-25T03:01:57.062Z"
   },
   {
    "duration": 6,
    "start_time": "2025-02-25T03:02:10.205Z"
   },
   {
    "duration": 11,
    "start_time": "2025-02-25T03:02:14.680Z"
   },
   {
    "duration": 6,
    "start_time": "2025-02-25T03:02:17.816Z"
   },
   {
    "duration": 19,
    "start_time": "2025-02-25T03:02:45.458Z"
   },
   {
    "duration": 6,
    "start_time": "2025-02-25T03:02:49.378Z"
   },
   {
    "duration": 5,
    "start_time": "2025-02-25T03:02:54.161Z"
   },
   {
    "duration": 22,
    "start_time": "2025-02-25T03:03:33.375Z"
   },
   {
    "duration": 5,
    "start_time": "2025-02-25T03:03:34.346Z"
   },
   {
    "duration": 11,
    "start_time": "2025-02-25T03:03:54.908Z"
   },
   {
    "duration": 6,
    "start_time": "2025-02-25T03:04:14.345Z"
   },
   {
    "duration": 10,
    "start_time": "2025-02-25T03:04:34.131Z"
   },
   {
    "duration": 5,
    "start_time": "2025-02-25T03:04:58.576Z"
   },
   {
    "duration": 18,
    "start_time": "2025-02-25T03:12:39.580Z"
   },
   {
    "duration": 30,
    "start_time": "2025-02-25T03:12:56.973Z"
   },
   {
    "duration": 23,
    "start_time": "2025-02-25T03:14:21.840Z"
   },
   {
    "duration": 14,
    "start_time": "2025-02-25T03:14:42.021Z"
   },
   {
    "duration": 20,
    "start_time": "2025-02-25T03:15:17.837Z"
   },
   {
    "duration": 9,
    "start_time": "2025-02-25T03:15:41.854Z"
   },
   {
    "duration": 4,
    "start_time": "2025-02-25T03:22:05.257Z"
   },
   {
    "duration": 8,
    "start_time": "2025-02-25T03:22:06.025Z"
   },
   {
    "duration": 4,
    "start_time": "2025-02-25T03:22:30.348Z"
   },
   {
    "duration": 10,
    "start_time": "2025-02-25T03:22:30.956Z"
   },
   {
    "duration": 3,
    "start_time": "2025-02-25T03:22:43.304Z"
   },
   {
    "duration": 223,
    "start_time": "2025-02-25T03:22:43.312Z"
   },
   {
    "duration": 3,
    "start_time": "2025-02-25T03:22:43.537Z"
   },
   {
    "duration": 11,
    "start_time": "2025-02-25T03:22:43.541Z"
   },
   {
    "duration": 9,
    "start_time": "2025-02-25T03:22:43.553Z"
   },
   {
    "duration": 5,
    "start_time": "2025-02-25T03:22:43.565Z"
   },
   {
    "duration": 32,
    "start_time": "2025-02-25T03:22:43.572Z"
   },
   {
    "duration": 13,
    "start_time": "2025-02-25T03:22:43.608Z"
   },
   {
    "duration": 16,
    "start_time": "2025-02-25T03:22:43.623Z"
   },
   {
    "duration": 15,
    "start_time": "2025-02-25T03:22:43.640Z"
   },
   {
    "duration": 32,
    "start_time": "2025-02-25T03:22:43.657Z"
   },
   {
    "duration": 11,
    "start_time": "2025-02-25T03:22:43.691Z"
   },
   {
    "duration": 19,
    "start_time": "2025-02-25T03:22:43.707Z"
   },
   {
    "duration": 11,
    "start_time": "2025-02-25T03:22:43.728Z"
   },
   {
    "duration": 14,
    "start_time": "2025-02-25T03:22:43.744Z"
   },
   {
    "duration": 29,
    "start_time": "2025-02-25T03:22:43.760Z"
   },
   {
    "duration": 9,
    "start_time": "2025-02-25T03:22:43.791Z"
   },
   {
    "duration": 13,
    "start_time": "2025-02-25T03:22:43.802Z"
   },
   {
    "duration": 3,
    "start_time": "2025-02-25T03:22:43.817Z"
   },
   {
    "duration": 10,
    "start_time": "2025-02-25T03:22:43.822Z"
   },
   {
    "duration": 8,
    "start_time": "2025-02-25T03:22:43.833Z"
   },
   {
    "duration": 52,
    "start_time": "2025-02-25T03:22:43.843Z"
   },
   {
    "duration": 15,
    "start_time": "2025-02-25T03:22:43.897Z"
   },
   {
    "duration": 12,
    "start_time": "2025-02-25T03:22:43.914Z"
   },
   {
    "duration": 23,
    "start_time": "2025-02-25T03:22:43.928Z"
   },
   {
    "duration": 39,
    "start_time": "2025-02-25T03:22:43.953Z"
   },
   {
    "duration": 22,
    "start_time": "2025-02-25T03:22:43.993Z"
   },
   {
    "duration": 11,
    "start_time": "2025-02-25T03:22:44.017Z"
   },
   {
    "duration": 14,
    "start_time": "2025-02-25T03:22:44.030Z"
   },
   {
    "duration": 8,
    "start_time": "2025-02-25T03:22:44.045Z"
   },
   {
    "duration": 48,
    "start_time": "2025-02-25T03:22:44.055Z"
   },
   {
    "duration": 17,
    "start_time": "2025-02-25T03:22:44.105Z"
   },
   {
    "duration": 14,
    "start_time": "2025-02-25T03:22:44.126Z"
   },
   {
    "duration": 19,
    "start_time": "2025-02-25T03:22:44.142Z"
   },
   {
    "duration": 39,
    "start_time": "2025-02-25T03:22:44.164Z"
   },
   {
    "duration": 5,
    "start_time": "2025-02-25T03:22:44.205Z"
   },
   {
    "duration": 11,
    "start_time": "2025-02-25T03:22:44.212Z"
   },
   {
    "duration": 5,
    "start_time": "2025-02-25T03:22:44.225Z"
   },
   {
    "duration": 18,
    "start_time": "2025-02-25T03:22:44.232Z"
   },
   {
    "duration": 2,
    "start_time": "2025-02-25T03:22:44.252Z"
   },
   {
    "duration": 2,
    "start_time": "2025-02-25T03:22:44.287Z"
   },
   {
    "duration": 3,
    "start_time": "2025-02-25T03:22:44.295Z"
   },
   {
    "duration": 2,
    "start_time": "2025-02-25T03:22:44.300Z"
   },
   {
    "duration": 3,
    "start_time": "2025-02-25T03:22:44.303Z"
   },
   {
    "duration": 2,
    "start_time": "2025-02-25T03:22:44.309Z"
   },
   {
    "duration": 3,
    "start_time": "2025-02-25T03:22:44.313Z"
   },
   {
    "duration": 2,
    "start_time": "2025-02-25T03:22:44.318Z"
   },
   {
    "duration": 2,
    "start_time": "2025-02-25T03:22:44.322Z"
   },
   {
    "duration": 32,
    "start_time": "2025-02-25T03:24:18.486Z"
   },
   {
    "duration": 37,
    "start_time": "2025-02-25T03:24:30.540Z"
   },
   {
    "duration": 20,
    "start_time": "2025-02-25T03:25:20.981Z"
   },
   {
    "duration": 6,
    "start_time": "2025-02-25T03:26:45.936Z"
   },
   {
    "duration": 8,
    "start_time": "2025-02-25T03:26:55.867Z"
   },
   {
    "duration": 3,
    "start_time": "2025-02-25T03:27:14.103Z"
   },
   {
    "duration": 8,
    "start_time": "2025-02-25T03:27:16.116Z"
   },
   {
    "duration": 10,
    "start_time": "2025-02-25T03:28:45.717Z"
   },
   {
    "duration": 12,
    "start_time": "2025-02-25T03:28:50.906Z"
   },
   {
    "duration": 47,
    "start_time": "2025-02-25T03:28:50.920Z"
   },
   {
    "duration": 0,
    "start_time": "2025-02-25T03:28:50.970Z"
   },
   {
    "duration": 0,
    "start_time": "2025-02-25T03:28:50.971Z"
   },
   {
    "duration": 0,
    "start_time": "2025-02-25T03:28:50.973Z"
   },
   {
    "duration": 0,
    "start_time": "2025-02-25T03:28:50.974Z"
   },
   {
    "duration": 0,
    "start_time": "2025-02-25T03:28:50.976Z"
   },
   {
    "duration": 0,
    "start_time": "2025-02-25T03:28:50.977Z"
   },
   {
    "duration": 0,
    "start_time": "2025-02-25T03:28:50.978Z"
   },
   {
    "duration": 0,
    "start_time": "2025-02-25T03:28:50.979Z"
   },
   {
    "duration": 0,
    "start_time": "2025-02-25T03:28:50.986Z"
   },
   {
    "duration": 0,
    "start_time": "2025-02-25T03:28:50.987Z"
   },
   {
    "duration": 0,
    "start_time": "2025-02-25T03:28:50.988Z"
   },
   {
    "duration": 0,
    "start_time": "2025-02-25T03:28:50.989Z"
   },
   {
    "duration": 22,
    "start_time": "2025-02-25T03:28:50.992Z"
   },
   {
    "duration": 16,
    "start_time": "2025-02-25T03:28:51.016Z"
   },
   {
    "duration": 63,
    "start_time": "2025-02-25T03:28:51.034Z"
   },
   {
    "duration": 19,
    "start_time": "2025-02-25T03:28:51.099Z"
   },
   {
    "duration": 5,
    "start_time": "2025-02-25T03:28:51.120Z"
   },
   {
    "duration": 11,
    "start_time": "2025-02-25T03:28:51.127Z"
   },
   {
    "duration": 4,
    "start_time": "2025-02-25T03:28:51.140Z"
   },
   {
    "duration": 54,
    "start_time": "2025-02-25T03:28:51.146Z"
   },
   {
    "duration": 2,
    "start_time": "2025-02-25T03:28:51.202Z"
   },
   {
    "duration": 4,
    "start_time": "2025-02-25T03:28:51.205Z"
   },
   {
    "duration": 3,
    "start_time": "2025-02-25T03:28:51.211Z"
   },
   {
    "duration": 3,
    "start_time": "2025-02-25T03:28:51.215Z"
   },
   {
    "duration": 3,
    "start_time": "2025-02-25T03:28:51.220Z"
   },
   {
    "duration": 4,
    "start_time": "2025-02-25T03:28:51.225Z"
   },
   {
    "duration": 2,
    "start_time": "2025-02-25T03:28:51.231Z"
   },
   {
    "duration": 3,
    "start_time": "2025-02-25T03:28:51.234Z"
   },
   {
    "duration": 3,
    "start_time": "2025-02-25T03:28:51.239Z"
   },
   {
    "duration": 27,
    "start_time": "2025-02-25T03:29:48.495Z"
   },
   {
    "duration": 20,
    "start_time": "2025-02-25T04:12:40.172Z"
   },
   {
    "duration": 116,
    "start_time": "2025-02-25T04:38:30.263Z"
   },
   {
    "duration": 23,
    "start_time": "2025-02-25T04:38:51.062Z"
   },
   {
    "duration": 20,
    "start_time": "2025-02-25T04:50:07.844Z"
   },
   {
    "duration": 28,
    "start_time": "2025-02-25T04:50:24.294Z"
   },
   {
    "duration": 19,
    "start_time": "2025-02-25T04:55:42.302Z"
   },
   {
    "duration": 2,
    "start_time": "2025-02-25T04:55:52.684Z"
   },
   {
    "duration": 21,
    "start_time": "2025-02-25T04:55:55.997Z"
   },
   {
    "duration": 3,
    "start_time": "2025-02-25T04:56:00.711Z"
   },
   {
    "duration": 164,
    "start_time": "2025-02-25T04:56:00.718Z"
   },
   {
    "duration": 3,
    "start_time": "2025-02-25T04:56:00.884Z"
   },
   {
    "duration": 9,
    "start_time": "2025-02-25T04:56:00.889Z"
   },
   {
    "duration": 9,
    "start_time": "2025-02-25T04:56:00.900Z"
   },
   {
    "duration": 5,
    "start_time": "2025-02-25T04:56:00.910Z"
   },
   {
    "duration": 16,
    "start_time": "2025-02-25T04:56:00.917Z"
   },
   {
    "duration": 10,
    "start_time": "2025-02-25T04:56:00.934Z"
   },
   {
    "duration": 50,
    "start_time": "2025-02-25T04:56:00.946Z"
   },
   {
    "duration": 11,
    "start_time": "2025-02-25T04:56:00.998Z"
   },
   {
    "duration": 7,
    "start_time": "2025-02-25T04:56:01.012Z"
   },
   {
    "duration": 10,
    "start_time": "2025-02-25T04:56:01.020Z"
   },
   {
    "duration": 13,
    "start_time": "2025-02-25T04:56:01.032Z"
   },
   {
    "duration": 42,
    "start_time": "2025-02-25T04:56:01.047Z"
   },
   {
    "duration": 11,
    "start_time": "2025-02-25T04:56:01.091Z"
   },
   {
    "duration": 4,
    "start_time": "2025-02-25T04:56:01.104Z"
   },
   {
    "duration": 8,
    "start_time": "2025-02-25T04:56:01.110Z"
   },
   {
    "duration": 8,
    "start_time": "2025-02-25T04:56:01.120Z"
   },
   {
    "duration": 9,
    "start_time": "2025-02-25T04:56:01.131Z"
   },
   {
    "duration": 4,
    "start_time": "2025-02-25T04:56:01.142Z"
   },
   {
    "duration": 8,
    "start_time": "2025-02-25T04:56:01.186Z"
   },
   {
    "duration": 10,
    "start_time": "2025-02-25T04:56:01.198Z"
   },
   {
    "duration": 25,
    "start_time": "2025-02-25T04:56:01.210Z"
   },
   {
    "duration": 15,
    "start_time": "2025-02-25T04:56:01.237Z"
   },
   {
    "duration": 39,
    "start_time": "2025-02-25T04:56:01.254Z"
   },
   {
    "duration": 18,
    "start_time": "2025-02-25T04:56:01.294Z"
   },
   {
    "duration": 10,
    "start_time": "2025-02-25T04:56:01.314Z"
   },
   {
    "duration": 23,
    "start_time": "2025-02-25T04:56:01.326Z"
   },
   {
    "duration": 40,
    "start_time": "2025-02-25T04:56:01.352Z"
   },
   {
    "duration": 13,
    "start_time": "2025-02-25T04:56:01.394Z"
   },
   {
    "duration": 7,
    "start_time": "2025-02-25T04:56:01.408Z"
   },
   {
    "duration": 19,
    "start_time": "2025-02-25T04:56:01.417Z"
   },
   {
    "duration": 16,
    "start_time": "2025-02-25T04:56:01.439Z"
   },
   {
    "duration": 46,
    "start_time": "2025-02-25T04:56:01.457Z"
   },
   {
    "duration": 15,
    "start_time": "2025-02-25T04:56:01.504Z"
   },
   {
    "duration": 19,
    "start_time": "2025-02-25T04:56:01.520Z"
   },
   {
    "duration": 5,
    "start_time": "2025-02-25T04:56:01.540Z"
   },
   {
    "duration": 42,
    "start_time": "2025-02-25T04:56:01.547Z"
   },
   {
    "duration": 5,
    "start_time": "2025-02-25T04:56:01.591Z"
   },
   {
    "duration": 19,
    "start_time": "2025-02-25T04:56:01.597Z"
   },
   {
    "duration": 18,
    "start_time": "2025-02-25T04:56:01.618Z"
   },
   {
    "duration": 6,
    "start_time": "2025-02-25T04:57:04.598Z"
   },
   {
    "duration": 25,
    "start_time": "2025-02-25T04:57:20.342Z"
   },
   {
    "duration": 347,
    "start_time": "2025-02-25T04:57:51.133Z"
   },
   {
    "duration": 28,
    "start_time": "2025-02-25T04:58:25.177Z"
   },
   {
    "duration": 24,
    "start_time": "2025-02-25T05:01:55.152Z"
   },
   {
    "duration": 24,
    "start_time": "2025-02-25T05:02:24.592Z"
   },
   {
    "duration": 19,
    "start_time": "2025-02-25T05:02:34.478Z"
   },
   {
    "duration": 22,
    "start_time": "2025-02-25T05:02:52.311Z"
   },
   {
    "duration": 23,
    "start_time": "2025-02-25T05:05:45.018Z"
   },
   {
    "duration": 22,
    "start_time": "2025-02-25T05:06:10.158Z"
   },
   {
    "duration": 20,
    "start_time": "2025-02-25T05:06:17.487Z"
   },
   {
    "duration": 22,
    "start_time": "2025-02-25T05:06:22.291Z"
   },
   {
    "duration": 19,
    "start_time": "2025-02-25T05:06:38.755Z"
   },
   {
    "duration": 19,
    "start_time": "2025-02-25T05:14:19.322Z"
   },
   {
    "duration": 20,
    "start_time": "2025-02-25T05:14:46.969Z"
   },
   {
    "duration": 158,
    "start_time": "2025-02-25T18:15:57.301Z"
   },
   {
    "duration": 2372,
    "start_time": "2025-02-25T18:16:03.311Z"
   },
   {
    "duration": 260,
    "start_time": "2025-02-25T18:16:05.686Z"
   },
   {
    "duration": 3,
    "start_time": "2025-02-25T18:16:05.948Z"
   },
   {
    "duration": 11,
    "start_time": "2025-02-25T18:16:05.953Z"
   },
   {
    "duration": 11,
    "start_time": "2025-02-25T18:16:05.966Z"
   },
   {
    "duration": 5,
    "start_time": "2025-02-25T18:16:05.978Z"
   },
   {
    "duration": 15,
    "start_time": "2025-02-25T18:16:05.984Z"
   },
   {
    "duration": 11,
    "start_time": "2025-02-25T18:16:06.024Z"
   },
   {
    "duration": 12,
    "start_time": "2025-02-25T18:16:06.036Z"
   },
   {
    "duration": 11,
    "start_time": "2025-02-25T18:16:06.050Z"
   },
   {
    "duration": 7,
    "start_time": "2025-02-25T18:16:06.063Z"
   },
   {
    "duration": 9,
    "start_time": "2025-02-25T18:16:06.071Z"
   },
   {
    "duration": 48,
    "start_time": "2025-02-25T18:16:06.081Z"
   },
   {
    "duration": 9,
    "start_time": "2025-02-25T18:16:06.134Z"
   },
   {
    "duration": 11,
    "start_time": "2025-02-25T18:16:06.145Z"
   },
   {
    "duration": 5,
    "start_time": "2025-02-25T18:16:06.158Z"
   },
   {
    "duration": 9,
    "start_time": "2025-02-25T18:16:06.165Z"
   },
   {
    "duration": 9,
    "start_time": "2025-02-25T18:16:06.175Z"
   },
   {
    "duration": 43,
    "start_time": "2025-02-25T18:16:06.186Z"
   },
   {
    "duration": 3,
    "start_time": "2025-02-25T18:16:06.231Z"
   },
   {
    "duration": 8,
    "start_time": "2025-02-25T18:16:06.237Z"
   },
   {
    "duration": 9,
    "start_time": "2025-02-25T18:16:06.246Z"
   },
   {
    "duration": 25,
    "start_time": "2025-02-25T18:16:06.256Z"
   },
   {
    "duration": 44,
    "start_time": "2025-02-25T18:16:06.283Z"
   },
   {
    "duration": 10,
    "start_time": "2025-02-25T18:16:06.329Z"
   },
   {
    "duration": 17,
    "start_time": "2025-02-25T18:16:06.341Z"
   },
   {
    "duration": 8,
    "start_time": "2025-02-25T18:16:06.361Z"
   },
   {
    "duration": 20,
    "start_time": "2025-02-25T18:16:06.371Z"
   },
   {
    "duration": 35,
    "start_time": "2025-02-25T18:16:06.392Z"
   },
   {
    "duration": 12,
    "start_time": "2025-02-25T18:16:06.428Z"
   },
   {
    "duration": 8,
    "start_time": "2025-02-25T18:16:06.442Z"
   },
   {
    "duration": 18,
    "start_time": "2025-02-25T18:16:06.452Z"
   },
   {
    "duration": 15,
    "start_time": "2025-02-25T18:16:06.472Z"
   },
   {
    "duration": 40,
    "start_time": "2025-02-25T18:16:06.488Z"
   },
   {
    "duration": 15,
    "start_time": "2025-02-25T18:16:06.529Z"
   },
   {
    "duration": 18,
    "start_time": "2025-02-25T18:16:06.546Z"
   },
   {
    "duration": 4,
    "start_time": "2025-02-25T18:16:06.566Z"
   },
   {
    "duration": 10,
    "start_time": "2025-02-25T18:16:06.572Z"
   },
   {
    "duration": 5,
    "start_time": "2025-02-25T18:16:06.583Z"
   },
   {
    "duration": 52,
    "start_time": "2025-02-25T18:16:06.589Z"
   },
   {
    "duration": 18,
    "start_time": "2025-02-25T18:16:06.645Z"
   },
   {
    "duration": 18,
    "start_time": "2025-02-25T18:16:06.664Z"
   },
   {
    "duration": 48,
    "start_time": "2025-02-25T18:16:06.684Z"
   },
   {
    "duration": 363,
    "start_time": "2025-02-25T18:16:06.733Z"
   },
   {
    "duration": 0,
    "start_time": "2025-02-25T18:16:07.099Z"
   },
   {
    "duration": 0,
    "start_time": "2025-02-25T18:16:07.100Z"
   },
   {
    "duration": 0,
    "start_time": "2025-02-25T18:16:07.102Z"
   },
   {
    "duration": 0,
    "start_time": "2025-02-25T18:16:07.103Z"
   },
   {
    "duration": 0,
    "start_time": "2025-02-25T18:16:07.105Z"
   },
   {
    "duration": 0,
    "start_time": "2025-02-25T18:16:07.106Z"
   },
   {
    "duration": 0,
    "start_time": "2025-02-25T18:16:07.108Z"
   },
   {
    "duration": 44,
    "start_time": "2025-02-25T18:16:29.014Z"
   },
   {
    "duration": 4,
    "start_time": "2025-02-25T18:17:29.816Z"
   },
   {
    "duration": 46,
    "start_time": "2025-02-25T18:17:47.239Z"
   },
   {
    "duration": 6,
    "start_time": "2025-02-25T18:22:21.126Z"
   },
   {
    "duration": 8,
    "start_time": "2025-02-25T18:22:55.633Z"
   },
   {
    "duration": 92,
    "start_time": "2025-02-25T18:23:23.510Z"
   },
   {
    "duration": 328,
    "start_time": "2025-02-25T18:26:46.780Z"
   },
   {
    "duration": 98,
    "start_time": "2025-02-25T18:26:58.757Z"
   },
   {
    "duration": 42,
    "start_time": "2025-02-25T18:28:02.397Z"
   },
   {
    "duration": 4,
    "start_time": "2025-02-25T18:31:37.350Z"
   },
   {
    "duration": 3,
    "start_time": "2025-02-25T18:31:48.665Z"
   },
   {
    "duration": 140,
    "start_time": "2025-02-25T18:31:55.634Z"
   },
   {
    "duration": 139,
    "start_time": "2025-02-25T18:32:08.375Z"
   },
   {
    "duration": 98,
    "start_time": "2025-02-25T18:32:24.019Z"
   },
   {
    "duration": 97,
    "start_time": "2025-02-25T18:32:36.035Z"
   },
   {
    "duration": 96,
    "start_time": "2025-02-25T18:33:08.681Z"
   },
   {
    "duration": 630,
    "start_time": "2025-02-25T18:33:50.524Z"
   },
   {
    "duration": 96,
    "start_time": "2025-02-25T18:34:08.105Z"
   },
   {
    "duration": 93,
    "start_time": "2025-02-25T18:34:41.314Z"
   },
   {
    "duration": 188,
    "start_time": "2025-02-25T18:35:24.019Z"
   },
   {
    "duration": 97,
    "start_time": "2025-02-25T18:35:52.892Z"
   },
   {
    "duration": 96,
    "start_time": "2025-02-25T18:39:19.294Z"
   },
   {
    "duration": 96,
    "start_time": "2025-02-25T18:39:35.217Z"
   },
   {
    "duration": 96,
    "start_time": "2025-02-25T18:40:12.062Z"
   },
   {
    "duration": 6,
    "start_time": "2025-02-25T18:41:17.098Z"
   },
   {
    "duration": 99,
    "start_time": "2025-02-25T18:41:18.161Z"
   },
   {
    "duration": 101,
    "start_time": "2025-02-25T18:42:31.682Z"
   },
   {
    "duration": 103,
    "start_time": "2025-02-25T18:42:46.126Z"
   },
   {
    "duration": 99,
    "start_time": "2025-02-25T18:43:07.781Z"
   },
   {
    "duration": 100,
    "start_time": "2025-02-25T18:43:22.496Z"
   },
   {
    "duration": 103,
    "start_time": "2025-02-25T18:43:29.846Z"
   },
   {
    "duration": 126,
    "start_time": "2025-02-25T18:43:55.416Z"
   },
   {
    "duration": 101,
    "start_time": "2025-02-25T18:44:09.001Z"
   },
   {
    "duration": 102,
    "start_time": "2025-02-25T18:47:17.147Z"
   },
   {
    "duration": 100,
    "start_time": "2025-02-25T18:47:52.082Z"
   },
   {
    "duration": 99,
    "start_time": "2025-02-25T18:48:20.704Z"
   },
   {
    "duration": 98,
    "start_time": "2025-02-25T18:48:40.423Z"
   },
   {
    "duration": 100,
    "start_time": "2025-02-25T18:48:52.465Z"
   },
   {
    "duration": 111,
    "start_time": "2025-02-25T18:52:58.096Z"
   },
   {
    "duration": 105,
    "start_time": "2025-02-25T18:53:18.293Z"
   },
   {
    "duration": 102,
    "start_time": "2025-02-25T18:54:40.347Z"
   },
   {
    "duration": 6,
    "start_time": "2025-02-25T18:57:18.395Z"
   },
   {
    "duration": 111,
    "start_time": "2025-02-25T18:57:19.289Z"
   },
   {
    "duration": 6,
    "start_time": "2025-02-25T18:58:16.416Z"
   },
   {
    "duration": 7,
    "start_time": "2025-02-25T18:59:01.592Z"
   },
   {
    "duration": 7,
    "start_time": "2025-02-25T18:59:26.841Z"
   },
   {
    "duration": 230,
    "start_time": "2025-02-25T18:59:33.960Z"
   },
   {
    "duration": 10,
    "start_time": "2025-02-25T19:00:24.640Z"
   },
   {
    "duration": 293,
    "start_time": "2025-02-25T19:01:41.132Z"
   },
   {
    "duration": 8,
    "start_time": "2025-02-25T19:02:07.372Z"
   },
   {
    "duration": 18,
    "start_time": "2025-02-25T19:02:17.268Z"
   },
   {
    "duration": 142,
    "start_time": "2025-02-25T19:02:23.201Z"
   },
   {
    "duration": 188,
    "start_time": "2025-02-25T19:03:01.080Z"
   },
   {
    "duration": 143,
    "start_time": "2025-02-25T19:03:57.968Z"
   },
   {
    "duration": 144,
    "start_time": "2025-02-25T19:04:30.596Z"
   },
   {
    "duration": 242,
    "start_time": "2025-02-25T19:05:38.103Z"
   },
   {
    "duration": 222,
    "start_time": "2025-02-25T19:05:47.655Z"
   },
   {
    "duration": 8,
    "start_time": "2025-02-25T19:06:39.706Z"
   },
   {
    "duration": 5,
    "start_time": "2025-02-25T19:06:56.739Z"
   },
   {
    "duration": 484,
    "start_time": "2025-02-25T19:07:05.702Z"
   },
   {
    "duration": 17,
    "start_time": "2025-02-25T19:07:15.807Z"
   },
   {
    "duration": 14,
    "start_time": "2025-02-25T19:07:24.192Z"
   },
   {
    "duration": 13,
    "start_time": "2025-02-25T19:07:33.361Z"
   },
   {
    "duration": 141,
    "start_time": "2025-02-25T19:07:34.491Z"
   },
   {
    "duration": 7,
    "start_time": "2025-02-25T19:07:55.765Z"
   },
   {
    "duration": 43,
    "start_time": "2025-02-25T19:08:38.715Z"
   },
   {
    "duration": 23,
    "start_time": "2025-02-25T19:09:43.379Z"
   },
   {
    "duration": 8,
    "start_time": "2025-02-25T19:10:49.161Z"
   },
   {
    "duration": 137,
    "start_time": "2025-02-25T19:10:57.775Z"
   },
   {
    "duration": 7,
    "start_time": "2025-02-25T19:11:03.282Z"
   },
   {
    "duration": 125,
    "start_time": "2025-02-25T19:11:18.277Z"
   },
   {
    "duration": 144,
    "start_time": "2025-02-25T19:12:11.514Z"
   },
   {
    "duration": 130,
    "start_time": "2025-02-25T19:12:16.942Z"
   },
   {
    "duration": 7,
    "start_time": "2025-02-25T19:15:38.557Z"
   },
   {
    "duration": 194,
    "start_time": "2025-02-25T19:15:54.476Z"
   },
   {
    "duration": 13,
    "start_time": "2025-02-25T19:16:16.629Z"
   },
   {
    "duration": 194,
    "start_time": "2025-02-25T19:16:19.122Z"
   },
   {
    "duration": 384,
    "start_time": "2025-02-25T19:17:47.494Z"
   },
   {
    "duration": 11,
    "start_time": "2025-02-25T19:17:56.389Z"
   },
   {
    "duration": 236,
    "start_time": "2025-02-25T19:18:41.469Z"
   },
   {
    "duration": 186,
    "start_time": "2025-02-25T19:19:54.666Z"
   },
   {
    "duration": 190,
    "start_time": "2025-02-25T19:20:54.202Z"
   },
   {
    "duration": 184,
    "start_time": "2025-02-25T19:21:12.595Z"
   },
   {
    "duration": 179,
    "start_time": "2025-02-25T19:21:31.557Z"
   },
   {
    "duration": 183,
    "start_time": "2025-02-25T19:22:24.188Z"
   },
   {
    "duration": 13,
    "start_time": "2025-02-25T19:26:10.602Z"
   },
   {
    "duration": 78,
    "start_time": "2025-02-25T19:26:30.665Z"
   },
   {
    "duration": 11,
    "start_time": "2025-02-25T21:09:30.640Z"
   },
   {
    "duration": 16,
    "start_time": "2025-02-25T21:09:53.070Z"
   },
   {
    "duration": 186,
    "start_time": "2025-02-25T21:09:59.973Z"
   },
   {
    "duration": 219,
    "start_time": "2025-02-25T21:10:17.009Z"
   },
   {
    "duration": 13,
    "start_time": "2025-02-25T21:17:56.468Z"
   },
   {
    "duration": 227,
    "start_time": "2025-02-25T21:18:02.153Z"
   },
   {
    "duration": 15,
    "start_time": "2025-02-25T21:23:17.123Z"
   },
   {
    "duration": 143,
    "start_time": "2025-02-25T21:23:56.238Z"
   },
   {
    "duration": 149,
    "start_time": "2025-02-25T21:24:49.898Z"
   },
   {
    "duration": 148,
    "start_time": "2025-02-25T21:25:45.477Z"
   },
   {
    "duration": 148,
    "start_time": "2025-02-25T21:26:09.189Z"
   },
   {
    "duration": 152,
    "start_time": "2025-02-25T21:26:32.854Z"
   },
   {
    "duration": 151,
    "start_time": "2025-02-25T21:26:41.001Z"
   },
   {
    "duration": 148,
    "start_time": "2025-02-25T21:27:00.976Z"
   },
   {
    "duration": 152,
    "start_time": "2025-02-25T21:28:24.756Z"
   },
   {
    "duration": 144,
    "start_time": "2025-02-25T21:30:02.699Z"
   },
   {
    "duration": 460,
    "start_time": "2025-02-25T21:30:58.724Z"
   },
   {
    "duration": 151,
    "start_time": "2025-02-25T21:31:53.232Z"
   },
   {
    "duration": 154,
    "start_time": "2025-02-25T21:32:56.207Z"
   },
   {
    "duration": 163,
    "start_time": "2025-02-25T21:33:05.757Z"
   },
   {
    "duration": 144,
    "start_time": "2025-02-25T21:33:16.450Z"
   },
   {
    "duration": 147,
    "start_time": "2025-02-25T21:33:35.306Z"
   },
   {
    "duration": 147,
    "start_time": "2025-02-25T21:33:46.963Z"
   },
   {
    "duration": 11,
    "start_time": "2025-02-25T21:42:54.321Z"
   },
   {
    "duration": 33,
    "start_time": "2025-02-25T21:43:51.289Z"
   },
   {
    "duration": 13,
    "start_time": "2025-02-25T21:44:13.489Z"
   },
   {
    "duration": 139,
    "start_time": "2025-02-25T21:48:41.075Z"
   },
   {
    "duration": 57,
    "start_time": "2025-02-25T21:49:30.746Z"
   },
   {
    "duration": 133,
    "start_time": "2025-02-25T21:50:31.709Z"
   },
   {
    "duration": 137,
    "start_time": "2025-02-25T22:04:01.646Z"
   },
   {
    "duration": 148,
    "start_time": "2025-02-25T22:04:06.233Z"
   },
   {
    "duration": 148,
    "start_time": "2025-02-25T22:04:46.182Z"
   },
   {
    "duration": 151,
    "start_time": "2025-02-25T22:04:58.023Z"
   },
   {
    "duration": 154,
    "start_time": "2025-02-25T22:05:18.925Z"
   },
   {
    "duration": 149,
    "start_time": "2025-02-25T22:05:45.100Z"
   },
   {
    "duration": 145,
    "start_time": "2025-02-25T22:06:04.237Z"
   },
   {
    "duration": 151,
    "start_time": "2025-02-25T22:07:38.060Z"
   },
   {
    "duration": 145,
    "start_time": "2025-02-25T22:08:05.300Z"
   },
   {
    "duration": 146,
    "start_time": "2025-02-25T22:08:14.043Z"
   },
   {
    "duration": 148,
    "start_time": "2025-02-25T22:08:24.538Z"
   },
   {
    "duration": 539,
    "start_time": "2025-02-25T22:08:45.791Z"
   },
   {
    "duration": 148,
    "start_time": "2025-02-25T22:08:52.869Z"
   },
   {
    "duration": 154,
    "start_time": "2025-02-25T22:08:59.022Z"
   },
   {
    "duration": 146,
    "start_time": "2025-02-25T22:09:25.360Z"
   },
   {
    "duration": 149,
    "start_time": "2025-02-25T22:09:32.029Z"
   },
   {
    "duration": 148,
    "start_time": "2025-02-25T22:09:42.601Z"
   },
   {
    "duration": 152,
    "start_time": "2025-02-25T22:09:55.140Z"
   },
   {
    "duration": 147,
    "start_time": "2025-02-25T22:10:01.574Z"
   },
   {
    "duration": 147,
    "start_time": "2025-02-25T22:10:05.891Z"
   },
   {
    "duration": 152,
    "start_time": "2025-02-25T22:10:12.341Z"
   },
   {
    "duration": 146,
    "start_time": "2025-02-25T22:10:18.346Z"
   },
   {
    "duration": 156,
    "start_time": "2025-02-25T22:11:22.543Z"
   },
   {
    "duration": 154,
    "start_time": "2025-02-25T22:11:30.515Z"
   },
   {
    "duration": 144,
    "start_time": "2025-02-25T22:11:39.996Z"
   },
   {
    "duration": 157,
    "start_time": "2025-02-25T22:11:57.069Z"
   },
   {
    "duration": 165,
    "start_time": "2025-02-25T22:13:02.667Z"
   },
   {
    "duration": 153,
    "start_time": "2025-02-25T22:13:20.604Z"
   },
   {
    "duration": 147,
    "start_time": "2025-02-25T22:13:29.284Z"
   },
   {
    "duration": 158,
    "start_time": "2025-02-25T22:26:15.384Z"
   },
   {
    "duration": 146,
    "start_time": "2025-02-25T22:27:08.407Z"
   },
   {
    "duration": 55,
    "start_time": "2025-02-25T22:29:24.798Z"
   },
   {
    "duration": 34,
    "start_time": "2025-02-25T22:29:57.152Z"
   },
   {
    "duration": 45,
    "start_time": "2025-02-25T22:30:32.109Z"
   },
   {
    "duration": 14,
    "start_time": "2025-02-25T22:31:14.190Z"
   },
   {
    "duration": 5,
    "start_time": "2025-02-25T22:31:23.411Z"
   },
   {
    "duration": 8,
    "start_time": "2025-02-25T22:31:46.017Z"
   },
   {
    "duration": 17,
    "start_time": "2025-02-25T22:38:23.349Z"
   },
   {
    "duration": 43,
    "start_time": "2025-02-25T22:51:08.406Z"
   },
   {
    "duration": 44,
    "start_time": "2025-02-25T22:56:19.734Z"
   },
   {
    "duration": 41,
    "start_time": "2025-02-25T22:57:23.147Z"
   },
   {
    "duration": 6,
    "start_time": "2025-02-25T22:59:28.237Z"
   },
   {
    "duration": 41,
    "start_time": "2025-02-25T22:59:52.769Z"
   },
   {
    "duration": 40,
    "start_time": "2025-02-25T23:00:20.098Z"
   },
   {
    "duration": 47,
    "start_time": "2025-02-25T23:01:26.074Z"
   },
   {
    "duration": 12,
    "start_time": "2025-02-25T23:01:49.413Z"
   },
   {
    "duration": 13,
    "start_time": "2025-02-25T23:01:51.829Z"
   },
   {
    "duration": 154,
    "start_time": "2025-02-25T23:01:54.072Z"
   },
   {
    "duration": 42,
    "start_time": "2025-02-25T23:01:57.940Z"
   },
   {
    "duration": 44,
    "start_time": "2025-02-25T23:03:51.795Z"
   },
   {
    "duration": 4,
    "start_time": "2025-02-25T23:04:40.303Z"
   },
   {
    "duration": 4,
    "start_time": "2025-02-25T23:06:48.344Z"
   },
   {
    "duration": 4,
    "start_time": "2025-02-25T23:07:46.686Z"
   },
   {
    "duration": 5,
    "start_time": "2025-02-25T23:08:02.275Z"
   },
   {
    "duration": 4,
    "start_time": "2025-02-25T23:08:06.353Z"
   },
   {
    "duration": 4,
    "start_time": "2025-02-25T23:10:52.334Z"
   },
   {
    "duration": 4,
    "start_time": "2025-02-25T23:11:29.681Z"
   },
   {
    "duration": 98,
    "start_time": "2025-02-25T23:11:54.443Z"
   },
   {
    "duration": 4,
    "start_time": "2025-02-25T23:30:15.917Z"
   },
   {
    "duration": 10,
    "start_time": "2025-02-25T23:31:10.295Z"
   },
   {
    "duration": 11,
    "start_time": "2025-02-25T23:31:42.976Z"
   },
   {
    "duration": 22,
    "start_time": "2025-02-25T23:33:17.509Z"
   },
   {
    "duration": 16,
    "start_time": "2025-02-25T23:33:55.750Z"
   },
   {
    "duration": 125,
    "start_time": "2025-02-25T23:38:39.202Z"
   },
   {
    "duration": 133,
    "start_time": "2025-02-25T23:39:30.898Z"
   },
   {
    "duration": 331,
    "start_time": "2025-02-25T23:40:00.152Z"
   },
   {
    "duration": 147,
    "start_time": "2025-02-25T23:40:32.718Z"
   },
   {
    "duration": 10,
    "start_time": "2025-02-25T23:46:46.238Z"
   },
   {
    "duration": 9,
    "start_time": "2025-02-25T23:47:04.374Z"
   },
   {
    "duration": 4,
    "start_time": "2025-02-25T23:50:08.542Z"
   },
   {
    "duration": 4,
    "start_time": "2025-02-25T23:50:22.100Z"
   },
   {
    "duration": 12,
    "start_time": "2025-02-26T00:14:08.423Z"
   },
   {
    "duration": 13,
    "start_time": "2025-02-26T00:16:00.931Z"
   },
   {
    "duration": 16,
    "start_time": "2025-02-26T00:16:10.966Z"
   },
   {
    "duration": 10,
    "start_time": "2025-02-26T00:19:07.716Z"
   },
   {
    "duration": 9,
    "start_time": "2025-02-26T00:19:37.916Z"
   },
   {
    "duration": 10,
    "start_time": "2025-02-26T00:19:56.431Z"
   },
   {
    "duration": 134,
    "start_time": "2025-02-26T00:23:52.536Z"
   },
   {
    "duration": 149,
    "start_time": "2025-02-26T00:24:04.975Z"
   },
   {
    "duration": 160,
    "start_time": "2025-02-26T00:24:19.067Z"
   },
   {
    "duration": 166,
    "start_time": "2025-02-26T00:25:09.564Z"
   },
   {
    "duration": 6,
    "start_time": "2025-02-26T00:30:46.060Z"
   },
   {
    "duration": 7,
    "start_time": "2025-02-26T00:31:48.362Z"
   },
   {
    "duration": 166,
    "start_time": "2025-02-26T00:48:54.458Z"
   },
   {
    "duration": 6,
    "start_time": "2025-02-26T01:00:34.270Z"
   },
   {
    "duration": 8,
    "start_time": "2025-02-26T01:01:11.513Z"
   },
   {
    "duration": 7,
    "start_time": "2025-02-26T01:01:56.716Z"
   },
   {
    "duration": 12,
    "start_time": "2025-02-26T01:02:06.805Z"
   },
   {
    "duration": 14,
    "start_time": "2025-02-26T01:12:57.209Z"
   },
   {
    "duration": 121,
    "start_time": "2025-02-26T01:33:41.131Z"
   },
   {
    "duration": 135,
    "start_time": "2025-02-26T01:39:15.840Z"
   },
   {
    "duration": 135,
    "start_time": "2025-02-26T01:39:37.929Z"
   },
   {
    "duration": 151,
    "start_time": "2025-02-26T01:39:56.822Z"
   },
   {
    "duration": 176,
    "start_time": "2025-02-26T01:41:29.245Z"
   },
   {
    "duration": 192,
    "start_time": "2025-02-26T01:41:40.168Z"
   },
   {
    "duration": 163,
    "start_time": "2025-02-26T01:44:43.746Z"
   },
   {
    "duration": 9,
    "start_time": "2025-02-26T01:55:56.108Z"
   },
   {
    "duration": 15,
    "start_time": "2025-02-26T01:56:29.330Z"
   },
   {
    "duration": 12,
    "start_time": "2025-02-26T02:10:08.635Z"
   },
   {
    "duration": 8,
    "start_time": "2025-02-26T02:11:31.704Z"
   },
   {
    "duration": 9,
    "start_time": "2025-02-26T02:11:49.671Z"
   },
   {
    "duration": 8,
    "start_time": "2025-02-26T02:11:56.974Z"
   },
   {
    "duration": 8,
    "start_time": "2025-02-26T02:12:32.734Z"
   },
   {
    "duration": 9,
    "start_time": "2025-02-26T02:13:40.862Z"
   },
   {
    "duration": 98,
    "start_time": "2025-02-26T02:16:50.998Z"
   },
   {
    "duration": 14,
    "start_time": "2025-02-26T02:22:08.394Z"
   },
   {
    "duration": 42,
    "start_time": "2025-02-26T02:37:23.911Z"
   },
   {
    "duration": 20,
    "start_time": "2025-02-26T02:37:39.806Z"
   },
   {
    "duration": 47,
    "start_time": "2025-02-26T02:38:27.534Z"
   },
   {
    "duration": 17,
    "start_time": "2025-02-26T02:38:57.570Z"
   },
   {
    "duration": 7,
    "start_time": "2025-02-26T02:39:06.434Z"
   },
   {
    "duration": 41,
    "start_time": "2025-02-26T02:40:12.848Z"
   },
   {
    "duration": 25,
    "start_time": "2025-02-26T02:40:43.771Z"
   },
   {
    "duration": 7,
    "start_time": "2025-02-26T02:41:55.025Z"
   },
   {
    "duration": 9,
    "start_time": "2025-02-26T02:42:25.230Z"
   },
   {
    "duration": 143,
    "start_time": "2025-02-26T02:44:17.578Z"
   },
   {
    "duration": 11,
    "start_time": "2025-02-26T02:44:32.302Z"
   },
   {
    "duration": 18,
    "start_time": "2025-02-26T02:46:55.470Z"
   },
   {
    "duration": 10,
    "start_time": "2025-02-26T02:53:26.054Z"
   },
   {
    "duration": 7,
    "start_time": "2025-02-26T02:56:27.434Z"
   },
   {
    "duration": 11,
    "start_time": "2025-02-26T02:56:44.365Z"
   },
   {
    "duration": 6,
    "start_time": "2025-02-26T03:07:45.251Z"
   },
   {
    "duration": 4,
    "start_time": "2025-02-26T03:08:07.626Z"
   },
   {
    "duration": 5,
    "start_time": "2025-02-26T03:08:23.731Z"
   },
   {
    "duration": 15,
    "start_time": "2025-02-26T03:10:43.702Z"
   },
   {
    "duration": 96,
    "start_time": "2025-02-26T03:12:49.393Z"
   },
   {
    "duration": 4,
    "start_time": "2025-02-26T03:12:59.271Z"
   },
   {
    "duration": 19,
    "start_time": "2025-02-26T03:12:59.895Z"
   },
   {
    "duration": 4,
    "start_time": "2025-02-26T03:14:19.556Z"
   },
   {
    "duration": 4,
    "start_time": "2025-02-26T03:14:34.980Z"
   },
   {
    "duration": 4,
    "start_time": "2025-02-26T03:17:25.152Z"
   },
   {
    "duration": 515,
    "start_time": "2025-02-26T03:19:03.842Z"
   },
   {
    "duration": 14,
    "start_time": "2025-02-26T03:20:28.281Z"
   },
   {
    "duration": 4,
    "start_time": "2025-02-26T03:20:35.475Z"
   },
   {
    "duration": 5,
    "start_time": "2025-02-26T03:24:22.556Z"
   },
   {
    "duration": 4,
    "start_time": "2025-02-26T03:24:47.347Z"
   },
   {
    "duration": 4,
    "start_time": "2025-02-26T03:26:29.703Z"
   },
   {
    "duration": 2,
    "start_time": "2025-02-26T03:27:04.604Z"
   },
   {
    "duration": 4,
    "start_time": "2025-02-26T03:27:11.094Z"
   },
   {
    "duration": 4,
    "start_time": "2025-02-26T03:27:28.619Z"
   },
   {
    "duration": 4,
    "start_time": "2025-02-26T03:30:12.662Z"
   }
  ],
  "colab": {
   "provenance": []
  },
  "kernelspec": {
   "display_name": "Python 3 (ipykernel)",
   "language": "python",
   "name": "python3"
  },
  "language_info": {
   "codemirror_mode": {
    "name": "ipython",
    "version": 3
   },
   "file_extension": ".py",
   "mimetype": "text/x-python",
   "name": "python",
   "nbconvert_exporter": "python",
   "pygments_lexer": "ipython3",
   "version": "3.9.19"
  },
  "toc": {
   "base_numbering": 1,
   "nav_menu": {},
   "number_sections": true,
   "sideBar": true,
   "skip_h1_title": false,
   "title_cell": "Table of Contents",
   "title_sidebar": "Contents",
   "toc_cell": false,
   "toc_position": {
    "height": "calc(100% - 180px)",
    "left": "10px",
    "top": "150px",
    "width": "282.797px"
   },
   "toc_section_display": true,
   "toc_window_display": true
  }
 },
 "nbformat": 4,
 "nbformat_minor": 1
}
